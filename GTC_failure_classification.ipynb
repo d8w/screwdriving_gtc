{
 "cells": [
  {
   "cell_type": "markdown",
   "metadata": {},
   "source": [
    "# GTC failure classification models and results\n",
    "\n",
    "In this notebook, we use GTC to classify failure modes.\n",
    "\n",
    "* Failure classification\n",
    "    * 7 modes\n",
    "        * success\n",
    "        * noscrew\n",
    "        * no hole found\n",
    "        * crossthread\n",
    "        * stripped no engage\n",
    "        * stripped\n",
    "        * partial\n",
    "\n",
    "# Results at a glance\n",
    " GTC yields an overall **98.01%** accuracy. \n",
    " It outperforms Random Forest and LSTM models."
   ]
  },
  {
   "cell_type": "markdown",
   "metadata": {},
   "source": [
    "The dataset contains a number of fields including\n",
    "* class.success - 1 sucess, 0 failure\n",
    "* label.event - beginning and end of a stage\n",
    "* label.status - 1 when a stage starts, 0 when ends\n",
    "* scalar "
   ]
  },
  {
   "cell_type": "markdown",
   "metadata": {},
   "source": [
    "# Prerequisites\n",
    "\n",
    "Download and install\n",
    "\n",
    "* [GTC](http://mathieu.guillame-bert.com/software_repo/gtc_2017_09_10.zip) \n",
    "* [Honey](http://framework.mathieu.guillame-bert.com/download_honey#honey)"
   ]
  },
  {
   "cell_type": "markdown",
   "metadata": {},
   "source": [
    "# Extract labels"
   ]
  },
  {
   "cell_type": "markdown",
   "metadata": {},
   "source": [
    "Prerequisites\n",
    "\n",
    "* data files in \n",
    "\n",
    "```bash\n",
    "../raw/label\n",
    "```\n",
    "\n",
    "* create directories \n",
    "\n",
    "```bash\n",
    "mkdir -p extracted/label\n",
    "```"
   ]
  },
  {
   "cell_type": "code",
   "execution_count": 3,
   "metadata": {},
   "outputs": [
    {
     "name": "stdout",
     "output_type": "stream",
     "text": [
      "done\n"
     ]
    }
   ],
   "source": [
    "import os\n",
    "import json\n",
    "\n",
    "dirPath = \"../raw/label/\"\n",
    "label_files = os.listdir(dirPath)\n",
    "outputFile_csv = \"extracted/labels.csv\"\n",
    "outputFile_pred = \"extracted/labels.pred\"\n",
    "outputDir_evt = \"extracted/label/\"\n",
    "\n",
    "def evt(f,t,s,v=1):\n",
    "    f.write(str(t)+\"\\t\"+str(s)+\"\\t\"+str(v)+\"\\n\")\n",
    "\n",
    "#print(label_files)\n",
    "\n",
    "f_csv = open(outputFile_csv,\"w\")\n",
    "f_csv.write(\"ssts\\tresult\\tsuccess\\n\")\n",
    "\n",
    "f_pred = open(outputFile_pred,\"w\")\n",
    "\n",
    "for f in label_files:\n",
    "    ssts = os.path.splitext(f)[0]\n",
    "\n",
    "    f_pred.write(\"Run(\"+ssts+\")\\n\")\n",
    "    \n",
    "    data = json.loads( open(dirPath+f).read() )\n",
    "\n",
    "    if (data[\"Result\"]==\"success\"):\n",
    "        r = \"1\"\n",
    "    else:\n",
    "        r = \"0\"\n",
    "\n",
    "    c = -1\n",
    "    if (data[\"Result\"]==\"success\"):\n",
    "        c = 0\n",
    "    elif (data[\"Result\"]==\"noscrew\"):\n",
    "        c = 1\n",
    "    elif (data[\"Result\"]==\"no_hole_found\"):\n",
    "        c = 2\n",
    "    elif (data[\"Result\"]==\"crossthread\"):\n",
    "        c = 3\n",
    "    elif (data[\"Result\"]==\"stripped_no_engage\"):\n",
    "        c = 4\n",
    "    elif (data[\"Result\"]==\"stripped\"):\n",
    "        c = 5\n",
    "    elif (data[\"Result\"]==\"partial\"):\n",
    "        c = 6\n",
    "\n",
    "    if c==-1:\n",
    "        print(data[\"Result\"])\n",
    "        raise \"crap with \" + data[\"Result\"]\n",
    "\n",
    "    f_pred.write(\"Outcome_\"+data[\"Result\"]+\"(\"+ssts+\")\\n\")\n",
    "        \n",
    "    f_csv.write(ssts + \"\\t\" + data[\"Result\"] + \"\\t\" + r + \"\\n\" )\n",
    "\n",
    "    f_evt = open(outputDir_evt + ssts + \".evt\" ,\"w\")\n",
    "\n",
    "    evt(f_evt,0,\"class.success\",r)\n",
    "    evt(f_evt,0,\"class.type\",c)\n",
    "    \n",
    "    if data[\"Result\"]==\"success\":\n",
    "        evt(f_evt,0,\"label:event.success\",1)\n",
    "    else:\n",
    "        evt(f_evt,0,\"label:event.fail\",1)\n",
    "\n",
    "    maxTime = 0\n",
    "    \n",
    "    for e in data[\"timeseries\"]:\n",
    "        label = e[\"label\"]\n",
    "        interval = e[\"time\"]\n",
    "        evt(f_evt,interval[0],\"label:event.begin_\"+label)\n",
    "        evt(f_evt,interval[1],\"label:event.end_\"+label)\n",
    "\n",
    "        evt(f_evt,interval[0],\"label:status.\"+label,1)\n",
    "        evt(f_evt,interval[1],\"label:status.\"+label,0)\n",
    "\n",
    "        maxTime = interval[1]\n",
    "\n",
    "    evt(f_evt,maxTime,\"label:event.end_of_annotation\")\n",
    "    \n",
    "    f_evt.close()\n",
    "    #break\n",
    "\n",
    "f_csv.close()\n",
    "f_pred.close()\n",
    "print(\"done\")"
   ]
  },
  {
   "cell_type": "markdown",
   "metadata": {},
   "source": [
    "# Extract features\n",
    "\n",
    "TODO\n",
    "to reproduce\n",
    "\n",
    "Run the honey scripts. Haven't tried.\n",
    "```bash\n",
    "honey feature_ft_v2.hny\n",
    "honey feature_motor_v2.hny\n",
    "```\n",
    "\n",
    "The results are\n",
    "\n",
    "/data/foxconn/foxconn/screwdriving_data/old/processed/\n",
    "\n",
    "* ft_v2/*.bin - force and torque in x, y and z\n",
    "* motor_v2/*.bin - current and angle"
   ]
  },
  {
   "cell_type": "markdown",
   "metadata": {},
   "source": [
    "### feature_ft_v2.hny"
   ]
  },
  {
   "cell_type": "code",
   "execution_count": 51,
   "metadata": {},
   "outputs": [
    {
     "name": "stdout",
     "output_type": "stream",
     "text": [
      "@data input:\"raw/ft\" output:\"processed/ft_v2\" extension:\"bin\"\n",
      "#@data input:\"raw/ft/sd_0_0_1456794424.csv\" output:\"processed/ft/sd_0_0_1456794424.bin\"\n",
      "\n",
      "$all = echo #.*\n",
      "\n",
      "$mf = movingFeatures $all 0.1 output:mean,sd,range\n",
      "$mf += movingFeatures $all 0.2 output:mean,sd,range\n",
      "$mf += movingFeatures $all 0.3 output:mean,sd,range\n",
      "\n",
      "$peaks += peak $all 0.5\n",
      "$peaks += peak $mf 0.5\n",
      "$peaks += peak $all 0.3\n",
      "$peaks += peak $mf 0.3\n",
      "\n",
      "$mf = skip $mf 0.02 noTail:true\n",
      "$all = skip $all 0.01 noTail:true\n",
      "\n",
      "$output = echo $all\n",
      "$output += echo $mf\n",
      "$output += echo $peaks\n",
      "\n",
      "saveBufferedBin $output file:%output\n",
      "\n",
      "\n",
      "\r\n"
     ]
    }
   ],
   "source": [
    "%%bash\n",
    "\n",
    "cat feature_ft_v2.hny"
   ]
  },
  {
   "cell_type": "markdown",
   "metadata": {},
   "source": [
    "###  feature_motor_v2.hny"
   ]
  },
  {
   "cell_type": "code",
   "execution_count": 52,
   "metadata": {},
   "outputs": [
    {
     "name": "stdout",
     "output_type": "stream",
     "text": [
      "@data input:\"raw/motor\" output:\"processed/motor_v2\" extension:\"bin\"\n",
      "#@data input:\"raw/motor/sd_0_0_1456794424.csv\" output:\"processed/motor/sd_0_0_1456794424.bin\"\n",
      "\n",
      "$all = echo #.*\n",
      "\n",
      "$mf = movingFeatures $all 0.1 output:mean,sd,range\n",
      "$mf += movingFeatures $all 0.2 output:mean,sd,range\n",
      "$mf += movingFeatures $all 0.3 output:mean,sd,range\n",
      "\n",
      "$peaks += peak $all 0.5\n",
      "$peaks += peak $mf 0.5\n",
      "$peaks += peak $all 0.3\n",
      "$peaks += peak $mf 0.3\n",
      "\n",
      "$output = echo $all\n",
      "$output += echo $mf\n",
      "$output += echo $peaks\n",
      "\n",
      "saveBufferedBin $output file:%output\n",
      "\n",
      "\n",
      "\r\n"
     ]
    }
   ],
   "source": [
    "%%bash\n",
    "\n",
    "cat feature_motor_v2.hny"
   ]
  },
  {
   "cell_type": "code",
   "execution_count": 19,
   "metadata": {},
   "outputs": [
    {
     "name": "stdout",
     "output_type": "stream",
     "text": [
      "@data input:\"/data/foxconn/foxconn/screwdriving_data/old/processed/motor;/data/foxconn/foxconn/screwdriving_data/old/processed/ft;/data/foxconn/foxconn/screwdriving_data/run19x/extracted/label\" output:\"snapshot/endofrecord\" extension:\"bin\"\n",
      "\n",
      "$all = echo #.*\n",
      "\n",
      "$limit = filter $all \"label:event\\.end_of_annotation\"\n",
      "$limit = delay $limit 0.001\n",
      "\n",
      "#$all = passIf $all \"arg1,0.5,<\" arg1:$limit\n",
      "$all = passIfState $all gate:$limit reverse:true\n",
      "\n",
      "$output = echo $all\n",
      "\n",
      "saveBufferedBin $output file:%output\n"
     ]
    }
   ],
   "source": [
    "%%bash\n",
    "\n",
    "cat extractSnapshop_lastRecord.hny"
   ]
  },
  {
   "cell_type": "code",
   "execution_count": 21,
   "metadata": {},
   "outputs": [
    {
     "name": "stderr",
     "output_type": "stream",
     "text": [
      "IOPub data rate exceeded.\n",
      "The notebook server will temporarily stop sending output\n",
      "to the client in order to avoid crashing it.\n",
      "To change this limit, set the config variable\n",
      "`--NotebookApp.iopub_data_rate_limit`.\n"
     ]
    }
   ],
   "source": [
    "%%bash\n",
    "\n",
    "# mkdir -p snapshot/endofrecord\n",
    "\n",
    "honey extractSnapshop_lastRecord.hny"
   ]
  },
  {
   "cell_type": "markdown",
   "metadata": {},
   "source": [
    "The command creates an SSTS file in binary format. Each file comprises 137 channels."
   ]
  },
  {
   "cell_type": "markdown",
   "metadata": {},
   "source": [
    "# Merge CSVs to a bin file"
   ]
  },
  {
   "cell_type": "code",
   "execution_count": 22,
   "metadata": {
    "scrolled": true
   },
   "outputs": [
    {
     "name": "stdout",
     "output_type": "stream",
     "text": [
      "offset 200\n",
      "\n",
      "sequence 0\n",
      "dataset snapshot/endofrecord/sd_0_0_1456794424.bin\n",
      "flush\n",
      "\n",
      "sequence 1\n",
      "dataset snapshot/endofrecord/sd_0_0_1456798449.bin\n",
      "flush\n",
      "\n"
     ]
    }
   ],
   "source": [
    "%%bash\n",
    "\n",
    "head merged_featurized.sevt"
   ]
  },
  {
   "cell_type": "code",
   "execution_count": 10,
   "metadata": {},
   "outputs": [
    {
     "name": "stdout",
     "output_type": "stream",
     "text": [
      "@data input:merged_featurized.sevt output:\"merged_featurized.bin\"\n",
      "\n",
      "$ALL = echo \"#.*\"\n",
      "$SEQUENCE = filter $ALL \"sequence\"\n",
      "\n",
      "$BEGIN = eq $SEQUENCE =1\n",
      "$BEGIN = rename $BEGIN begin\n",
      "$OUTPUT += echo $BEGIN\n",
      "\n",
      "$OUTPUT += echo $ALL\n",
      "saveBufferedBin $OUTPUT file:%output\n"
     ]
    }
   ],
   "source": [
    "%%bash\n",
    "\n",
    "cat merged_featurized.hny"
   ]
  },
  {
   "cell_type": "code",
   "execution_count": 23,
   "metadata": {
    "scrolled": true
   },
   "outputs": [
    {
     "name": "stdout",
     "output_type": "stream",
     "text": [
      "\tBuilding input dataset...done\n",
      "\tInput event instances: 40892181\n",
      "\tInput event symbols: 158\n",
      "\tApplying operation...\n",
      "\tOutput event instances: 0 (0%)\n",
      "\tOutput event symbols: 0 (0%)\n",
      "\tDuration: 8s\n",
      "* Remove the cache for 3 operations. 0 cache(s) remaining.\n",
      "\tStatic processing done\n",
      "done\n",
      "CPU times: user 1.98 ms, sys: 4.14 ms, total: 6.11 ms\n",
      "Wall time: 12.6 s\n"
     ]
    }
   ],
   "source": [
    "%%time\n",
    "%%bash\n",
    "\n",
    "honey merged_featurized.hny | tail"
   ]
  },
  {
   "cell_type": "markdown",
   "metadata": {},
   "source": [
    "# Failure classification\n",
    "\n",
    "Classify an observation of time sequences to one of 7 classes."
   ]
  },
  {
   "cell_type": "markdown",
   "metadata": {},
   "source": [
    "## Train a GTC-DF model\n",
    "\n",
    "* 10 fold cross validation"
   ]
  },
  {
   "cell_type": "markdown",
   "metadata": {},
   "source": [
    "### GTC configuration file"
   ]
  },
  {
   "cell_type": "code",
   "execution_count": 30,
   "metadata": {
    "scrolled": true
   },
   "outputs": [
    {
     "name": "stdout",
     "output_type": "stream",
     "text": [
      "<!--\r\n",
      "The file that contains the configuration parameters for the learning.\r\n",
      "-->\r\n",
      "\r\n",
      "<config>\r\n",
      "\r\n",
      "<option name=\"saveRules_new\" value=\"details/motives.xml\" />\r\n",
      "\r\n",
      "<!--\r\n",
      "<data path=\"featurized.sevt\" head=\"\" limit=\"-1\" />\r\n",
      "-->\r\n",
      "<data path=\"merged_featurized.bin\" head=\"\" limit=\"-1\" />\r\n",
      "\r\n",
      "<option name=\"threads\" value=\"8\" /> \r\n",
      "\r\n",
      "<option name=\"debugLevel\" value=\"1\" />  <!-- Level of verbose of the algorithm -->\r\n",
      "\r\n",
      "<option name=\"numCaseHead\" value=\"60\" />  <!-- maximum values to consider in the split -->\r\n",
      "<option name=\"maxPastHead\" value=\"-5\" />  <!-- Bounds of the histogram -->\r\n",
      "<option name=\"maxFutureHead\" value=\"5\" />  <!-- Bounds of the histogram -->\r\n",
      "\r\n",
      "<option name=\"negation\" value=\"1\" />\r\n",
      "<option name=\"maxConditions\" value=\"6\" /> <!-- max depth 6 -->\r\n",
      "\r\n",
      "<option name=\"maxLoop\" value=\"300\" /> <!-- # of boostrap 120 -->\r\n",
      "\r\n",
      "<option name=\"maxRoots\" value=\"5\" /> <!-- # of boostrap 40 -->\r\n",
      "\r\n",
      "<option name=\"realNegation\" value=\"1\" />\r\n",
      "\r\n",
      "<option name=\"minNumberOfUse\" value=\"5\" />\r\n",
      "\r\n",
      "\r\n",
      "<option name=\"symbolSampling\" value=\"1\" />\r\n",
      "\r\n",
      "<!-- <option name=\"topSymbols\" value=\"5\" /> -->\r\n",
      "\r\n",
      "<option name=\"sightDepth\" value=\"1\" />\r\n",
      "<option name=\"maxConditionsForsightDepth\" value=\"0\" />\r\n",
      "\r\n",
      "<!-- Input files -->\r\n",
      "\r\n",
      "<outputEvent>\r\n",
      "    <!--\r\n",
      "    <predicate name=\"class\\.success\" />\r\n",
      "    -->\r\n",
      "    <predicate name=\"class\\.type\" />\r\n",
      "</outputEvent>\r\n",
      "\r\n",
      "<inputEvent>\r\n",
      "\t<predicate name=\"event\\..*\" />\r\n",
      "</inputEvent>\r\n",
      "\r\n",
      "<!--\r\n",
      "<inputEventFree>\r\n",
      "\t<predicate name=\"sequence\" />\r\n",
      "</inputEventFree>\r\n",
      "\r\n",
      "<inputEventRoot>\r\n",
      "\t<predicate name=\"sequence\" />\r\n",
      "</inputEventRoot>\r\n",
      "-->\r\n",
      "\r\n",
      "<!-- \r\n",
      "<inputEventRoot>\r\n",
      "\t<predicate name=\"event\\.value.*\" />\r\n",
      "\t<predicate name=\"begin\" />\r\n",
      "</inputEventRoot>\r\n",
      " -->\r\n",
      "\r\n",
      "<inputScalar>\r\n",
      "    <predicate name=\"(scalar\\.|(?!(event\\.|label:|class))).*\" />\r\n",
      "</inputScalar>\r\n",
      "\r\n",
      "</config>\r\n"
     ]
    }
   ],
   "source": [
    "%%bash\n",
    "\n",
    "cat config_gtc.xml"
   ]
  },
  {
   "cell_type": "markdown",
   "metadata": {},
   "source": [
    "### Command to train GTC"
   ]
  },
  {
   "cell_type": "code",
   "execution_count": 27,
   "metadata": {},
   "outputs": [
    {
     "name": "stdout",
     "output_type": "stream",
     "text": [
      "GTC_HOME=/home/dwang/sandbox/gtc_2017_09_10/gtc/bin\n",
      "${GTC_HOME}/gtc crossValidationMotives --config config_gtc.xml \\\n",
      "    --outputPlot 0 \\\n",
      "    --output results/cv.csv --folds 10\n"
     ]
    }
   ],
   "source": [
    "%%bash\n",
    "\n",
    "cat learnClassifierGTC.sh"
   ]
  },
  {
   "cell_type": "markdown",
   "metadata": {},
   "source": [
    "### Train GTC "
   ]
  },
  {
   "cell_type": "code",
   "execution_count": 28,
   "metadata": {},
   "outputs": [
    {
     "name": "stdout",
     "output_type": "stream",
     "text": [
      "\n",
      "Save results\n",
      "\tROC\n",
      "\tpredictions\n",
      "\tdetails\n",
      "\tattr importance\n",
      "\tmotive importance\n",
      "\tevaluation\n",
      "\tstats\n",
      "\tinfo\n",
      "CPU times: user 19.4 ms, sys: 9.11 ms, total: 28.5 ms\n",
      "Wall time: 12min 47s\n"
     ]
    }
   ],
   "source": [
    "%%time\n",
    "%%bash\n",
    "\n",
    "bash learnClassifierGTC.sh | tail"
   ]
  },
  {
   "cell_type": "markdown",
   "metadata": {},
   "source": [
    "### Results"
   ]
  },
  {
   "cell_type": "code",
   "execution_count": 29,
   "metadata": {},
   "outputs": [
    {
     "name": "stdout",
     "output_type": "stream",
     "text": [
      "sequences\t1862\n",
      "duration_text\t12mn 43s\n",
      "duration\t763.259\n",
      "training_time_text\t12mn 23s\n",
      "training_time\t743.329\n",
      "testing_time_text\t9.5s\n",
      "testing_time\t9.52352\n",
      "folds\t10\n",
      "classes\t7\n",
      "R2\t-nan\n",
      "Correlation\t-nan\n",
      "RSME\t-nan\n",
      "MAE\tnan\n",
      "accuracy\t0.980129\n",
      "error\t0.0198711\n",
      "motives\t105226\n",
      "voteMerging\tTOP\n",
      "individualVoteMerging\tDIST\n",
      "config\tconfig_gtc.xml\n",
      "date\t22-01-2018_13-37-32\n",
      "sparceData\t0\n",
      "dataset\tmerged_featurized.bin\n"
     ]
    }
   ],
   "source": [
    "%%bash\n",
    "\n",
    "cat ./results/cv.info"
   ]
  },
  {
   "cell_type": "code",
   "execution_count": 50,
   "metadata": {},
   "outputs": [
    {
     "data": {
      "image/svg+xml": [
       "<svg height=\"400\" id=\"\" version=\"1.1\" width=\"1200\" xmlns=\"http://www.w3.org/2000/svg\" xmlns:cc=\"http://creativecommons.org/ns#\" xmlns:dc=\"http://purl.org/dc/elements/1.1/\" xmlns:inkscape=\"http://www.inkscape.org/namespaces/inkscape\" xmlns:rdf=\"http://www.w3.org/1999/02/22-rdf-syntax-ns#\" xmlns:sodipodi=\"http://sodipodi.sourceforge.net/DTD/sodipodi-0.dtd\" xmlns:svg=\"http://www.w3.org/2000/svg\" xmlns:xlink=\"http://www.w3.org/1999/xlink\">\n",
       "<defs> \t\t \t<marker id=\"Arrow1Mend\" orient=\"auto\" refX=\"0\" refY=\"0\" style=\"overflow:visible\"> \t\t\t\t\t\t\t\t   \t  <path d=\"M 0,0 5,-5 -12.5,0 5,5 0,0 z\" style=\"fill-rule:evenodd;stroke:#000000;stroke-width:1pt;marker-start:none\" transform=\"matrix(-0.4,0,0,-0.4,-4,0)\"/> \t\t\t\t\t\t\t\t\t\t\t\t\t\t\t \t</marker> \t\t\t\t\t\t\t\t\t\t\t\t\t\t\t\t\t<marker fill=\"rgb(255,255,255)\" id=\"Dot\" markerHeight=\"6\" markerWidth=\"6\" orient=\"auto\" refX=\"6\" refY=\"6\" stroke=\"rgb(0,0,0)\" stroke-width=\"2\" viewBox=\"0 0 12 12\"> \t\t\t\t\t\t\t\t\t\t\t\t\t\t\t\t\t\t\t\t\t\t<circle cx=\"6\" cy=\"6\" r=\"5\"/> \t\t\t\t\t\t\t\t\t\t\t\t\t\t\t\t\t\t\t\t\t\t\t</marker> \t\t\t\t\t\t\t\t\t\t\t\t\t\t\t\t\t\t\t\t\t\t\t  </defs><g inkscape:groupmode=\"layer\" inkscape:label=\"grid\" style=\"display:inline\"><g><title>grid</title><line style=\"fill:none;stroke-width:1;stroke:rgb(200,200,200);stroke-opacity:1;stroke-dasharray: 1,3;\" x1=\"60.50000381\" x2=\"60.50000381\" y1=\"340.5\" y2=\"60.50001526\"/>\n",
       "<line style=\"fill:none;stroke-width:1;stroke:rgb(200,200,200);stroke-opacity:1;stroke-dasharray: 1,3;\" x1=\"130.5\" x2=\"130.5\" y1=\"340.5\" y2=\"60.50001526\"/>\n",
       "<line style=\"fill:none;stroke-width:1;stroke:rgb(200,200,200);stroke-opacity:1;stroke-dasharray: 1,3;\" x1=\"200.5\" x2=\"200.5\" y1=\"340.5\" y2=\"60.50001526\"/>\n",
       "<line style=\"fill:none;stroke-width:1;stroke:rgb(200,200,200);stroke-opacity:1;stroke-dasharray: 1,3;\" x1=\"270.4999695\" x2=\"270.4999695\" y1=\"340.5\" y2=\"60.50001526\"/>\n",
       "<line style=\"fill:none;stroke-width:1;stroke:rgb(200,200,200);stroke-opacity:1;stroke-dasharray: 1,3;\" x1=\"340.5\" x2=\"340.5\" y1=\"340.5\" y2=\"60.50001526\"/>\n",
       "<line style=\"fill:none;stroke-width:1;stroke:rgb(200,200,200);stroke-opacity:1;stroke-dasharray: 1,3;\" x1=\"60.50000381\" x2=\"340.5\" y1=\"340.5\" y2=\"340.5\"/>\n",
       "<line style=\"fill:none;stroke-width:1;stroke:rgb(200,200,200);stroke-opacity:1;stroke-dasharray: 1,3;\" x1=\"60.50000381\" x2=\"340.5\" y1=\"270.5\" y2=\"270.5\"/>\n",
       "<line style=\"fill:none;stroke-width:1;stroke:rgb(200,200,200);stroke-opacity:1;stroke-dasharray: 1,3;\" x1=\"60.50000381\" x2=\"340.5\" y1=\"200.5\" y2=\"200.5\"/>\n",
       "<line style=\"fill:none;stroke-width:1;stroke:rgb(200,200,200);stroke-opacity:1;stroke-dasharray: 1,3;\" x1=\"60.50000381\" x2=\"340.5\" y1=\"130.5000153\" y2=\"130.5000153\"/>\n",
       "<line style=\"fill:none;stroke-width:1;stroke:rgb(200,200,200);stroke-opacity:1;stroke-dasharray: 1,3;\" x1=\"60.50000381\" x2=\"340.5\" y1=\"60.50001526\" y2=\"60.50001526\"/>\n",
       "<g inkscape:groupmode=\"layer\" inkscape:label=\"origin\" style=\"display:inline\"><g><title>origin</title></g></g></g></g><g inkscape:groupmode=\"layer\" inkscape:label=\"curves\" style=\"display:inline\"><g><title>curves</title><g inkscape:groupmode=\"layer\" inkscape:label=\"\" style=\"display:inline\"><g><title/><circle cx=\"60.50000381\" cy=\"340.5\" r=\"2\" style=\"fill:rgb(0,0,0)fill-opacity:1;stroke:none;\"/>\n",
       "<circle cx=\"60.50000381\" cy=\"280.5000305\" r=\"2\" style=\"fill:rgb(0,0,0)fill-opacity:1;stroke:none;\"/>\n",
       "<circle cx=\"60.50000381\" cy=\"340.5\" r=\"2\" style=\"fill:rgb(0,0,0)fill-opacity:1;stroke:none;\"/>\n",
       "<circle cx=\"60.50000381\" cy=\"162.3181915\" r=\"2\" style=\"fill:rgb(0,0,0)fill-opacity:1;stroke:none;\"/>\n",
       "<circle cx=\"61.27177429\" cy=\"136.3333282\" r=\"2\" style=\"fill:rgb(0,0,0)fill-opacity:1;stroke:none;\"/>\n",
       "<circle cx=\"60.83313751\" cy=\"62.04697037\" r=\"2\" style=\"fill:rgb(0,0,0)fill-opacity:1;stroke:none;\"/>\n",
       "<circle cx=\"75.08333588\" cy=\"60.67789841\" r=\"2\" style=\"fill:rgb(0,0,0)fill-opacity:1;stroke:none;\"/>\n",
       "</g></g><g inkscape:groupmode=\"layer\" inkscape:label=\"Class #0 (AUC: 1)\" style=\"display:inline\"><g><title>Class #0 (AUC: 1)</title><polyline points=\" 60.00000381,340 60.00000381,238.2465057 60.00000381,174.7395325 60.00000381,142.3634186 60.00000381,119.0597305 60.00000381,105.5400391 60.00000381,98.95808411 60.00000381,92.73190308 60.00000381,88.8183136 60.00000381,85.79415894 60.00000381,83.30368805 60.00000381,80.81321716 60.00000381,78.85644531 60.00000381,77.25541687 60.00000381,76.01017761 60.00000381,75.47650146 60.00000381,74.05338287 60.00000381,73.34181976 60.00000381,72.45237732 60.00000381,71.91870117 60.00000381,71.20711517 60.00000381,70.85134888 60.00000381,69.78399658 60.00000381,69.60610962 60.00000381,69.07243347 60.00000381,68.18299103 60.00000381,68.00511169 60.00000381,67.64931488 60.00000381,67.29354858 60.00000381,66.9377594 60.00000381,66.58196259 60.00000381,66.40408325 60.00000381,66.04828644 60.00000381,65.8704071 60.97222519,65.8704071 60.97222519,65.15884399 60.97222519,64.62516785 60.97222519,64.44728088 61.94445038,64.0914917 61.94445038,63.7357254 61.94445038,63.55781555 61.94445038,63.20204926 61.94445038,63.0241394 62.91666794,62.84625626 62.91666794,62.66837311 62.91666794,62.49048615 62.91666794,62.312603 62.91666794,62.13471985 62.91666794,61.95681 62.91666794,61.77892685 62.91666794,61.2452507 62.91666794,61.06736755 63.88888931,61.06736755 63.88888931,60.8894577 64.8611145,60.8894577 64.8611145,60.71157455 65.83333588,60.53369141 66.80555725,60.53369141 66.80555725,60.35580444 66.80555725,60.17789841 67.77778625,60.17789841 68.75,60.17789841 69.72222137,60.17789841 70.69444275,60.17789841 71.66667175,60.17789841 73.6111145,60.17789841 74.58333588,60.17789841 75.55555725,60.17789841 76.52777863,60.17789841 77.5,60.17789841 78.472229,60.17789841 79.44444275,60.17789841 80.41666412,60.17789841 81.38889313,60.17789841 82.3611145,60.17789841 83.33333588,60.17789841 84.30555725,60.17789841 85.27777863,60.17789841 86.25,60.17789841 88.19445038,60.17789841 89.16666412,60.17789841 90.1388855,60.17789841 92.08333588,60.17789841 93.05555725,60.17789841 94.02777863,60.17789841 95.00000763,60.17789841 95.972229,60.17789841 96.94445038,60.17789841 97.91667175,60.17789841 98.88889313,60.17789841 99.86110687,60.17789841 100.8333359,60.17789841 103.75,60.17789841 104.722229,60.17789841 105.6944504,60.17789841 106.6666718,60.17789841 107.6388931,60.17789841 108.6111069,60.17789841 109.5833282,60.17789841 110.5555573,60.17789841 112.5,60.17789841 114.4444427,60.17789841 115.4166718,60.17789841 117.3611145,60.17789841 118.3333435,60.17789841 119.3055649,60.17789841 120.2777863,60.17789841 121.2500076,60.17789841 122.222229,60.17789841 123.1944427,60.17789841 124.1666641,60.17789841 125.1388931,60.17789841 126.1110992,60.17789841 128.055542,60.17789841 130,60.17789841 132.9166718,60.17789841 133.8888855,60.17789841 134.8611145,60.17789841 135.8333282,60.17789841 137.7777863,60.17789841 138.75,60.17789841 139.722229,60.17789841 140.694458,60.17789841 141.6666565,60.17789841 143.6111145,60.17789841 145.5555573,60.17789841 145.5555573,60.00001526 147.5,60.00001526 148.4722137,60.00001526 150.4166565,60.00001526 151.3888855,60.00001526 152.3611145,60.00001526 155.277771,60.00001526 157.222229,60.00001526 158.1944427,60.00001526 160.1388855,60.00001526 166.9444427,60.00001526 176.6666718,60.00001526 193.1944427,60.00001526 219.4444427,60.00001526 340,60.00001526\" style=\"fill:none;stroke-width:1;stroke:rgb(242,12,12);stroke-opacity:1;\"/>\n",
       "</g></g><g inkscape:groupmode=\"layer\" inkscape:label=\"\" style=\"display:inline\"><g><title/><polyline points=\" 60.00000381,340 60.00000381,242.4933929 60.00000381,178.5337219 60.00000381,146.5524292 60.00000381,121.6852417 60.00000381,108.5063705 60.00000381,101.6773453 60.00000381,95.59970093 60.00000381,91.51106262 60.00000381,88.58828735 60.00000381,85.8687439 60.00000381,83.03322601 60.00000381,81.18682098 60.00000381,79.33137512 60.00000381,77.98826599 60.00000381,77.27968597 60.00000381,75.72917938 60.00000381,74.87773895 60.00000381,74.10926819 60.00000381,73.40393066 60.00000381,72.80722046 60.00000381,72.34940338 60.00000381,71.57094574 60.00000381,70.92728424 60.00000381,70.16160583 60.00000381,69.88234711 60.00000381,69.276474 60.00000381,68.77789307 60.00000381,68.39743042 60.00000381,68.02359009 60.00000381,67.75424194 60.00000381,67.5365448 60.00000381,67.29554749 60.00000381,67.19856262 62.27088165,66.97127533 62.29642105,66.28100586 62.29642105,65.69807434 62.29647827,65.46376038 64.47553253,65.07136536 64.55379486,64.86022186 64.59264374,64.5561676 64.59264374,64.24007416 64.59295654,63.91317749 65.01576996,63.76449966 65.29910278,63.59021759 65.49518585,63.4112854 65.53412628,63.21468353 65.55232239,62.93136978 65.55232239,62.62731552 65.55232239,62.28950119 65.5526123,61.94212341 65.5526123,61.62111664 65.99699402,61.58039474 66.31539917,61.41107178 66.963974,61.39213943 67.52060699,61.21697235 68.65458679,60.93849945 69.87931824,60.8060379 70.20017242,60.63907242 70.20017242,60.57582092 71.06193542,60.43391418 72.10894775,60.43346024 72.94007874,60.43310165 73.74162292,60.43310165 75.05574799,60.43310165 76.76891327,60.43310165 78.22399902,60.43310165 79.28626251,60.43310165 80.56292725,60.43310165 81.88332367,60.43310165 83.17844391,60.43310165 84.28158569,60.43310165 84.97064209,60.43305206 86.23982239,60.43305206 87.36611938,60.43305206 88.3664093,60.43305206 89.31865692,60.43305206 90.3234024,60.43305206 91.87582397,60.43305206 93.883255,60.43305206 95.12252045,60.43305206 96.74642944,60.43305206 98.29064941,60.43305206 99.84719849,60.43305206 100.7768784,60.43305206 102.0228271,60.43305206 103.3494797,60.43305206 104.3238678,60.43305206 104.9882202,60.43305206 105.7911835,60.43305206 106.9483795,60.43305206 108.2045441,60.43305206 110.1517639,60.43305206 111.0062561,60.43305206 111.5299377,60.43305206 112.1716461,60.43305206 112.947937,60.43305206 113.9514923,60.43305206 115.193367,60.43305206 116.8655167,60.43305206 118.4584732,60.43305206 119.8335495,60.43305206 120.9337921,60.43305206 122.2666168,60.43305206 123.1066589,60.43305206 123.8217468,60.43305206 124.7830887,60.43305206 125.8496246,60.43305206 126.8483963,60.43305206 127.491188,60.43305206 128.4387512,60.43305206 129.4445496,60.43305206 130.925293,60.43305206 133.0986786,60.43305206 135.3905029,60.43305206 136.9943085,60.43305206 138.237442,60.43305206 139.052536,60.43305206 140.2625122,60.43305206 143.197052,60.43305206 144.1288452,60.43305206 144.8191376,60.43305206 145.7645721,60.43305206 146.9794922,60.43305206 148.2446594,60.43305206 150.3381653,60.43305206 150.7491302,60.00001526 152.2658844,60.00001526 153.8268585,60.00001526 155.2922058,60.00001526 156.213028,60.00001526 157.7447815,60.00001526 161.1585693,60.00001526 163.2511292,60.00001526 164.2822266,60.00001526 166.6405182,60.00001526 174.5444641,60.00001526 184.2630005,60.00001526 199.5400848,60.00001526 340,60.00001526\" style=\"fill:none;stroke-width:1;stroke:rgb(242,12,12);stroke-opacity:1;stroke-dasharray: 9, 5;\"/>\n",
       "</g></g><g inkscape:groupmode=\"layer\" inkscape:label=\"\" style=\"display:inline\"><g><title/><polyline points=\" 60.00000381,340 60.00000381,234.1404266 60.00000381,171.0410614 60.00000381,138.436203 60.00000381,116.3763504 60.00000381,102.2032776 60.00000381,95.95207977 60.00000381,89.58344269 60.00000381,85.73932648 60.00000381,82.64897156 60.00000381,80.47072601 60.00000381,78.42230988 60.00000381,76.39022064 60.00000381,75.09581757 60.00000381,73.97753906 60.00000381,73.52659607 60.00000381,72.30680084 60.00000381,71.65801239 60.00000381,70.80039978 60.00000381,70.36416626 60.00000381,69.75238037 60.00000381,69.32608795 60.00000381,68.87223816 60.00000381,68.37191772 60.00000381,67.95227814 60.00000381,67.3793335 60.00000381,67.00773621 60.00000381,66.55902863 60.00000381,66.22869873 60.00000381,65.92182922 60.00000381,65.66648865 60.00000381,65.39997864 60.00000381,65.1037674 60.00000381,64.74768829 60.27097702,64.71006775 60.2829628,64.07203674 60.2829628,63.81478119 60.28302383,63.57481384 60.52888489,63.12739944 60.55400467,62.89730072 60.56573486,62.67805099 60.56573486,62.48955536 60.56604385,62.26098633 60.7426033,62.11793518 60.81631088,61.94405365 60.84442139,61.76939011 60.85193634,61.71066666 60.85426331,61.64865494 60.85426331,61.48309708 60.85426331,61.2763176 60.85455322,61.04500198 60.85455322,60.72454453 61.65016174,60.70315933 61.76073074,60.65924072 62.01422119,60.52019501 62.71010208,60.34429169 62.90896606,60.30578613 63.2041626,60.28499603 63.41717911,60.2502594 63.41717911,60.07330322 64.00971222,60.05363464 64.53090668,60.0532074 65.85192871,60.05308533 66.927948,60.05308533 68.04576874,60.05308533 69.13976288,60.05308533 69.94340515,60.05308533 70.85405731,60.05308533 71.27042389,60.05308533 72.15444946,60.05308533 72.88379669,60.05308533 73.68917847,60.05308533 74.78074646,60.05303955 75.27182007,60.05303955 76.4713974,60.05303955 77.36203003,60.05303955 78.25679016,60.05303955 78.91148376,60.05303955 80.1895752,60.05303955 80.75157166,60.05303955 81.66664124,60.05303955 82.94335938,60.05303955 83.93099213,60.05303955 84.82589722,60.05303955 85.77314758,60.05303955 86.34190369,60.05303955 87.01051331,60.05303955 87.99434662,60.05303955 89.37611389,60.05303955 90.41873169,60.05303955 91.22341156,60.05303955 92.77391052,60.05303955 93.9324646,60.05303955 96.5828476,60.05303955 98.00007629,60.05303955 99.33599091,60.05303955 100.5312958,60.05303955 102.2716064,60.05303955 102.7538757,60.05303955 104.2558517,60.05303955 106.2197418,60.05303955 107.8915024,60.05303955 109.5517426,60.05303955 111.3325119,60.05303955 112.2912445,60.05303955 113.3805008,60.05303955 114.1998749,60.05303955 115.1490707,60.05303955 116.0678635,60.05303955 117.3094635,60.05303955 118.2199249,60.05303955 118.9355164,60.05303955 120.3420639,60.05303955 121.799469,60.05303955 123.7789383,60.05303955 126.1930008,60.05303955 126.7549286,60.05303955 128.574707,60.05303955 129.5210114,60.05303955 130.4664154,60.05303955 132.0129395,60.05303955 133.5346985,60.05303955 134.677536,60.05303955 136.204071,60.05303955 137.3321838,60.05303955 138.5876923,60.05303955 139.6569977,60.00001526 140.8783264,60.00001526 142.4188538,60.00001526 143.5007629,60.00001526 144.6809235,60.00001526 146.2963867,60.00001526 148.5913696,60.00001526 149.5084229,60.00001526 150.8890381,60.00001526 153.84375,60.00001526 159.4245148,60.00001526 168.8388062,60.00001526 185.3996277,60.00001526 340,60.00001526\" style=\"fill:none;stroke-width:1;stroke:rgb(242,12,12);stroke-opacity:1;stroke-dasharray: 9, 5;\"/>\n",
       "</g></g><g inkscape:groupmode=\"layer\" inkscape:label=\"\" style=\"display:inline\"><g><title/><polyline points=\" 60.00000381,340 60.00000381,238.3025208 60.00000381,174.8088531 60.00000381,142.4278564 60.00000381,119.0864105 60.00000381,105.5813751 60.00000381,98.99084473 60.00000381,92.75824738 60.00000381,88.8551712 60.00000381,85.82106018 60.00000381,83.33155823 60.00000381,80.83474731 60.00000381,78.87876129 60.00000381,77.28607941 60.00000381,76.06248474 60.00000381,75.49505615 60.00000381,74.11639404 60.00000381,73.36084747 60.00000381,72.50361633 60.00000381,71.9434967 60.00000381,71.31362152 60.00000381,70.86405945 60.00000381,70.20888519 60.00000381,69.63882446 60.00000381,69.07868195 60.00000381,68.53005981 60.00000381,68.1259613 60.00000381,67.70808411 60.00000381,67.34623718 60.00000381,66.98892212 60.00000381,66.73173523 60.00000381,66.44208527 60.00000381,66.2021637 60.00000381,65.98036194 60.92517471,65.87765503 60.96609116,65.19728088 60.96609116,64.79666138 60.96629333,64.50898743 61.80571747,64.11035156 61.89147949,63.87941742 61.93152237,63.59906006 61.93152237,63.35279846 61.93258667,63.06624603 62.53541565,62.93096542 62.78706741,62.76724243 62.88301849,62.58771515 62.90868378,62.41350174 62.91661835,62.23840714 62.91661835,62.05928421 62.91661835,61.78896332 62.91761398,61.45412827 62.91761398,61.18209457 63.51494598,61.11471558 63.77316666,60.97450256 64.46276855,60.91711426 64.87757874,60.74519348 65.48458862,60.61425018 66.32550049,60.54575348 66.65972137,60.42950058 66.65972137,60.25020981 67.27249146,60.18307114 68.25260925,60.18161774 69.21570587,60.18123627 70.17882538,60.18119049 71.50195312,60.18119049 72.81108093,60.18119049 73.93634033,60.18119049 74.96720886,60.18119049 75.94696045,60.18119049 76.91681671,60.18119049 77.89757538,60.18119049 78.86232758,60.18119049 79.83771515,60.18102264 80.80444336,60.18102264 81.77513123,60.18102264 82.73823547,60.18102264 83.70516205,60.18102264 84.66625214,60.18102264 86.01215363,60.18102264 87.32128906,60.18102264 88.42979431,60.18102264 89.86705017,60.18102264 91.18746185,60.18102264 92.41230774,60.18102264 93.39666748,60.18102264 94.37689972,60.18102264 95.34108734,60.18102264 96.32068634,60.18102264 97.30179596,60.18102264 98.27590179,60.18102264 99.25485229,60.18102264 100.6119843,60.18102264 102.5821457,60.18102264 103.9744873,60.18102264 104.9484863,60.18102264 105.9224854,60.18102264 106.8964844,60.18102264 108.0830917,60.18102264 109.0646896,60.18102264 110.4210815,60.18102264 112.2607727,60.18102264 113.8245087,60.18102264 115.25103,60.18102264 116.7894821,60.18102264 117.7309723,60.18102264 118.7112808,60.18102264 119.6864395,60.18102264 120.6581573,60.18102264 121.6199646,60.18102264 122.5998611,60.18102264 123.5792847,60.18102264 124.5582352,60.18102264 125.9085159,60.18102264 127.7592392,60.18102264 129.8843079,60.18102264 132.0372162,60.18102264 133.0035095,60.18102264 134.1639862,60.18102264 135.215744,60.18102264 136.7834167,60.18102264 138.0544128,60.18102264 139.0395966,60.18102264 140.0976562,60.18102264 141.469696,60.18102264 142.7875824,60.18102264 144.5993958,60.18102264 145.2442627,60.00001526 146.6744232,60.00001526 148.2584991,60.00001526 149.5970001,60.00001526 150.7333832,60.00001526 152.3002319,60.00001526 155.0140381,60.00001526 156.6147614,60.00001526 157.6467743,60.00001526 160.1395111,60.00001526 166.9386292,60.00001526 176.602951,60.00001526 193.0305328,60.00001526 340,60.00001526\" style=\"fill:none;stroke-width:1;stroke:rgb(242,12,12);stroke-opacity:1;stroke-dasharray: 9, 5;\"/>\n",
       "</g></g><g inkscape:groupmode=\"layer\" inkscape:label=\"Class #1 (AUC: 1)\" style=\"display:inline\"><g><title>Class #1 (AUC: 1)</title><polyline points=\" 60.00000381,340 60.00000381,205.4143982 60.00000381,162.0994568 60.00000381,131.1602325 60.00000381,114.1436615 60.00000381,95.5801239 60.00000381,89.39228058 60.00000381,86.29837036 60.00000381,81.65745544 60.00000381,80.11050415 60.00000381,78.56354523 60.00000381,75.46963501 60.00000381,72.3757019 60.00000381,70.82875061 60.00000381,69.28179169 60.00000381,67.7348175 60.00000381,64.64087677 60.00000381,63.09394836 60.16656876,63.09394836 60.16656876,61.54697037 60.33313751,61.54697037 60.33313751,60.00001526 60.49970245,60.00001526 60.66627502,60.00001526 60.83283997,60.00001526 60.99940491,60.00001526 61.16597748,60.00001526 61.49911118,60.00001526 61.66567993,60.00001526 61.99881363,60.00001526 62.99821854,60.00001526 66.82926941,60.00001526 83.81916046,60.00001526 340,60.00001526\" style=\"fill:none;stroke-width:1;stroke:rgb(242,209,12);stroke-opacity:1;\"/>\n",
       "</g></g><g inkscape:groupmode=\"layer\" inkscape:label=\"\" style=\"display:inline\"><g><title/><polyline points=\" 60.00000381,340 60.00000381,221.0202637 60.00000381,174.0140381 60.00000381,143.887146 60.00000381,126.0524063 60.00000381,103.9054642 60.00000381,98.50358582 60.00000381,94.79415131 60.00000381,92.29125977 60.00000381,88.44380188 60.00000381,85.54303741 60.00000381,82.31358337 60.00000381,79.69832611 60.00000381,77.21934509 60.00000381,75.40464783 60.00000381,72.51116943 60.00000381,68.66114044 60.00000381,66.61863708 60.40373611,66.61863708 60.40373611,65.49835205 60.54954529,64.07814026 60.56569672,62.55939102 60.71021652,60.02175903 60.87586975,60.00452042 61.04243469,60.00075531 61.21503067,60.00075531 61.49551773,60.00075531 61.94239807,60.00075531 62.26387787,60.00075531 62.84122467,60.00001526 63.85733032,60.00001526 67.54907227,60.00001526 340,60.00001526\" style=\"fill:none;stroke-width:1;stroke:rgb(242,209,12);stroke-opacity:1;stroke-dasharray: 9, 5;\"/>\n",
       "</g></g><g inkscape:groupmode=\"layer\" inkscape:label=\"\" style=\"display:inline\"><g><title/><polyline points=\" 60.00000381,340 60.00000381,187.4517517 60.00000381,148.2290802 60.00000381,118.0437546 60.00000381,102.6886673 60.00000381,88.25721741 60.00000381,82.22815704 60.00000381,78.93221283 60.00000381,75.82948303 60.00000381,74.59733582 60.00000381,72.44004822 60.00000381,69.78768921 60.00000381,68.21656036 60.00000381,67.36808014 60.00000381,66.1400528 60.00000381,64.47537231 60.00000381,62.77709198 60.00000381,62.20521927 60.04912949,62.20521927 60.04912949,60.7275238 60.07842255,60.54260635 60.091465,60.20236206 60.12096405,60.02175903 60.28534698,60.00452042 60.45108032,60.00075531 60.5021286,60.00075531 60.66586304,60.00075531 60.7515564,60.00075531 60.95271301,60.00075531 61.1858139,60.00001526 62.28015518,60.00001526 66.12335205,60.00001526 340,60.00001526\" style=\"fill:none;stroke-width:1;stroke:rgb(242,209,12);stroke-opacity:1;stroke-dasharray: 9, 5;\"/>\n",
       "</g></g><g inkscape:groupmode=\"layer\" inkscape:label=\"\" style=\"display:inline\"><g><title/><polyline points=\" 60.00000381,340 60.00000381,204.8737946 60.00000381,161.6967163 60.00000381,130.87883 60.00000381,113.9485321 60.00000381,96.05338287 60.00000381,90.06252289 60.00000381,86.44766998 60.00000381,83.4924469 60.00000381,81.16040039 60.00000381,78.89222717 60.00000381,75.90484619 60.00000381,73.67048645 60.00000381,71.90167999 60.00000381,70.34600067 60.00000381,68.05012512 60.00000381,65.55137634 60.00000381,64.02655029 60.16772461,64.02655029 60.16772461,62.48386002 60.2677536,61.85255051 60.31228256,60.6909256 60.41298676,60.07427979 60.57329941,60.0153923 60.73915482,60.00259018 60.90626144,60.00259018 61.07272339,60.00259018 61.34431839,60.00259018 61.63943863,60.00259018 62.00514984,60.00001526 63.0076828,60.00001526 66.84025574,60.00001526 340,60.00001526\" style=\"fill:none;stroke-width:1;stroke:rgb(242,209,12);stroke-opacity:1;stroke-dasharray: 9, 5;\"/>\n",
       "</g></g><g inkscape:groupmode=\"layer\" inkscape:label=\"Class #2 (AUC: 0.998)\" style=\"display:inline\"><g><title>Class #2 (AUC: 0.998)</title><polyline points=\" 60.00000381,340 60.00000381,334.1666565 60.00000381,328.3333435 60.00000381,322.5 60.00000381,316.666687 60.00000381,305.0000305 60.30871201,305.0000305 60.30871201,299.166687 60.30871201,293.3333435 60.30871201,287.5 60.30871201,275.8333435 60.30871201,264.166687 60.30871201,258.3333435 60.30871201,246.6666718 60.30871201,235.0000153 60.30871201,229.1666718 60.30871201,223.3333588 60.30871201,211.666687 60.30871201,205.8333435 60.30871201,200 60.4630661,200 60.4630661,176.666687 60.4630661,170.8333435 60.4630661,165.0000153 60.4630661,159.166687 60.4630661,153.3333435 60.61742401,153.3333435 60.61742401,147.5000153 60.61742401,141.666687 60.77177429,141.666687 60.77177429,135.8333282 60.77177429,124.1666794 60.77177429,118.3333435 60.77177429,112.5000229 60.77177429,106.666687 60.9261322,100.8333435 60.9261322,95.00000763 61.0804863,95.00000763 61.23484421,95.00000763 61.23484421,89.16668701 61.38919449,89.16668701 61.5435524,83.33335114 61.5435524,77.50000763 61.69790649,77.50000763 61.8522644,77.50000763 62.00661469,77.50000763 62.16097641,77.50000763 62.31532669,77.50000763 62.4696846,77.50000763 62.6240387,77.50000763 62.77839661,77.50000763 62.77839661,71.66669464 62.93274689,65.83332825 62.93274689,60.00001526 63.08710098,60.00001526 63.24145889,60.00001526 63.39580917,60.00001526 63.55016708,60.00001526 63.70452118,60.00001526 63.85887909,60.00001526 64.01322937,60.00001526 64.16758728,60.00001526 64.32193756,60.00001526 64.4763031,60.00001526 64.63065338,60.00001526 64.78501129,60.00001526 64.93936157,60.00001526 65.09371948,60.00001526 65.24806976,60.00001526 65.86549377,60.00001526 66.79162598,60.00001526 66.94597626,60.00001526 67.25468445,60.00001526 67.40904236,60.00001526 67.56340027,60.00001526 68.18081665,60.00001526 68.33517456,60.00001526 68.79824066,60.00001526 69.26129913,60.00001526 69.41565704,60.00001526 69.72436523,60.00001526 70.49613953,60.00001526 71.57662964,60.00001526 71.88533783,60.00001526 72.19405365,60.00001526 72.96582794,60.00001526 74.04631042,60.00001526 75.12679291,60.00001526 76.05292511,60.00001526 76.97904968,60.00001526 79.29438019,60.00001526 81.60970306,60.00001526 83.77067566,60.00001526 87.78390503,60.00001526 95.19294739,60.00001526 112.0176468,60.00001526 155.3914032,60.00001526 340,60.00001526\" style=\"fill:none;stroke-width:1;stroke:rgb(78,242,12);stroke-opacity:1;\"/>\n",
       "</g></g><g inkscape:groupmode=\"layer\" inkscape:label=\"\" style=\"display:inline\"><g><title/><polyline points=\" 60.00000381,340 60.00000381,338.1958618 60.00000381,337.1157837 60.00000381,335.5942383 60.00000381,333.2425232 60.00000381,326.0293884 60.49457169,322.4025269 60.73331833,317.9165344 60.74212265,311.8373413 60.7457695,303.6895752 60.7457695,293.8840027 60.7457695,286.7619629 60.7457695,276.8427734 60.7457695,265.503418 60.7457695,261.2197266 60.7457695,259.5055847 60.7457695,246.3900757 60.7457695,241.6115723 60.7457695,235.6873016 60.7457695,229.1261139 60.89855576,225.6050568 60.89855576,212.9444122 60.89855576,211.0681 60.89855576,196.8621826 60.89855576,190.3302765 60.89855576,184.7832031 61.1397934,182.3471832 61.26714325,179.1063843 61.26714325,173.9963226 61.30129623,171.7032013 61.32156754,167.3346405 61.3228569,161.187561 61.32316589,153.02034 61.32316589,144.4537201 61.32326889,134.7131042 61.45698929,127.7135391 61.47303009,121.1140594 61.60821915,119.6447144 61.75305176,117.7032242 61.77341461,111.9043579 61.92625809,106.3100586 62.0851593,98.49102783 62.0930748,94.01280975 62.3430481,94.01280975 62.48093796,90.29152679 62.63285446,89.18457031 62.78218079,88.5703125 62.94452667,88.5703125 63.10108948,88.5703125 63.25318909,88.56720734 63.40575409,88.56720734 63.43203735,77.85897064 63.56045532,73.2661972 63.67022324,70.04845428 63.82952881,65.20664978 64.07226562,60.06393433 64.15426636,60.01651382 64.37854004,60.00323486 64.43447113,60.00001526 64.59089661,60.00001526 64.66146088,60.00001526 64.88301086,60.00001526 64.94980621,60.00001526 65.09797668,60.00001526 65.23659515,60.00001526 65.40783691,60.00001526 65.65184784,60.00001526 65.84076691,60.00001526 66.12307739,60.00001526 66.71006775,60.00001526 67.45288849,60.00001526 67.71091461,60.00001526 67.95701599,60.00001526 68.13219452,60.00001526 68.33007812,60.00001526 68.86006927,60.00001526 69.15454865,60.00001526 69.77946472,60.00001526 70.17319489,60.00001526 70.4848938,60.00001526 70.88993835,60.00001526 71.91105652,60.00001526 72.99147034,60.00001526 73.439888,60.00001526 73.78110504,60.00001526 74.49764252,60.00001526 75.56661987,60.00001526 76.7416687,60.00001526 77.87776184,60.00001526 78.86989594,60.00001526 81.59944153,60.00001526 83.93434143,60.00001526 86.19871521,60.00001526 90.16444397,60.00001526 97.67776489,60.00001526 114.9449844,60.00001526 340,60.00001526\" style=\"fill:none;stroke-width:1;stroke:rgb(78,242,12);stroke-opacity:1;stroke-dasharray: 9, 5;\"/>\n",
       "</g></g><g inkscape:groupmode=\"layer\" inkscape:label=\"\" style=\"display:inline\"><g><title/><polyline points=\" 60.00000381,340 60.00000381,325.2834778 60.00000381,316.2747498 60.00000381,307.9677429 60.00000381,298.8095093 60.00000381,288.4320068 60.05556488,286.0197754 60.08060455,281.7263489 60.0886879,277.5698547 60.09197998,269.755127 60.09197998,257.1637573 60.09197998,250.6253204 60.09197998,242.1945343 60.09197998,231.94104 60.09197998,221.8237915 60.09197998,211.9491882 60.09197998,199.9221191 60.09197998,189.0892487 60.09197998,182.0650177 60.09197998,175.1764832 60.13747025,172.9411011 60.13747025,158.2956238 60.13747025,151.8005524 60.13747025,144.105545 60.13747025,137.3299103 60.13747025,131.5459442 60.16553497,128.7517853 60.18346024,124.2473145 60.18346024,116.4469757 60.31964874,115.2061005 60.33617783,106.6759796 60.33759308,99.46129608 60.33790207,97.58317566 60.33790207,91.68798828 60.33800125,82.72507477 60.36637878,81.27591705 60.37795639,76.216362 60.51916504,74.64699554 60.6676445,74.412323 60.68575287,73.26285553 60.84009933,72.63484192 60.9919014,71.62926483 60.99980927,65.72852325 61.15118408,65.72852325 61.18233871,65.09280396 61.22479248,64.87002563 61.3758316,64.81151581 61.52498245,64.81151581 61.67816925,64.81151581 61.83507919,64.80841827 61.98578644,64.80841827 62.01201248,63.19305801 62.15490723,62.26675415 62.16899872,60.83960724 62.20593262,60.25688553 62.34518433,60.06393433 62.40063858,60.01651382 62.65084839,60.00323486 62.8103714,60.00001526 62.86579514,60.00001526 63.12447357,60.00001526 63.37417984,60.00001526 63.53879547,60.00001526 63.70155716,60.00001526 63.86445618,60.00001526 63.99206543,60.00001526 64.05715942,60.00001526 64.19035339,60.00001526 64.38049316,60.00001526 65.01215363,60.00001526 65.42268372,60.00001526 65.95855713,60.00001526 66.15206909,60.00001526 66.40002441,60.00001526 66.61038971,60.00001526 66.91851044,60.00001526 67.29220581,60.00001526 67.79470825,60.00001526 67.90762329,60.00001526 68.3006897,60.00001526 68.54745483,60.00001526 69.21243286,60.00001526 69.81750488,60.00001526 70.30014801,60.00001526 70.73394012,60.00001526 71.44156647,60.00001526 72.5092926,60.00001526 73.50944519,60.00001526 74.21360016,60.00001526 75.04135895,60.00001526 76.89739227,60.00001526 79.21198273,60.00001526 81.16110229,60.00001526 85.19258118,60.00001526 92.68894196,60.00001526 109.0337067,60.00001526 340,60.00001526\" style=\"fill:none;stroke-width:1;stroke:rgb(78,242,12);stroke-opacity:1;stroke-dasharray: 9, 5;\"/>\n",
       "</g></g><g inkscape:groupmode=\"layer\" inkscape:label=\"\" style=\"display:inline\"><g><title/><polyline points=\" 60.00000381,340 60.00000381,333.8402405 60.00000381,330.15271 60.00000381,324.9577637 60.00000381,316.9285583 60.00000381,308.7886353 60.18971252,305.9176941 60.27519226,301.1417542 60.30279541,295.8451233 60.31401825,287.9411316 60.31401825,276.8728638 60.31401825,268.8488159 60.31401825,259.5636292 60.31401825,248.3886261 60.31401825,240.0223236 60.31401825,234.1697998 60.31401825,224.4650574 60.31401825,215.3245392 60.31401825,209.1807404 60.31401825,202.874176 60.46934891,199.7941437 60.46934891,183.5301208 60.46934891,178.1436157 60.46934891,168.5935822 60.46934891,161.7856445 60.46934891,155.5575256 60.56517792,153.249115 60.62635803,149.3579102 60.62635803,143.1036835 60.72054672,140.9431 60.77534485,134.8642883 60.77974319,127.1312943 60.78081131,120.7189789 60.78081131,114.8227005 60.78114319,106.1472397 60.87763214,101.9141464 60.91652679,96.58882904 61.02642441,94.64480591 61.16216278,93.84355164 61.21841049,90.26038361 61.37109375,88.11626434 61.52639389,84.68291473 61.5472374,79.55841827 61.6994133,79.55841827 61.79592514,77.38790894 61.93218994,76.6272583 62.07876205,76.42752838 62.231987,76.42752838 62.38504791,76.42752838 62.54094696,76.41692352 62.69429398,76.41692352 62.75444031,70.90172577 62.87070465,67.739151 62.91633224,62.86654663 63.03000641,60.87708282 63.16788864,60.21823883 63.31692505,60.05632782 63.4731636,60.01102829 63.62628174,60.00001526 63.78239441,60.00001526 63.93772507,60.00001526 64.09181976,60.00001526 64.24367523,60.00001526 64.39881897,60.00001526 64.55175018,60.00001526 64.70593262,60.00001526 64.85892487,60.00001526 65.01110077,60.00001526 65.24571228,60.00001526 65.87119293,60.00001526 66.50345612,60.00001526 66.90631104,60.00001526 67.13243103,60.00001526 67.32585144,60.00001526 67.57249451,60.00001526 67.95285034,60.00001526 68.26560211,60.00001526 68.79455566,60.00001526 69.09156799,60.00001526 69.39801788,60.00001526 69.74091339,60.00001526 70.51580048,60.00001526 71.4721756,60.00001526 71.84449768,60.00001526 72.21495056,60.00001526 72.97872162,60.00001526 74.06302643,60.00001526 75.1432724,60.00001526 76.07227325,60.00001526 76.99521637,60.00001526 79.30878448,60.00001526 81.62156677,60.00001526 83.77925873,60.00001526 87.79627228,60.00001526 95.22094727,60.00001526 112.0275116,60.00001526 340,60.00001526\" style=\"fill:none;stroke-width:1;stroke:rgb(78,242,12);stroke-opacity:1;stroke-dasharray: 9, 5;\"/>\n",
       "</g></g><g inkscape:groupmode=\"layer\" inkscape:label=\"Class #3 (AUC: 1)\" style=\"display:inline\"><g><title>Class #3 (AUC: 1)</title><polyline points=\" 60.00000381,340 60.00000381,161.8181915 60.00000381,153.3333435 60.00000381,144.8484955 60.00000381,136.3636475 60.00000381,127.8788071 60.00000381,119.3939438 60.00000381,110.9091034 60.00000381,102.4242401 60.00000381,93.93939972 60.00000381,85.45455933 60.00000381,76.96971893 60.15309143,68.48485565 60.15309143,60.00001526 60.30617905,60.00001526 60.61235809,60.00001526 60.91854095,60.00001526 61.07162857,60.00001526 61.22471619,60.00001526 61.3778038,60.00001526 61.68398285,60.00001526 61.99015808,60.00001526 62.44942474,60.00001526 62.60251999,60.00001526 63.82722855,60.00001526 64.43959045,60.00001526 66.12356567,60.00001526 67.50136566,60.00001526 70.25697327,60.00001526 73.16566467,60.00001526 77.91143036,60.00001526 83.8819046,60.00001526 115.2651825,60.00001526 340,60.00001526\" style=\"fill:none;stroke-width:1;stroke:rgb(12,242,143);stroke-opacity:1;\"/>\n",
       "</g></g><g inkscape:groupmode=\"layer\" inkscape:label=\"\" style=\"display:inline\"><g><title/><polyline points=\" 60.00000381,340 60.00000381,307.0755615 60.00000381,292.3882141 60.00000381,194.2139282 60.00000381,173.4737549 60.00000381,159.4678345 60.00000381,152.2195129 60.00000381,142.2696228 60.00000381,130.3704224 60.00000381,114.9678497 60.00000381,110.0872498 60.00000381,94.98021698 60.24511337,84.64073944 60.36238861,76.60147858 60.51812744,60.11455154 60.92517853,60.00442505 61.20203781,60.00025177 61.36034012,60.00001526 61.51541901,60.00001526 61.79524612,60.00001526 62.21193695,60.00001526 62.52967834,60.00001526 62.82521439,60.00001526 63.13313293,60.00001526 64.36351776,60.00001526 65.19999695,60.00001526 67.21531677,60.00001526 68.80912018,60.00001526 71.64624023,60.00001526 75.40866089,60.00001526 80.427742,60.00001526 86.55696106,60.00001526 340,60.00001526\" style=\"fill:none;stroke-width:1;stroke:rgb(12,242,143);stroke-opacity:1;stroke-dasharray: 9, 5;\"/>\n",
       "</g></g><g inkscape:groupmode=\"layer\" inkscape:label=\"\" style=\"display:inline\"><g><title/><polyline points=\" 60.00000381,340 60.00000381,161.8829803 60.00000381,137.8595123 60.00000381,124.14608 60.00000381,116.4847641 60.00000381,109.7560883 60.00000381,101.9119949 60.00000381,93.48950195 60.00000381,90.77243805 60.00000381,86.25931549 60.00000381,78.3326416 60.00000381,65.64839172 60.02766037,63.79969025 60.03887177,61.37149429 60.08394241,60.11455154 60.27443314,60.00442505 60.44776535,60.00025177 60.60918427,60.00001526 60.65498734,60.00001526 60.82636261,60.00001526 61.12706757,60.00001526 61.44445038,60.00001526 61.64551926,60.00001526 62.06742477,60.00001526 63.16294098,60.00001526 63.68366623,60.00001526 65.03610229,60.00001526 66.14964294,60.00001526 68.77709961,60.00001526 70.87071228,60.00001526 75.29472351,60.00001526 81.27826691,60.00001526 340,60.00001526\" style=\"fill:none;stroke-width:1;stroke:rgb(12,242,143);stroke-opacity:1;stroke-dasharray: 9, 5;\"/>\n",
       "</g></g><g inkscape:groupmode=\"layer\" inkscape:label=\"\" style=\"display:inline\"><g><title/><polyline points=\" 60.00000381,340 60.00000381,227.5889435 60.00000381,177.4431 60.00000381,156.1029358 60.00000381,143.2326813 60.00000381,133.3093414 60.00000381,124.4941711 60.00000381,115.559433 60.00000381,107.1225128 60.00000381,98.95636749 60.00000381,91.15061951 60.00000381,79.28479004 60.09443283,72.97293854 60.13271332,64.68251038 60.28658676,60.3910675 60.56879807,60.01503372 60.79038239,60.00082397 60.96867752,60.00001526 61.11955643,60.00001526 61.34300232,60.00001526 61.63533783,60.00001526 61.97331619,60.00001526 62.26619339,60.00001526 62.60160828,60.00001526 63.79206085,60.00001526 64.44138336,60.00001526 66.12477112,60.00001526 67.50656128,60.00001526 70.26009369,60.00001526 73.17015839,60.00001526 77.91708374,60.00001526 83.88935089,60.00001526 340,60.00001526\" style=\"fill:none;stroke-width:1;stroke:rgb(12,242,143);stroke-opacity:1;stroke-dasharray: 9, 5;\"/>\n",
       "</g></g><g inkscape:groupmode=\"layer\" inkscape:label=\"Class #4 (AUC: 0.975)\" style=\"display:inline\"><g><title>Class #4 (AUC: 0.975)</title><polyline points=\" 60.00000381,340 60.15078354,340 60.30156708,340 60.30156708,284 60.45234299,284 60.60312271,284 60.75390625,284 60.90468597,228.0000153 61.05546951,228.0000153 61.20625305,228.0000153 61.35702896,228.0000153 61.50780869,228.0000153 61.65859222,228.0000153 61.96015549,228.0000153 62.11093521,228.0000153 62.5632782,228.0000153 62.86484146,228.0000153 63.31718063,228.0000153 63.46796036,228.0000153 63.6187439,228.0000153 63.76952362,228.0000153 64.22186279,228.0000153 64.67420959,228.0000153 64.82498932,228.0000153 65.12654877,228.0000153 65.88045502,228.0000153 66.63435364,228.0000153 67.08670044,228.0000153 67.53903961,228.0000153 68.74529266,228.0000153 71.61013031,116.0000076 74.7765274,60.00001526 88.64835358,60.00001526 340,60.00001526\" style=\"fill:none;stroke-width:1;stroke:rgb(12,143,242);stroke-opacity:1;\"/>\n",
       "</g></g><g inkscape:groupmode=\"layer\" inkscape:label=\"\" style=\"display:inline\"><g><title/><polyline points=\" 60.00000381,340 60.24026871,340 60.49752808,340 60.50835419,328.2733765 60.64575195,324.0846863 60.79241562,322.6363831 60.95989227,322.1935425 61.31829453,310.623291 61.46052933,306.2586365 61.71652603,306.2586365 61.96720123,304.901947 62.1198349,304.5144043 62.39113235,304.4086609 62.66924286,304.4086609 63.06077957,304.3914185 63.51189041,304.3914185 63.82458115,304.3860779 64.32297516,304.3860779 64.47711945,304.3860779 64.75196838,304.3860779 65.03884888,304.3860779 65.4916687,304.3860779 65.79729462,304.3860779 66.18560791,304.3860779 66.50480652,304.3860779 67.67819977,304.3860779 68.40573883,304.3860779 69.07209015,304.3860779 69.55186462,304.3860779 70.75161743,304.3860779 73.73580933,210.3815613 77.30379486,60.52486801 340,60.52486801\" style=\"fill:none;stroke-width:1;stroke:rgb(12,143,242);stroke-opacity:1;stroke-dasharray: 9, 5;\"/>\n",
       "</g></g><g inkscape:groupmode=\"layer\" inkscape:label=\"\" style=\"display:inline\"><g><title/><polyline points=\" 60.00000381,340 60.02668762,340 60.0708313,340 60.08164978,229.2784424 60.11294556,192.0914001 60.25972366,190.6431274 60.42571259,190.2002563 60.46970367,112.6334229 60.6086731,108.2687378 60.65241241,108.2687378 60.69344711,106.9120636 60.84340286,106.5245132 61.01128006,106.4187775 61.0714035,106.4187775 61.25790024,106.401535 61.59999847,106.401535 61.90442276,106.3961716 62.09624481,106.3961716 62.1428833,106.3961716 62.30984497,106.3961716 62.59802628,106.3961716 62.94247437,106.3961716 63.13673401,106.3961716 63.43227005,106.3961716 63.64111328,106.3961716 64.17980957,106.3961716 64.58577728,106.3961716 65.04971313,106.3961716 65.52332306,106.3961716 66.73565674,106.3961716 69.38525391,78.38830566 72.03269958,60.52486801 340,60.52486801\" style=\"fill:none;stroke-width:1;stroke:rgb(12,143,242);stroke-opacity:1;stroke-dasharray: 9, 5;\"/>\n",
       "</g></g><g inkscape:groupmode=\"layer\" inkscape:label=\"\" style=\"display:inline\"><g><title/><polyline points=\" 60.00000381,340 60.09110641,340 60.24181747,340 60.27876282,299.9628296 60.38562012,285.6616516 60.52254486,280.7169189 60.72504425,279.204834 60.87445068,239.7016296 60.98667908,224.7997284 61.13599396,224.7997284 61.27375412,220.1677856 61.42268753,218.8445587 61.63262177,218.483551 61.83692169,218.483551 62.10472107,218.4247437 62.5411644,218.4247437 62.85997009,218.4064331 63.14850998,218.4064331 63.29909134,218.4064331 63.51102448,218.4064331 63.77123642,218.4064331 64.21253204,218.4064331 64.50447083,218.4064331 64.79098511,218.4064331 65.12758636,218.4064331 65.88480377,218.4064331 66.54165649,218.4064331 67.02630615,218.4064331 67.54891205,218.4064331 68.75427246,218.4064331 71.62530518,122.7815628 74.7880249,61.79201508 340,61.79201508\" style=\"fill:none;stroke-width:1;stroke:rgb(12,143,242);stroke-opacity:1;stroke-dasharray: 9, 5;\"/>\n",
       "</g></g><g inkscape:groupmode=\"layer\" inkscape:label=\"Class #5 (AUC: 0.999)\" style=\"display:inline\"><g><title>Class #5 (AUC: 0.999)</title><polyline points=\" 60.00000381,340 60.00000381,320 60.00000381,300 60.00000381,280.0000305 60.00000381,260 60.00000381,240.0000153 60.00000381,220 60.00000381,200 60.00000381,180 60.00000381,160.0000153 60.00000381,140.0000153 60.00000381,120.0000305 60.00000381,100 60.15151596,80.00001526 60.30303192,80.00001526 60.45454788,80.00001526 60.75757599,80.00001526 60.90909195,80.00001526 61.06060791,80.00001526 61.21212387,80.00001526 61.51515198,80.00001526 61.96969604,80.00001526 62.27272797,60.00001526 62.42424393,60.00001526 62.57575607,60.00001526 62.72727203,60.00001526 62.87878799,60.00001526 63.03030396,60.00001526 63.33333969,60.00001526 64.09091187,60.00001526 64.54545593,60.00001526 64.84848785,60.00001526 65.75757599,60.00001526 66.66667175,60.00001526 67.57575989,60.00001526 68.33333588,60.00001526 70.60606384,60.00001526 73.78787994,60.00001526 80.60606384,60.00001526 97.72727203,60.00001526 149.2424316,60.00001526 340,60.00001526\" style=\"fill:none;stroke-width:1;stroke:rgb(78,12,242);stroke-opacity:1;\"/>\n",
       "</g></g><g inkscape:groupmode=\"layer\" inkscape:label=\"\" style=\"display:inline\"><g><title/><polyline points=\" 60.00000381,340 60.00000381,336.7140198 60.00000381,331.2348633 60.00000381,326.6473389 60.00000381,321.2602844 60.00000381,315.6881104 60.00000381,309.8817444 60.00000381,270.837738 60.00000381,248.503067 60.00000381,225.6513672 60.00000381,202.8544006 60.00000381,173.9694519 60.00000381,139.1745758 60.36506271,129.0090332 60.50152588,114.0391388 60.87607193,112.4421082 61.14938736,112.2713776 61.30753708,112.2188339 61.45862198,112.2188339 61.632164,112.2126312 62.04460144,112.2126312 62.50120544,112.2126312 62.99597168,95.42157745 63.25541687,95.42157745 63.40894699,60.00001526 63.56430054,60.00001526 63.8170433,60.00001526 64.09473419,60.00001526 64.50637054,60.00001526 65.37255859,60.00001526 65.81436157,60.00001526 66.12765503,60.00001526 67.2522049,60.00001526 68.05456543,60.00001526 68.96461487,60.00001526 70.03262329,60.00001526 72.40702057,60.00001526 76.01728821,60.00001526 83.2226181,60.00001526 101.3688583,60.00001526 340,60.00001526\" style=\"fill:none;stroke-width:1;stroke:rgb(78,12,242);stroke-opacity:1;stroke-dasharray: 9, 5;\"/>\n",
       "</g></g><g inkscape:groupmode=\"layer\" inkscape:label=\"\" style=\"display:inline\"><g><title/><polyline points=\" 60.00000381,340 60.00000381,306.2540588 60.00000381,278.437561 60.00000381,260.6506958 60.00000381,242.0643311 60.00000381,221.4072266 60.00000381,188.8879242 60.00000381,166.7661133 60.00000381,146.5964966 60.00000381,126.6564102 60.00000381,110.6532364 60.00000381,102.4152069 60.00000381,73.17795563 60.04434967,69.61207581 60.0722847,67.45326233 60.12813568,66.75215149 60.29397202,66.58141327 60.34607697,66.52884674 60.49739838,66.52884674 60.66967392,66.52266693 60.9798851,66.52266693 61.3272171,66.52266693 61.50460052,62.42325211 61.5500145,62.42325211 61.58947372,60.00001526 61.74203873,60.00001526 61.7872963,60.00001526 61.95721054,60.00001526 62.26691055,60.00001526 62.91119003,60.00001526 63.35860062,60.00001526 63.68222809,60.00001526 64.37579346,60.00001526 65.3860321,60.00001526 66.07608032,60.00001526 66.64064026,60.00001526 68.80490875,60.00001526 71.56378174,60.00001526 78.15166473,60.00001526 93.89396667,60.00001526 340,60.00001526\" style=\"fill:none;stroke-width:1;stroke:rgb(78,12,242);stroke-opacity:1;stroke-dasharray: 9, 5;\"/>\n",
       "</g></g><g inkscape:groupmode=\"layer\" inkscape:label=\"\" style=\"display:inline\"><g><title/><polyline points=\" 60.00000381,340 60.00000381,328.7809753 60.00000381,310.0739441 60.00000381,294.4111328 60.00000381,276.0185852 60.00000381,256.9940186 60.00000381,237.1698303 60.00000381,216.5285339 60.00000381,196.6048126 60.00000381,174.915863 60.00000381,153.4138794 60.00000381,133.6587677 60.00000381,104.9922943 60.15140533,92.81759644 60.24678421,85.44702148 60.43746948,83.0532074 60.63926315,82.47032166 60.81420898,82.29086304 60.96504974,82.29086304 61.18544769,82.26969147 61.51161957,82.26969147 61.96253204,82.26969147 62.20753098,68.27345276 62.35941696,68.27345276 62.49412918,60.00001526 62.64843369,60.00001526 62.80115128,60.00001526 63.01252365,60.00001526 63.3407135,60.00001526 64.07725525,60.00001526 64.51319885,60.00001526 64.8611145,60.00001526 65.77033997,60.00001526 66.68378448,60.00001526 67.56233215,60.00001526 68.35251617,60.00001526 70.62236786,60.00001526 73.80644226,60.00001526 80.61701965,60.00001526 97.72356415,60.00001526 340,60.00001526\" style=\"fill:none;stroke-width:1;stroke:rgb(78,12,242);stroke-opacity:1;stroke-dasharray: 9, 5;\"/>\n",
       "</g></g><g inkscape:groupmode=\"layer\" inkscape:label=\"Class #6 (AUC: 0.959)\" style=\"display:inline\"><g><title>Class #6 (AUC: 0.959)</title><polyline points=\" 60.00000381,340 60.15094376,340 60.15094376,300 60.15094376,260 60.15094376,220 60.30188751,220 60.45283127,220 60.60377502,220 60.75471497,220 60.90566635,220 61.20755005,220 61.3584938,220 61.50943756,220 61.81132126,220 61.96226501,220 62.26414871,220 63.16981506,220 63.47169876,220 63.77358246,220 64.0754776,220 64.83019257,220 65.28302765,220 65.7358551,220 67.24528503,220 68,180 69.05661011,180 70.71697998,180 71.92453003,180 72.98113251,180 75.09434509,180 77.96226501,180 83.69812012,100 96.52830505,60.00001526 135.92453,60.00001526 340,60.00001526\" style=\"fill:none;stroke-width:1;stroke:rgb(242,12,209);stroke-opacity:1;\"/>\n",
       "</g></g><g inkscape:groupmode=\"layer\" inkscape:label=\"\" style=\"display:inline\"><g><title/><polyline points=\" 60.00000381,340 60.24119949,340 60.35794449,331.6236572 60.36252213,323.3216248 60.36365509,307.5715637 60.49718094,302.53302 60.64338684,268.1759644 60.79765701,268.1759644 61.05031204,260.8780518 61.21944046,260.789856 61.49214935,260.789856 61.75566483,260.789856 62.03108978,260.7837524 62.31877899,260.7837524 62.59091568,260.7837524 62.90851974,260.7837524 63.78211975,260.7837524 64.09580994,260.7837524 64.37447357,260.7837524 64.91736603,260.7837524 65.87189484,260.7837524 66.3436203,260.7837524 67.00923157,260.7837524 68.83672333,260.7837524 69.6858139,225.4402161 70.64775085,225.4402161 72.38379669,225.4402161 73.74134064,225.4402161 74.99516296,225.4402161 77.0921936,225.4402161 80.52074432,225.4402161 86.23971558,207.5505066 100.2011566,60.40187073 340,60.40187073\" style=\"fill:none;stroke-width:1;stroke:rgb(242,12,209);stroke-opacity:1;stroke-dasharray: 9, 5;\"/>\n",
       "</g></g><g inkscape:groupmode=\"layer\" inkscape:label=\"\" style=\"display:inline\"><g><title/><polyline points=\" 60.00000381,340 60.02727127,340 60.03860855,232.6287079 60.04283905,224.3266754 60.04397964,109.581665 60.07093811,104.5431366 60.11000824,103.1843643 60.26104736,103.1843643 60.30421829,102.4861298 60.57714844,102.3979645 60.63822937,102.3979645 60.69104004,102.3979645 60.96806335,102.3918152 61.25178909,102.3918152 61.4200058,102.3918152 61.62391281,102.3918152 62.39608383,102.3918152 62.71253967,102.3918152 62.88101196,102.3918152 63.21658325,102.3918152 63.65222931,102.3918152 64.10480499,102.3918152 64.35821533,102.3918152 65.54632568,102.3918152 66.20005798,93.44694519 67.3603363,93.44694519 68.91706085,93.44694519 69.91419983,93.44694519 70.83327484,93.44694519 72.98464203,93.44694519 75.3288269,93.44694519 80.93895721,75.55725861 92.76999664,60.40187073 340,60.40187073\" style=\"fill:none;stroke-width:1;stroke:rgb(242,12,209);stroke-opacity:1;stroke-dasharray: 9, 5;\"/>\n",
       "</g></g><g inkscape:groupmode=\"layer\" inkscape:label=\"\" style=\"display:inline\"><g><title/><polyline points=\" 60.00000381,340 60.09310532,340 60.13181305,311.4013062 60.14625549,283.0564575 60.15013885,229.2822876 60.2421875,212.0797577 60.37558746,207.4406128 60.52861023,207.4406128 60.67386246,205.0566864 60.88021469,204.7556915 61.08818054,204.7556915 61.26198578,204.7556915 61.48018265,204.7346802 61.72850037,204.7346802 61.94075394,204.7346802 62.26116562,204.7346802 63.08449936,204.7346802 63.42747116,204.7346802 63.64474869,204.7346802 64.06204987,204.7346802 64.79204559,204.7346802 65.26885986,204.7346802 65.73016357,204.7346802 67.23738098,204.7346802 67.99275208,174.1950226 69.05239868,174.1950226 70.71343994,174.1950226 71.91365814,174.1950226 72.97489929,174.1950226 75.08496857,174.1950226 77.95162201,174.1950226 83.70089722,113.1156921 96.53103638,61.37201691 340,61.37201691\" style=\"fill:none;stroke-width:1;stroke:rgb(242,12,209);stroke-opacity:1;stroke-dasharray: 9, 5;\"/>\n",
       "</g></g><g inkscape:groupmode=\"layer\" inkscape:label=\"\" style=\"display:inline\"><g><title/><polyline points=\" 60.00000381,340 340,60.00001526\" style=\"fill:none;stroke-width:1;stroke:rgb(0,0,0);stroke-opacity:1;stroke-dasharray: 9, 5;\"/>\n",
       "</g></g></g></g><g inkscape:groupmode=\"layer\" inkscape:label=\"X axis\" style=\"display:inline\"><g><title>X axis</title><line style=\"fill:none;stroke-width:1;stroke:rgb(0,0,0);stroke-opacity:1;marker-end:url(#Arrow1Mend);\" x1=\"60.50000381\" x2=\"340.5\" y1=\"340.5\" y2=\"340.5\"/>\n",
       "<line style=\"fill:none;stroke-width:1;stroke:rgb(0,0,0);stroke-opacity:1;\" x1=\"95.50000763\" x2=\"95.50000763\" y1=\"338.5\" y2=\"340.5\"/>\n",
       "<line style=\"fill:none;stroke-width:1;stroke:rgb(0,0,0);stroke-opacity:1;\" x1=\"165.5\" x2=\"165.5\" y1=\"338.5\" y2=\"340.5\"/>\n",
       "<line style=\"fill:none;stroke-width:1;stroke:rgb(0,0,0);stroke-opacity:1;\" x1=\"235.4999847\" x2=\"235.4999847\" y1=\"338.5\" y2=\"340.5\"/>\n",
       "<line style=\"fill:none;stroke-width:1;stroke:rgb(0,0,0);stroke-opacity:1;\" x1=\"305.5000305\" x2=\"305.5000305\" y1=\"338.5\" y2=\"340.5\"/>\n",
       "<line style=\"fill:none;stroke-width:1;stroke:rgb(0,0,0);stroke-opacity:1;\" x1=\"60.50000381\" x2=\"60.50000381\" y1=\"336.5\" y2=\"340.5\"/>\n",
       "<text dy=\"11\" style=\"fill:rgb(0,0,0)fill-opacity:1;stroke:none;font-family:'Times New Roman';font-size:11px;text-anchor:middle;\" x=\"60.50000381\" y=\"348.5\">0.00</text>\n",
       "<line style=\"fill:none;stroke-width:1;stroke:rgb(0,0,0);stroke-opacity:1;\" x1=\"130.5\" x2=\"130.5\" y1=\"336.5\" y2=\"340.5\"/>\n",
       "<text dy=\"11\" style=\"fill:rgb(0,0,0)fill-opacity:1;stroke:none;font-family:'Times New Roman';font-size:11px;text-anchor:middle;\" x=\"130.5\" y=\"348.5\">0.25</text>\n",
       "<line style=\"fill:none;stroke-width:1;stroke:rgb(0,0,0);stroke-opacity:1;\" x1=\"200.5\" x2=\"200.5\" y1=\"336.5\" y2=\"340.5\"/>\n",
       "<text dy=\"11\" style=\"fill:rgb(0,0,0)fill-opacity:1;stroke:none;font-family:'Times New Roman';font-size:11px;text-anchor:middle;\" x=\"200.5\" y=\"348.5\">0.50</text>\n",
       "<line style=\"fill:none;stroke-width:1;stroke:rgb(0,0,0);stroke-opacity:1;\" x1=\"270.4999695\" x2=\"270.4999695\" y1=\"336.5\" y2=\"340.5\"/>\n",
       "<text dy=\"11\" style=\"fill:rgb(0,0,0)fill-opacity:1;stroke:none;font-family:'Times New Roman';font-size:11px;text-anchor:middle;\" x=\"270.4999695\" y=\"348.5\">0.75</text>\n",
       "<line style=\"fill:none;stroke-width:1;stroke:rgb(0,0,0);stroke-opacity:1;\" x1=\"340.5\" x2=\"340.5\" y1=\"336.5\" y2=\"340.5\"/>\n",
       "<text dy=\"11\" style=\"fill:rgb(0,0,0)fill-opacity:1;stroke:none;font-family:'Times New Roman';font-size:11px;text-anchor:middle;\" x=\"340.5\" y=\"348.5\">1.00</text>\n",
       "<text dy=\"11\" style=\"fill:rgb(0,0,0)fill-opacity:1;stroke:none;font-family:'Times New Roman';font-size:11px;text-anchor:middle;\" x=\"200.5\" y=\"370.5\">False positive rate</text>\n",
       "</g></g><g inkscape:groupmode=\"layer\" inkscape:label=\"Y axis\" style=\"display:inline\"><g><title>Y axis</title><line style=\"fill:none;stroke-width:1;stroke:rgb(0,0,0);stroke-opacity:1;marker-end:url(#Arrow1Mend);\" x1=\"60.50000381\" x2=\"60.50000381\" y1=\"340.5\" y2=\"60.50000381\"/>\n",
       "<line style=\"fill:none;stroke-width:1;stroke:rgb(0,0,0);stroke-opacity:1;\" x1=\"60.50000381\" x2=\"62.5\" y1=\"305.5\" y2=\"305.5\"/>\n",
       "<line style=\"fill:none;stroke-width:1;stroke:rgb(0,0,0);stroke-opacity:1;\" x1=\"60.50000381\" x2=\"62.5\" y1=\"235.4999847\" y2=\"235.4999847\"/>\n",
       "<line style=\"fill:none;stroke-width:1;stroke:rgb(0,0,0);stroke-opacity:1;\" x1=\"60.50000381\" x2=\"62.5\" y1=\"165.5000153\" y2=\"165.5000153\"/>\n",
       "<line style=\"fill:none;stroke-width:1;stroke:rgb(0,0,0);stroke-opacity:1;\" x1=\"60.50000381\" x2=\"62.5\" y1=\"95.49998474\" y2=\"95.49998474\"/>\n",
       "<line style=\"fill:none;stroke-width:1;stroke:rgb(0,0,0);stroke-opacity:1;\" x1=\"60.50000381\" x2=\"64.50000763\" y1=\"340.5\" y2=\"340.5\"/>\n",
       "<text dy=\"5.5\" style=\"fill:rgb(0,0,0)fill-opacity:1;stroke:none;font-family:'Times New Roman';font-size:11px;text-anchor:end;\" x=\"52.50000381\" y=\"340.5\">0.00</text>\n",
       "<line style=\"fill:none;stroke-width:1;stroke:rgb(0,0,0);stroke-opacity:1;\" x1=\"60.50000381\" x2=\"64.50000763\" y1=\"270.5\" y2=\"270.5\"/>\n",
       "<text dy=\"5.5\" style=\"fill:rgb(0,0,0)fill-opacity:1;stroke:none;font-family:'Times New Roman';font-size:11px;text-anchor:end;\" x=\"52.50000381\" y=\"270.5\">0.25</text>\n",
       "<line style=\"fill:none;stroke-width:1;stroke:rgb(0,0,0);stroke-opacity:1;\" x1=\"60.50000381\" x2=\"64.50000763\" y1=\"200.5\" y2=\"200.5\"/>\n",
       "<text dy=\"5.5\" style=\"fill:rgb(0,0,0)fill-opacity:1;stroke:none;font-family:'Times New Roman';font-size:11px;text-anchor:end;\" x=\"52.50000381\" y=\"200.5\">0.50</text>\n",
       "<line style=\"fill:none;stroke-width:1;stroke:rgb(0,0,0);stroke-opacity:1;\" x1=\"60.50000381\" x2=\"64.50000763\" y1=\"130.5000153\" y2=\"130.5000153\"/>\n",
       "<text dy=\"5.5\" style=\"fill:rgb(0,0,0)fill-opacity:1;stroke:none;font-family:'Times New Roman';font-size:11px;text-anchor:end;\" x=\"52.50000381\" y=\"130.5000153\">0.75</text>\n",
       "<line style=\"fill:none;stroke-width:1;stroke:rgb(0,0,0);stroke-opacity:1;\" x1=\"60.50000381\" x2=\"64.50000763\" y1=\"60.49999237\" y2=\"60.49999237\"/>\n",
       "<text dy=\"5.5\" style=\"fill:rgb(0,0,0)fill-opacity:1;stroke:none;font-family:'Times New Roman';font-size:11px;text-anchor:end;\" x=\"52.50000381\" y=\"60.49999237\">1.00</text>\n",
       "<text dy=\"5.5\" style=\"fill:rgb(0,0,0)fill-opacity:1;stroke:none;font-family:'Times New Roman';font-size:11px;text-anchor:middle;\" transform=\"rotate(-90 15.00000095 200)\" x=\"15.50000095\" y=\"200.5\">True positive rate</text>\n",
       "</g></g><text dy=\"8.25\" style=\"fill:rgb(0,0,0)fill-opacity:1;stroke:none;font-family:'Times New Roman';font-size:16.5px;text-anchor:middle;\" x=\"200.5\" y=\"30.50000191\"/>\n",
       "<g inkscape:groupmode=\"layer\" inkscape:label=\"Legend\" style=\"display:inline\"><g><title>Legend</title><text dy=\"5.5\" style=\"fill:rgb(0,0,0)fill-opacity:1;stroke:none;font-family:'Times New Roman';font-size:11px;text-anchor:start;\" x=\"264.5\" y=\"60.50000381\">Class #0 (AUC: 1)</text>\n",
       "<line style=\"fill:none;stroke-width:1;stroke:rgb(242,12,12);stroke-opacity:1;\" x1=\"240.5000153\" x2=\"256.5000305\" y1=\"60.50000381\" y2=\"60.50000381\"/>\n",
       "<text dy=\"5.5\" style=\"fill:rgb(0,0,0)fill-opacity:1;stroke:none;font-family:'Times New Roman';font-size:11px;text-anchor:start;\" x=\"264.5\" y=\"80.5\">Class #1 (AUC: 1)</text>\n",
       "<line style=\"fill:none;stroke-width:1;stroke:rgb(242,209,12);stroke-opacity:1;\" x1=\"240.5000153\" x2=\"256.5000305\" y1=\"80.5\" y2=\"80.5\"/>\n",
       "<text dy=\"5.5\" style=\"fill:rgb(0,0,0)fill-opacity:1;stroke:none;font-family:'Times New Roman';font-size:11px;text-anchor:start;\" x=\"264.5\" y=\"100.5\">Class #2 (AUC: 0.998)</text>\n",
       "<line style=\"fill:none;stroke-width:1;stroke:rgb(78,242,12);stroke-opacity:1;\" x1=\"240.5000153\" x2=\"256.5000305\" y1=\"100.5\" y2=\"100.5\"/>\n",
       "<text dy=\"5.5\" style=\"fill:rgb(0,0,0)fill-opacity:1;stroke:none;font-family:'Times New Roman';font-size:11px;text-anchor:start;\" x=\"264.5\" y=\"120.5000076\">Class #3 (AUC: 1)</text>\n",
       "<line style=\"fill:none;stroke-width:1;stroke:rgb(12,242,143);stroke-opacity:1;\" x1=\"240.5000153\" x2=\"256.5000305\" y1=\"120.5000076\" y2=\"120.5000076\"/>\n",
       "<text dy=\"5.5\" style=\"fill:rgb(0,0,0)fill-opacity:1;stroke:none;font-family:'Times New Roman';font-size:11px;text-anchor:start;\" x=\"264.5\" y=\"140.5000153\">Class #4 (AUC: 0.975)</text>\n",
       "<line style=\"fill:none;stroke-width:1;stroke:rgb(12,143,242);stroke-opacity:1;\" x1=\"240.5000153\" x2=\"256.5000305\" y1=\"140.5000153\" y2=\"140.5000153\"/>\n",
       "<text dy=\"5.5\" style=\"fill:rgb(0,0,0)fill-opacity:1;stroke:none;font-family:'Times New Roman';font-size:11px;text-anchor:start;\" x=\"264.5\" y=\"160.5\">Class #5 (AUC: 0.999)</text>\n",
       "<line style=\"fill:none;stroke-width:1;stroke:rgb(78,12,242);stroke-opacity:1;\" x1=\"240.5000153\" x2=\"256.5000305\" y1=\"160.5\" y2=\"160.5\"/>\n",
       "<text dy=\"5.5\" style=\"fill:rgb(0,0,0)fill-opacity:1;stroke:none;font-family:'Times New Roman';font-size:11px;text-anchor:start;\" x=\"264.5\" y=\"180.5\">Class #6 (AUC: 0.959)</text>\n",
       "<line style=\"fill:none;stroke-width:1;stroke:rgb(242,12,209);stroke-opacity:1;\" x1=\"240.5000153\" x2=\"256.5000305\" y1=\"180.5\" y2=\"180.5\"/>\n",
       "</g></g><g inkscape:groupmode=\"layer\" inkscape:label=\"grid\" style=\"display:inline\"><g><title>grid</title><line style=\"fill:none;stroke-width:1;stroke:rgb(200,200,200);stroke-opacity:1;stroke-dasharray: 1,3;\" x1=\"461.9553223\" x2=\"461.9553223\" y1=\"340.5\" y2=\"60.50001526\"/>\n",
       "<line style=\"fill:none;stroke-width:1;stroke:rgb(200,200,200);stroke-opacity:1;stroke-dasharray: 1,3;\" x1=\"531.5914917\" x2=\"531.5914917\" y1=\"340.5\" y2=\"60.50001526\"/>\n",
       "<line style=\"fill:none;stroke-width:1;stroke:rgb(200,200,200);stroke-opacity:1;stroke-dasharray: 1,3;\" x1=\"601.2276611\" x2=\"601.2276611\" y1=\"340.5\" y2=\"60.50001526\"/>\n",
       "<line style=\"fill:none;stroke-width:1;stroke:rgb(200,200,200);stroke-opacity:1;stroke-dasharray: 1,3;\" x1=\"670.8637695\" x2=\"670.8637695\" y1=\"340.5\" y2=\"60.50001526\"/>\n",
       "<line style=\"fill:none;stroke-width:1;stroke:rgb(200,200,200);stroke-opacity:1;stroke-dasharray: 1,3;\" x1=\"740.5\" x2=\"740.5\" y1=\"340.5\" y2=\"60.50001526\"/>\n",
       "<line style=\"fill:none;stroke-width:1;stroke:rgb(200,200,200);stroke-opacity:1;stroke-dasharray: 1,3;\" x1=\"460.5\" x2=\"740.5\" y1=\"340.5\" y2=\"340.5\"/>\n",
       "<line style=\"fill:none;stroke-width:1;stroke:rgb(200,200,200);stroke-opacity:1;stroke-dasharray: 1,3;\" x1=\"460.5\" x2=\"740.5\" y1=\"270.5\" y2=\"270.5\"/>\n",
       "<line style=\"fill:none;stroke-width:1;stroke:rgb(200,200,200);stroke-opacity:1;stroke-dasharray: 1,3;\" x1=\"460.5\" x2=\"740.5\" y1=\"200.5\" y2=\"200.5\"/>\n",
       "<line style=\"fill:none;stroke-width:1;stroke:rgb(200,200,200);stroke-opacity:1;stroke-dasharray: 1,3;\" x1=\"460.5\" x2=\"740.5\" y1=\"130.5000153\" y2=\"130.5000153\"/>\n",
       "<line style=\"fill:none;stroke-width:1;stroke:rgb(200,200,200);stroke-opacity:1;stroke-dasharray: 1,3;\" x1=\"460.5\" x2=\"740.5\" y1=\"60.50001526\" y2=\"60.50001526\"/>\n",
       "<g inkscape:groupmode=\"layer\" inkscape:label=\"origin\" style=\"display:inline\"><g><title>origin</title></g></g></g></g><g inkscape:groupmode=\"layer\" inkscape:label=\"curves\" style=\"display:inline\"><g><title>curves</title><g inkscape:groupmode=\"layer\" inkscape:label=\"\" style=\"display:inline\"><g><title/><circle cx=\"460.5\" cy=\"161.4197693\" r=\"2\" style=\"fill:rgb(0,0,0)fill-opacity:1;stroke:none;\"/>\n",
       "<circle cx=\"562.2545776\" cy=\"136.3333282\" r=\"2\" style=\"fill:rgb(0,0,0)fill-opacity:1;stroke:none;\"/>\n",
       "<circle cx=\"536.8463745\" cy=\"62.04697037\" r=\"2\" style=\"fill:rgb(0,0,0)fill-opacity:1;stroke:none;\"/>\n",
       "<circle cx=\"651.1358032\" cy=\"60.67789841\" r=\"2\" style=\"fill:rgb(0,0,0)fill-opacity:1;stroke:none;\"/>\n",
       "</g></g><g inkscape:groupmode=\"layer\" inkscape:label=\"Class #0 (AUC: 1)\" style=\"display:inline\"><g><title>Class #0 (AUC: 1)</title><polyline points=\" 460,65.8704071 568.7373047,65.8704071 568.7373047,65.15884399 568.7373047,64.62516785 568.7373047,64.44728088 589.6998901,64.0914917 589.6998901,63.7357254 589.6998901,63.55781555 589.6998901,63.20204926 589.6998901,63.0241394 601.9622192,62.84625626 601.9622192,62.66837311 601.9622192,62.49048615 601.9622192,62.312603 601.9622192,62.13471985 601.9622192,61.95681 601.9622192,61.77892685 601.9622192,61.2452507 601.9622192,61.06736755 610.6624756,61.06736755 610.6624756,60.8894577 617.4108887,60.8894577 617.4108887,60.71157455 622.9248047,60.53369141 627.5866699,60.53369141 627.5866699,60.35580444 627.5866699,60.17789841 631.625061,60.17789841 635.1871338,60.17789841 638.3734741,60.17789841 641.2559204,60.17789841 643.8873291,60.17789841 648.5493164,60.17789841 650.6358032,60.17789841 652.5876465,60.17789841 654.4210815,60.17789841 656.1496582,60.17789841 657.7848511,60.17789841 659.3360596,60.17789841 660.8116455,60.17789841 662.2185059,60.17789841 663.5628662,60.17789841 664.8499756,60.17789841 666.0845337,60.17789841 667.2706299,60.17789841 668.4119873,60.17789841 670.5731201,60.17789841 671.5983887,60.17789841 672.5900879,60.17789841 674.480835,60.17789841 675.383667,60.17789841 676.2603149,60.17789841 677.1123047,60.17789841 677.940918,60.17789841 678.7473755,60.17789841 679.53302,60.17789841 680.2987061,60.17789841 681.0454102,60.17789841 681.7741699,60.17789841 683.8607178,60.17789841 684.5253906,60.17789841 685.1757812,60.17789841 685.8125,60.17789841 686.4360962,60.17789841 687.0471191,60.17789841 687.6459961,60.17789841 688.2332764,60.17789841 689.3746338,60.17789841 690.4744263,60.17789841 691.0097046,60.17789841 692.0527344,60.17789841 692.5609741,60.17789841 693.0609131,60.17789841 693.5526123,60.17789841 694.036499,60.17789841 694.5127563,60.17789841 694.9816895,60.17789841 695.4433594,60.17789841 695.8981934,60.17789841 696.3461914,60.17789841 697.2228394,60.17789841 698.0748291,60.17789841 699.3093872,60.17789841 699.7099609,60.17789841 700.1053467,60.17789841 700.4955444,60.17789841 701.2612305,60.17789841 701.6369019,60.17789841 702.0079346,60.17789841 702.3745117,60.17789841 702.7367554,60.17789841 703.4483643,60.17789841 704.1436157,60.17789841 704.1436157,60.00001526 704.8233032,60.00001526 705.1574707,60.00001526 705.8149414,60.00001526 706.1383667,60.00001526 706.4584351,60.00001526 707.3986816,60.00001526 708.0096436,60.00001526 708.3106079,60.00001526 708.9035645,60.00001526 710.8920898,60.00001526 713.5235596,60.00001526 717.5303345,60.00001526 722.9705811,60.00001526 740,60.00001526\" style=\"fill:none;stroke-width:1;stroke:rgb(242,12,12);stroke-opacity:1;\"/>\n",
       "</g></g><g inkscape:groupmode=\"layer\" inkscape:label=\"\" style=\"display:inline\"><g><title/><polyline points=\" 460.0001221,67.19589233 594.3931885,66.97127533 594.7314453,66.28100586 594.7314453,65.69807434 594.7322998,65.46376038 614.9115601,65.07136536 615.4359131,64.86022186 615.692749,64.5561676 615.692749,64.24007416 615.6948242,63.91317749 618.3581543,63.76449966 620.0199585,63.59021759 621.1187744,63.4112854 621.3323975,63.21468353 621.4316406,62.93136978 621.4316406,62.62731552 621.4316406,62.28950119 621.4332275,61.94212341 621.4332275,61.62111664 623.7615967,61.58039474 625.3261108,61.41107178 628.2825928,61.39213943 630.6081543,61.21697235 634.8555298,60.93849945 638.8582153,60.8060379 639.8248291,60.63907242 639.8248291,60.57582092 642.2776489,60.43391418 645.0126953,60.43346024 647.0202637,60.43310165 648.8378906,60.43310165 651.5999756,60.43310165 654.8591309,60.43310165 657.3756714,60.43310165 659.0890503,60.43310165 661.0274658,60.43310165 662.909668,60.43310165 664.6485596,60.43310165 666.0546875,60.43310165 666.9008789,60.43305206 668.4002686,60.43305206 669.6712646,60.43305206 670.757019,60.43305206 671.7555542,60.43305206 672.7746582,60.43305206 674.2846069,60.43305206 676.1315918,60.43305206 677.2179565,60.43305206 678.5848389,60.43305206 679.8297729,60.43305206 681.0348511,60.43305206 681.7322998,60.43305206 682.6425781,60.43305206 683.5825806,60.43305206 684.2548218,60.43305206 684.7047119,60.43305206 685.2397461,60.43305206 685.9945068,60.43305206 686.7930908,60.43305206 687.9906616,60.43305206 688.5016479,60.43305206 688.8105469,60.43305206 689.1848145,60.43305206 689.6314697,60.43305206 690.1993408,60.43305206 690.8876343,60.43305206 691.7902832,60.43305206 692.6257935,60.43305206 693.3289795,60.43305206 693.8800049,60.43305206 694.5343628,60.43305206 694.9395752,60.43305206 695.2803955,60.43305206 695.7325439,60.43305206 696.2263184,60.43305206 696.6816406,60.43305206 696.9710693,60.43305206 697.3927002,60.43305206 697.8339233,60.43305206 698.4719849,60.43305206 699.3847656,60.43305206 700.3184204,60.43305206 700.9550171,60.43305206 701.4394531,60.43305206 701.7528687,60.43305206 702.2122803,60.43305206 703.2982178,60.43305206 703.6350708,60.43305206 703.8822021,60.43305206 704.2174072,60.43305206 704.6428833,60.43305206 705.0795898,60.43305206 705.7886963,60.43305206 705.9259033,60.00001526 706.4272461,60.00001526 706.9345703,60.00001526 707.4033203,60.00001526 707.6940918,60.00001526 708.1717529,60.00001526 709.2099609,60.00001526 709.8292236,60.00001526 710.1297607,60.00001526 710.8060303,60.00001526 712.9683838,60.00001526 715.4312744,60.00001526 718.9379272,60.00001526 740,60.00001526\" style=\"fill:none;stroke-width:1;stroke:rgb(242,12,12);stroke-opacity:1;stroke-dasharray: 9, 5;\"/>\n",
       "</g></g><g inkscape:groupmode=\"layer\" inkscape:label=\"\" style=\"display:inline\"><g><title/><polyline points=\" 460,64.74397278 530.1008911,64.71006775 531.4096069,64.07203674 531.4096069,63.81478119 531.4160156,63.57481384 550.3250732,63.12739944 551.7283325,62.89730072 552.3619385,62.67805099 552.3619385,62.48955536 552.3786011,62.26098633 560.5893555,62.11793518 563.4512939,61.94405365 564.4749756,61.76939011 564.742981,61.71066666 564.8254395,61.64865494 564.8254395,61.48309708 564.8254395,61.2763176 564.8356934,61.04500198 564.8356934,60.72454453 584.7369995,60.70315933 586.6983643,60.65924072 590.7661133,60.52019501 599.7406616,60.34429169 601.8822021,60.30578613 604.8052979,60.28499603 606.7518921,60.2502594 606.7518921,60.07330322 611.5878296,60.05363464 615.2835083,60.0532074 623.0209961,60.05308533 628.1257324,60.05308533 632.6495361,60.05308533 636.505127,60.05308533 639.053833,60.05308533 641.7039185,60.05308533 642.8423462,60.05308533 645.1260986,60.05308533 646.8884888,60.05308533 648.72229,60.05308533 651.0424805,60.05303955 652.0308838,60.05303955 654.317749,60.05303955 655.9102783,60.05303955 657.4300537,60.05303955 658.4956055,60.05303955 660.4732666,60.05303955 661.3036499,60.05303955 662.6086426,60.05303955 664.34021,60.05303955 665.6148682,60.05303955 666.7250977,60.05303955 667.857605,60.05303955 668.5177002,60.05303955 669.2757568,60.05303955 670.357666,60.05303955 671.8148193,60.05303955 672.8695068,60.05303955 673.6591797,60.05303955 675.1248779,60.05303955 676.1755371,60.05303955 678.4499512,60.05303955 679.5994263,60.05303955 680.6444092,60.05303955 681.5496826,60.05303955 682.8210449,60.05303955 683.1641846,60.05303955 684.208374,60.05303955 685.5214844,60.05303955 686.5960693,60.05303955 687.626709,60.05303955 688.694458,60.05303955 689.2540894,60.05303955 689.8775635,60.05303955 690.3383179,60.05303955 690.8632812,60.05303955 691.3630371,60.05303955 692.0255127,60.05303955 692.5020752,60.05303955 692.871582,60.05303955 693.5848389,60.05303955 694.3066406,60.05303955 695.2600098,60.05303955 696.383667,60.05303955 696.6392822,60.05303955 697.4526978,60.05303955 697.8671875,60.05303955 698.2756958,60.05303955 698.932251,60.05303955 699.5646362,60.05303955 700.0311279,60.05303955 700.6430664,60.05303955 701.0874634,60.05303955 701.5745239,60.05303955 701.9832153,60.00001526 702.4434204,60.00001526 703.0140381,60.00001526 703.4084473,60.00001526 703.8328857,60.00001526 704.4044189,60.00001526 705.1981201,60.00001526 705.5096436,60.00001526 705.9725342,60.00001526 706.9400635,60.00001526 708.6870728,60.00001526 711.4230957,60.00001526 715.706543,60.00001526 740,60.00001526\" style=\"fill:none;stroke-width:1;stroke:rgb(242,12,12);stroke-opacity:1;stroke-dasharray: 9, 5;\"/>\n",
       "</g></g><g inkscape:groupmode=\"layer\" inkscape:label=\"\" style=\"display:inline\"><g><title/><polyline points=\" 460,65.97740936 567.2371826,65.87765503 568.5458984,65.19728088 568.5458984,64.79666138 568.5523682,64.50898743 587.4614258,64.11035156 588.864624,63.87941742 589.49823,63.59906006 589.49823,63.35279846 589.5148926,63.06624603 597.725708,62.93096542 600.5875854,62.76724243 601.6112671,62.58771515 601.8792725,62.41350174 601.9616699,62.23840714 601.9616699,62.05928421 601.9616699,61.78896332 601.9720459,61.45412827 601.9720459,61.18209457 607.6049805,61.11471558 609.7488403,60.97450256 614.8251953,60.91711426 617.5131836,60.74519348 621.0604248,60.61425018 625.3744507,60.54575348 626.9315796,60.42950058 626.9315796,60.25020981 629.5935669,60.18307114 633.4171753,60.18161774 636.7553711,60.18123627 639.7614746,60.18119049 643.4573975,60.18119049 646.7172852,60.18119049 649.2634277,60.18119049 651.4216309,60.18119049 653.3391724,60.18119049 655.1246338,60.18119049 656.8291016,60.18119049 658.4168701,60.18119049 659.9416504,60.18102264 661.3806152,60.18102264 662.7597656,60.18102264 664.0686646,60.18102264 665.328064,60.18102264 666.5300293,60.18102264 668.1367188,60.18102264 669.6217651,60.18102264 670.8245239,60.18102264 672.31604,60.18102264 673.6243286,60.18102264 674.7893066,60.18102264 675.6940918,60.18102264 676.5690308,60.18102264 677.4055176,60.18102264 678.2324219,60.18102264 679.0385132,60.18102264 679.8181152,60.18102264 680.5819092,60.18102264 681.6098633,60.18102264 683.0424805,60.18102264 684.0155029,60.18102264 684.6780396,60.18102264 685.326416,60.18102264 685.9610596,60.18102264 686.7167969,60.18102264 687.3279419,60.18102264 688.1526489,60.18102264 689.2364502,60.18102264 690.1281738,60.18102264 690.9191895,60.18102264 691.7497559,60.18102264 692.2470703,60.18102264 692.7562866,60.18102264 693.2544556,60.18102264 693.7428589,60.18102264 694.2186279,60.18102264 694.6958008,60.18102264 695.1652832,60.18102264 695.6273193,60.18102264 696.253418,60.18102264 697.0909424,60.18102264 698.0248413,60.18102264 698.9423828,60.18102264 699.3453979,60.18102264 699.8223877,60.18102264 700.24823,60.18102264 700.8720703,60.18102264 701.3686523,60.18102264 701.7479248,60.18102264 702.1500244,60.18102264 702.6637573,60.18102264 703.1490479,60.18102264 703.803772,60.18102264 704.0334473,60.00001526 704.5366211,60.00001526 705.0843506,60.00001526 705.5395508,60.00001526 705.9206543,60.00001526 706.4384766,60.00001526 707.3148804,60.00001526 707.8201294,60.00001526 708.1414795,60.00001526 708.9038086,60.00001526 710.8904419,60.00001526 713.506958,60.00001526 717.493103,60.00001526 740,60.00001526\" style=\"fill:none;stroke-width:1;stroke:rgb(242,12,12);stroke-opacity:1;stroke-dasharray: 9, 5;\"/>\n",
       "</g></g><g inkscape:groupmode=\"layer\" inkscape:label=\"Class #1 (AUC: 1)\" style=\"display:inline\"><g><title>Class #1 (AUC: 1)</title><polyline points=\" 460,63.09394836 515.3837891,63.09394836 515.3837891,61.54697037 536.3463745,61.54697037 536.3463745,60.00001526 548.6087036,60.00001526 557.30896,60.00001526 564.057373,60.00001526 569.5712891,60.00001526 574.2331543,60.00001526 581.8336182,60.00001526 585.0200195,60.00001526 590.5338745,60.00001526 602.7961426,60.00001526 627.6918945,60.00001526 665.4731445,60.00001526 740,60.00001526\" style=\"fill:none;stroke-width:1;stroke:rgb(242,209,12);stroke-opacity:1;\"/>\n",
       "</g></g><g inkscape:groupmode=\"layer\" inkscape:label=\"\" style=\"display:inline\"><g><title/><polyline points=\" 460,66.61863708 542.1592407,66.61863708 542.1592407,65.49835205 551.4841309,64.07814026 552.3599854,62.55939102 559.2406006,60.02175903 565.5808105,60.00452042 570.8460693,60.00075531 575.4795532,60.00075531 581.7611084,60.00075531 589.6680908,60.00075531 594.2998047,60.00075531 601.1696777,60.00001526 610.4160156,60.00001526 630.7224121,60.00001526 740,60.00001526\" style=\"fill:none;stroke-width:1;stroke:rgb(242,209,12);stroke-opacity:1;stroke-dasharray: 9, 5;\"/>\n",
       "</g></g><g inkscape:groupmode=\"layer\" inkscape:label=\"\" style=\"display:inline\"><g><title/><polyline points=\" 460,62.20521927 478.4564819,62.20521927 478.4564819,60.7275238 492.6020508,60.54260635 497.2552795,60.20236206 505.7077332,60.02175903 531.6634521,60.00452042 545.5126343,60.00075531 548.7550049,60.00075531 557.2905273,60.00075531 560.9516602,60.00075531 568.1242065,60.00075531 574.7434692,60.00001526 594.5164795,60.00001526 624.3922119,60.00001526 740,60.00001526\" style=\"fill:none;stroke-width:1;stroke:rgb(242,209,12);stroke-opacity:1;stroke-dasharray: 9, 5;\"/>\n",
       "</g></g><g inkscape:groupmode=\"layer\" inkscape:label=\"\" style=\"display:inline\"><g><title/><polyline points=\" 460,64.02655029 515.5927734,64.02655029 515.5927734,62.48386002 529.7383423,61.85255051 534.3916016,60.6909256 542.8440552,60.07427979 552.7636108,60.0153923 560.4483643,60.00259018 566.6124878,60.00259018 571.7124023,60.00259018 578.5375977,60.00259018 584.5397949,60.00259018 590.6296387,60.00001526 602.8914795,60.00001526 627.7405396,60.00001526 740,60.00001526\" style=\"fill:none;stroke-width:1;stroke:rgb(242,209,12);stroke-opacity:1;stroke-dasharray: 9, 5;\"/>\n",
       "</g></g><g inkscape:groupmode=\"layer\" inkscape:label=\"Class #2 (AUC: 0.998)\" style=\"display:inline\"><g><title>Class #2 (AUC: 0.998)</title><polyline points=\" 460,305.0000305 534.0435791,305.0000305 534.0435791,299.166687 534.0435791,293.3333435 534.0435791,287.5 534.0435791,275.8333435 534.0435791,264.166687 534.0435791,258.3333435 534.0435791,246.6666718 534.0435791,235.0000153 534.0435791,229.1666718 534.0435791,223.3333588 534.0435791,211.666687 534.0435791,205.8333435 534.0435791,200 546.3059082,200 546.3059082,176.666687 546.3059082,170.8333435 546.3059082,165.0000153 546.3059082,159.166687 546.3059082,153.3333435 555.0061035,153.3333435 555.0061035,147.5000153 555.0061035,141.666687 561.7545776,141.666687 561.7545776,135.8333282 561.7545776,124.1666794 561.7545776,118.3333435 561.7545776,112.5000229 561.7545776,106.666687 567.2684326,100.8333435 567.2684326,95.00000763 571.9303589,95.00000763 575.968689,95.00000763 575.968689,89.16668701 579.5307617,89.16668701 582.7171631,83.33335114 582.7171631,77.50000763 585.5996094,77.50000763 588.2310181,77.50000763 590.6517334,77.50000763 592.8929443,77.50000763 594.9794922,77.50000763 596.9312744,77.50000763 598.7647095,77.50000763 600.4933472,77.50000763 600.4933472,71.66669464 602.128479,65.83332825 602.128479,60.00001526 603.6796875,60.00001526 605.1552734,60.00001526 606.5621948,60.00001526 607.9064941,60.00001526 609.1936035,60.00001526 610.4281616,60.00001526 611.6143188,60.00001526 612.7556763,60.00001526 613.8555298,60.00001526 614.916748,60.00001526 615.9420166,60.00001526 616.9337158,60.00001526 617.8938599,60.00001526 618.8244629,60.00001526 619.7272949,60.00001526 623.0910645,60.00001526 627.5247192,60.00001526 628.2043457,60.00001526 629.5194702,60.00001526 630.156189,60.00001526 630.7797241,60.00001526 633.1529541,60.00001526 633.7182617,60.00001526 635.3533936,60.00001526 636.9046021,60.00001526 637.404541,60.00001526 638.380127,60.00001526 640.6898804,60.00001526 643.6530762,60.00001526 644.4489746,60.00001526 645.2244873,60.00001526 647.0804443,60.00001526 649.5010986,60.00001526 651.7423096,60.00001526 653.5394287,60.00001526 655.2357178,60.00001526 659.1018066,60.00001526 662.5291748,60.00001526 665.4115601,60.00001526 670.1295166,60.00001526 677.2785645,60.00001526 689.095459,60.00001526 707.4347534,60.00001526 740,60.00001526\" style=\"fill:none;stroke-width:1;stroke:rgb(78,242,12);stroke-opacity:1;\"/>\n",
       "</g></g><g inkscape:groupmode=\"layer\" inkscape:label=\"\" style=\"display:inline\"><g><title/><polyline points=\" 460,325.8337097 548.2962646,322.4025269 560.2086182,317.9165344 560.569458,311.8373413 560.7177734,303.6895752 560.7177734,293.8840027 560.7177734,286.7619629 560.7177734,276.8427734 560.7177734,265.503418 560.7177734,261.2197266 560.7177734,259.5055847 560.7177734,246.3900757 560.7177734,241.6115723 560.7177734,235.6873016 560.7177734,229.1261139 566.354126,225.6050568 566.354126,212.9444122 566.354126,211.0681 566.354126,196.8621826 566.354126,190.3302765 566.354126,184.7832031 573.5463257,182.3471832 576.7496338,179.1063843 576.7496338,173.9963226 577.5539551,171.7032013 578.0214233,167.3346405 578.0509033,161.187561 578.0579834,153.02034 578.0579834,144.4537201 578.0603027,134.7131042 580.9718018,127.7135391 581.3028564,121.1140594 583.958313,119.6447144 586.5661621,117.7032242 586.9154053,111.9043579 589.4157104,106.3100586 591.8128662,98.49102783 591.9274292,94.01280975 595.3394165,94.01280975 597.0687866,90.29152679 598.8661499,89.18457031 600.5345459,88.5703125 602.2497559,88.5703125 603.8164062,88.5703125 605.2645264,88.56720734 606.6505127,88.56720734 606.8830566,77.85897064 607.9940186,73.2661972 608.9122925,70.04845428 610.1973267,65.20664978 612.0559692,60.06393433 612.6588745,60.01651382 614.2490234,60.00323486 614.6328125,60.00001526 615.6812744,60.00001526 616.1425781,60.00001526 617.546875,60.00001526 617.9577637,60.00001526 618.8497314,60.00001526 619.6610718,60.00001526 620.6342163,60.00001526 621.9689331,60.00001526 622.9633179,60.00001526 624.3908081,60.00001526 627.1593628,60.00001526 630.3346558,60.00001526 631.3639526,60.00001526 632.3140869,60.00001526 632.9726562,60.00001526 633.6997681,60.00001526 635.5651855,60.00001526 636.5540161,60.00001526 638.5510254,60.00001526 639.744751,60.00001526 640.6574707,60.00001526 641.8037109,60.00001526 644.5143433,60.00001526 647.1401978,60.00001526 648.1664429,60.00001526 648.9246216,60.00001526 650.4575806,60.00001526 652.6091309,60.00001526 654.8099365,60.00001526 656.7955322,60.00001526 658.4289551,60.00001526 662.5147705,60.00001526 665.6190186,60.00001526 668.3528442,60.00001526 672.6156616,60.00001526 679.3417969,60.00001526 690.7511597,60.00001526 740,60.00001526\" style=\"fill:none;stroke-width:1;stroke:rgb(78,242,12);stroke-opacity:1;stroke-dasharray: 9, 5;\"/>\n",
       "</g></g><g inkscape:groupmode=\"layer\" inkscape:label=\"\" style=\"display:inline\"><g><title/><polyline points=\" 460,287.2735596 482.1819763,286.0197754 493.4309692,281.7263489 496.3215332,277.5698547 497.42276,269.755127 497.42276,257.1637573 497.42276,250.6253204 497.42276,242.1945343 497.42276,231.94104 497.42276,221.8237915 497.42276,211.9491882 497.42276,199.9221191 497.42276,189.0892487 497.42276,182.0650177 497.42276,175.1764832 509.5770569,172.9411011 509.5770569,158.2956238 509.5770569,151.8005524 509.5770569,144.105545 509.5770569,137.3299103 509.5770569,131.5459442 515.1959229,128.7517853 518.3043213,124.2473145 518.3043213,116.4469757 535.0965576,115.2061005 536.62146,106.6759796 536.7479248,99.46129608 536.7757568,97.58317566 536.7757568,91.68798828 536.7846069,82.72507477 539.2230225,81.27591705 540.1635132,76.216362 549.7641602,74.64699554 557.3712769,74.412323 558.180542,73.26285553 564.3199463,72.63484192 569.3432007,71.62926483 569.583374,65.72852325 573.8470459,65.72852325 574.6546631,65.09280396 575.7216187,64.87002563 579.2384644,64.81151581 582.3510132,64.81151581 585.2460327,64.81151581 587.9492188,64.80841827 590.3360596,64.80841827 590.7329102,63.19305801 592.8079224,62.26675415 593.0050049,60.83960724 593.5157471,60.25688553 595.3669434,60.06393433 596.0737305,60.01651382 599.0721436,60.00323486 600.8394775,60.00001526 601.4300537,60.00001526 604.0436401,60.00001526 606.3688965,60.00001526 607.8095093,60.00001526 609.1693726,60.00001526 610.4718628,60.00001526 611.4544067,60.00001526 611.9435425,60.00001526 612.9204102,60.00001526 614.2624512,60.00001526 618.3362427,60.00001526 620.7171631,60.00001526 623.5671387,60.00001526 624.5336914,60.00001526 625.7286377,60.00001526 626.7067261,60.00001526 628.0845337,60.00001526 629.6754761,60.00001526 631.6907959,60.00001526 632.1257935,60.00001526 633.5928345,60.00001526 634.4787598,60.00001526 636.7446289,60.00001526 638.668457,60.00001526 640.119873,60.00001526 641.3673706,60.00001526 643.2981567,60.00001526 645.9963379,60.00001526 648.3225098,60.00001526 649.8591919,60.00001526 651.5710449,60.00001526 655.0899658,60.00001526 658.97229,60.00001526 661.8947144,60.00001526 667.1685791,60.00001526 675.0463867,60.00001526 687.3088989,60.00001526 740,60.00001526\" style=\"fill:none;stroke-width:1;stroke:rgb(78,242,12);stroke-opacity:1;stroke-dasharray: 9, 5;\"/>\n",
       "</g></g><g inkscape:groupmode=\"layer\" inkscape:label=\"\" style=\"display:inline\"><g><title/><polyline points=\" 460,308.3847961 519.3182373,305.9176941 530.5672607,301.1417542 533.4578857,295.8451233 534.559082,287.9411316 534.559082,276.8728638 534.559082,268.8488159 534.559082,259.5636292 534.559082,248.3886261 534.559082,240.0223236 534.559082,234.1697998 534.559082,224.4650574 534.559082,215.3245392 534.559082,209.1807404 534.559082,202.874176 546.7133789,199.7941437 546.7133789,183.5301208 546.7133789,178.1436157 546.7133789,168.5935822 546.7133789,161.7856445 546.7133789,155.5575256 552.3322144,153.249115 555.4406738,149.3579102 555.4406738,143.1036835 559.6772461,140.9431 561.894165,134.8642883 562.0652466,127.1312943 562.1064453,120.7189789 562.1064453,114.8227005 562.1195068,106.1472397 565.6417236,101.9141464 566.953125,96.58882904 570.3779297,94.64480591 574.1341553,93.84355164 575.5635986,90.26038361 579.1340332,88.11626434 582.3790894,84.68291473 582.7892456,79.55841827 585.6263428,79.55841827 587.296936,77.38790894 589.508606,76.6272583 591.7199707,76.42752838 593.8708496,76.42752838 595.8766479,76.42752838 597.791626,76.41692352 599.5638428,76.41692352 600.2315063,70.90172577 601.4818115,67.739151 601.9587402,62.86654663 603.1151123,60.87708282 604.4609375,60.21823883 605.8512573,60.05632782 607.2433472,60.01102829 608.5480347,60.00001526 609.8227539,60.00001526 611.039856,60.00001526 612.2008057,60.00001526 613.3027954,60.00001526 614.3886719,60.00001526 615.4223633,60.00001526 616.4297485,60.00001526 617.3972778,60.00001526 618.3299561,60.00001526 619.7136841,60.00001526 623.1204224,60.00001526 626.213562,60.00001526 628.0311279,60.00001526 629.0054932,60.00001526 629.8146362,60.00001526 630.8161011,60.00001526 632.2982178,60.00001526 633.4647217,60.00001526 635.3406982,60.00001526 636.3452148,60.00001526 637.3477783,60.00001526 638.4315796,60.00001526 640.74646,60.00001526 643.3789062,60.00001526 644.3448486,60.00001526 645.2762451,60.00001526 647.1104736,60.00001526 649.5371094,60.00001526 651.7752686,60.00001526 653.5759277,60.00001526 655.2645264,60.00001526 659.1243286,60.00001526 662.5457153,60.00001526 665.4224243,60.00001526 670.1429443,60.00001526 677.3026123,60.00001526 689.1011963,60.00001526 740,60.00001526\" style=\"fill:none;stroke-width:1;stroke:rgb(78,242,12);stroke-opacity:1;stroke-dasharray: 9, 5;\"/>\n",
       "</g></g><g inkscape:groupmode=\"layer\" inkscape:label=\"Class #3 (AUC: 1)\" style=\"display:inline\"><g><title>Class #3 (AUC: 1)</title><polyline points=\" 460,75.49073792 512.8319092,68.48485565 512.8319092,60.00001526 533.7944946,60.00001526 554.7570801,60.00001526 567.0194092,60.00001526 571.6813354,60.00001526 575.7196655,60.00001526 579.2817383,60.00001526 585.3505249,60.00001526 590.40271,60.00001526 596.682251,60.00001526 598.515686,60.00001526 610.1791382,60.00001526 614.6677246,60.00001526 624.3931885,60.00001526 630.5307007,60.00001526 639.9927979,60.00001526 647.5429688,60.00001526 656.852478,60.00001526 665.5527344,60.00001526 690.9269409,60.00001526 740,60.00001526\" style=\"fill:none;stroke-width:1;stroke:rgb(12,242,143);stroke-opacity:1;\"/>\n",
       "</g></g><g inkscape:groupmode=\"layer\" inkscape:label=\"\" style=\"display:inline\"><g><title/><polyline points=\" 460,93.85459137 527.0666504,84.64073944 538.8914795,76.60147858 549.7037354,60.11455154 567.2373047,60.00442505 575.1544189,60.00025177 578.8959351,60.00001526 582.1608887,60.00001526 587.2854614,60.00001526 593.5979004,60.00001526 597.6572266,60.00001526 600.9987793,60.00001526 604.1273193,60.00001526 614.1450195,60.00001526 619.4489746,60.00001526 629.3548584,60.00001526 635.3907471,60.00001526 643.8343506,60.00001526 652.3006592,60.00001526 660.8280029,60.00001526 668.7636719,60.00001526 740,60.00001526\" style=\"fill:none;stroke-width:1;stroke:rgb(12,242,143);stroke-opacity:1;stroke-dasharray: 9, 5;\"/>\n",
       "</g></g><g inkscape:groupmode=\"layer\" inkscape:label=\"\" style=\"display:inline\"><g><title/><polyline points=\" 460,63.86475372 461.083374,63.79969025 471.3757324,61.37149429 494.6581421,60.11455154 530.4841309,60.00442505 545.2895508,60.00025177 554.5999146,60.00001526 556.7923584,60.00001526 563.821167,60.00001526 573.2067871,60.00001526 580.7103271,60.00001526 584.6517944,60.00001526 591.5545654,60.00001526 604.4136963,60.00001526 609.0228271,60.00001526 618.4804077,60.00001526 624.5217285,60.00001526 635.2806396,60.00001526 641.7503662,60.00001526 652.0761719,60.00001526 662.0617065,60.00001526 740,60.00001526\" style=\"fill:none;stroke-width:1;stroke:rgb(12,242,143);stroke-opacity:1;stroke-dasharray: 9, 5;\"/>\n",
       "</g></g><g inkscape:groupmode=\"layer\" inkscape:label=\"\" style=\"display:inline\"><g><title/><polyline points=\" 460,77.50115204 498.2197266,72.97293854 508.5120544,64.68251038 531.7944946,60.3910675 552.5252686,60.01503372 562.4750366,60.00082397 568.6268921,60.00001526 573.0045166,60.00001526 578.5079346,60.00001526 584.4641113,60.00001526 590.1456299,60.00001526 594.3307495,60.00001526 598.5050659,60.00001526 609.8999023,60.00001526 614.6799316,60.00001526 624.3991699,60.00001526 630.5516357,60.00001526 640.0019531,60.00001526 647.5532837,60.00001526 656.8620605,60.00001526 665.5621338,60.00001526 740,60.00001526\" style=\"fill:none;stroke-width:1;stroke:rgb(12,242,143);stroke-opacity:1;stroke-dasharray: 9, 5;\"/>\n",
       "</g></g><g inkscape:groupmode=\"layer\" inkscape:label=\"Class #4 (AUC: 0.975)\" style=\"display:inline\"><g><title>Class #4 (AUC: 0.975)</title><polyline points=\" 460,340 512.3724365,340 533.335022,340 533.335022,284 545.5973511,284 554.2976074,284 561.0460205,284 566.5599365,228.0000153 571.2218628,228.0000153 575.2601929,228.0000153 578.8222656,228.0000153 582.008606,228.0000153 584.8910522,228.0000153 589.9431763,228.0000153 592.1844482,228.0000153 598.0562134,228.0000153 601.4199829,228.0000153 605.8536377,228.0000153 607.197998,228.0000153 608.4851074,228.0000153 609.7196655,228.0000153 613.1469727,228.0000153 616.2251587,228.0000153 617.1853638,228.0000153 619.0187988,228.0000153 623.1680908,228.0000153 626.8162231,228.0000153 628.8109741,228.0000153 630.682251,228.0000153 635.1708374,228.0000153 643.7404175,116.0000076 651.0338135,60.00001526 671.0561523,60.00001526 740,60.00001526\" style=\"fill:none;stroke-width:1;stroke:rgb(12,143,242);stroke-opacity:1;\"/>\n",
       "</g></g><g inkscape:groupmode=\"layer\" inkscape:label=\"\" style=\"display:inline\"><g><title/><polyline points=\" 460,340 526.4630127,340 548.4768066,340 549.1275024,328.2733765 556.362915,324.0846863 562.5526733,322.6363831 568.3513794,322.1935425 577.9465332,310.623291 581.045166,306.2586365 585.9294434,306.2586365 590.0516968,304.901947 592.3117065,304.5144043 595.9537354,304.4086609 599.28125,304.4086609 603.4207764,304.3914185 607.5786743,304.3914185 610.1582031,304.3860779 613.8627319,304.3860779 614.9223633,304.3860779 616.7241211,304.3860779 618.4969482,304.3860779 621.0994263,304.3860779 622.7373047,304.3860779 624.6981201,304.3860779 626.2197876,304.3860779 631.2353516,304.3860779 633.9732056,304.3860779 636.2803345,304.3860779 637.8388672,304.3860779 641.4171753,304.3860779 648.8251343,210.3815613 655.8087158,60.52486801 740,60.52486801\" style=\"fill:none;stroke-width:1;stroke:rgb(12,143,242);stroke-opacity:1;stroke-dasharray: 9, 5;\"/>\n",
       "</g></g><g inkscape:groupmode=\"layer\" inkscape:label=\"\" style=\"display:inline\"><g><title/><polyline points=\" 460,340 460,340 489.5209351,340 493.8206482,229.2784424 503.6347351,192.0914001 528.8181152,190.6431274 543.762207,190.2002563 546.736145,112.6334229 554.574585,108.2687378 556.6730957,108.2687378 558.5180054,106.9120636 564.4384766,106.5245132 569.9283447,106.4187775 571.6749878,106.4187775 576.5280762,106.401535 583.8033447,106.401535 589.0709229,106.3961716 591.9732056,106.3961716 592.6387329,106.3961716 594.9077759,106.3961716 598.463501,106.3961716 602.2286377,106.3961716 604.1619873,106.3961716 606.8851318,106.3961716 608.6715088,106.3961716 612.8442383,106.3961716 615.647522,106.3961716 618.5620728,106.3961716 621.2733154,106.3961716 627.2744751,106.3961716 637.3067017,78.38830566 644.8216553,60.52486801 740,60.52486801\" style=\"fill:none;stroke-width:1;stroke:rgb(12,143,242);stroke-opacity:1;stroke-dasharray: 9, 5;\"/>\n",
       "</g></g><g inkscape:groupmode=\"layer\" inkscape:label=\"\" style=\"display:inline\"><g><title/><polyline points=\" 460,340 497.136322,340 526.6572266,340 530.9569702,299.9628296 540.7710571,285.6616516 549.9602051,280.7169189 559.8654175,279.204834 565.5317383,239.7016296 569.1835938,224.7997284 573.4454956,224.7997284 576.9070435,220.1677856 580.2511597,218.8445587 584.4137573,218.483551 587.9794922,218.483551 592.0952759,218.4247437 597.7941284,218.4247437 601.3685303,218.4064331 604.2753906,218.4064331 605.6882935,218.4064331 607.571167,218.4064331 609.7333374,218.4064331 613.0800781,218.4064331 615.1065063,218.4064331 616.9714355,218.4064331 619.0249023,218.4064331 623.1904297,218.4064331 626.390686,218.4064331 628.552124,218.4064331 630.7218018,218.4064331 635.2019043,218.4064331 643.7799072,122.7815628 651.057373,61.79201508 740,61.79201508\" style=\"fill:none;stroke-width:1;stroke:rgb(12,143,242);stroke-opacity:1;stroke-dasharray: 9, 5;\"/>\n",
       "</g></g><g inkscape:groupmode=\"layer\" inkscape:label=\"Class #5 (AUC: 0.999)\" style=\"display:inline\"><g><title>Class #5 (AUC: 0.999)</title><polyline points=\" 460,96.4776535 512.5194092,80.00001526 533.4819336,80.00001526 545.7442627,80.00001526 561.1929932,80.00001526 566.7068481,80.00001526 571.3687744,80.00001526 575.4071045,80.00001526 582.1555786,80.00001526 590.0900879,80.00001526 594.4178467,60.00001526 596.3696899,60.00001526 598.203125,60.00001526 599.9317627,60.00001526 601.5668945,60.00001526 603.118103,60.00001526 606.0005493,60.00001526 612.1940918,60.00001526 615.3804321,60.00001526 617.3322754,60.00001526 622.52948,60.00001526 626.9631348,60.00001526 630.8291626,60.00001526 633.7115479,60.00001526 641.0049438,60.00001526 648.9395142,60.00001526 661.0909424,60.00001526 679.3815918,60.00001526 705.4195557,60.00001526 740,60.00001526\" style=\"fill:none;stroke-width:1;stroke:rgb(78,12,242);stroke-opacity:1;\"/>\n",
       "</g></g><g inkscape:groupmode=\"layer\" inkscape:label=\"\" style=\"display:inline\"><g><title/><polyline points=\" 460,138.4315186 539.1141357,129.0090332 548.7189331,114.0391388 565.5878906,112.4421082 573.7999268,112.2713776 577.6986694,112.2188339 581.0056152,112.2188339 584.4053345,112.2126312 591.2188721,112.2126312 597.3148193,112.2126312 602.7734375,95.42157745 605.2852173,95.42157745 606.678894,60.00001526 608.0266113,60.00001526 610.0985107,60.00001526 612.22229,60.00001526 615.1192627,60.00001526 620.4362793,60.00001526 622.8262939,60.00001526 624.4134521,60.00001526 629.5091553,60.00001526 632.6826172,60.00001526 635.9199219,60.00001526 639.3239746,60.00001526 645.7481079,60.00001526 653.472229,60.00001526 664.7060547,60.00001526 682.1682129,60.00001526 740,60.00001526\" style=\"fill:none;stroke-width:1;stroke:rgb(78,12,242);stroke-opacity:1;stroke-dasharray: 9, 5;\"/>\n",
       "</g></g><g inkscape:groupmode=\"layer\" inkscape:label=\"\" style=\"display:inline\"><g><title/><polyline points=\" 460,71.03211975 475.3598938,69.61207581 490.1359558,67.45326233 507.4499207,66.75215149 532.5636597,66.58141327 537.4992065,66.52884674 548.46875,66.52884674 557.4628296,66.52266693 568.9746704,66.52266693 578.1505127,66.52266693 581.9441528,62.42325211 582.8435669,62.42325211 583.6037598,60.00001526 586.3756104,60.00001526 587.1511841,60.00001526 589.8978271,60.00001526 594.340332,60.00001526 601.9052734,60.00001526 606.2289429,60.00001526 609.0110474,60.00001526 614.2299805,60.00001526 620.512085,60.00001526 624.1578369,60.00001526 626.8448486,60.00001526 635.3762817,60.00001526 643.6194458,60.00001526 657.2553711,60.00001526 676.1411743,60.00001526 740,60.00001526\" style=\"fill:none;stroke-width:1;stroke:rgb(78,12,242);stroke-opacity:1;stroke-dasharray: 9, 5;\"/>\n",
       "</g></g><g inkscape:groupmode=\"layer\" inkscape:label=\"\" style=\"display:inline\"><g><title/><polyline points=\" 460,102.8464813 512.4962158,92.81759644 527.2722778,85.44702148 544.5862427,83.0532074 556.057251,82.47032166 563.37323,82.29086304 568.5133057,82.29086304 574.7341309,82.26969147 582.0848999,82.26969147 589.9798584,82.26969147 593.5375977,68.27345276 595.5499268,68.27345276 597.229126,60.00001526 599.0446167,60.00001526 600.7401123,60.00001526 602.9401245,60.00001526 606.0673828,60.00001526 612.0929565,60.00001526 615.1650391,60.00001526 617.4109497,60.00001526 622.5964355,60.00001526 627.0406494,60.00001526 630.7755127,60.00001526 633.7811279,60.00001526 641.0513916,60.00001526 648.9802246,60.00001526 661.1069336,60.00001526 679.37854,60.00001526 740,60.00001526\" style=\"fill:none;stroke-width:1;stroke:rgb(78,12,242);stroke-opacity:1;stroke-dasharray: 9, 5;\"/>\n",
       "</g></g><g inkscape:groupmode=\"layer\" inkscape:label=\"Class #6 (AUC: 0.959)\" style=\"display:inline\"><g><title>Class #6 (AUC: 0.959)</title><polyline points=\" 460,340 512.4050293,340 512.4050293,300 512.4050293,260 512.4050293,220 533.3676147,220 545.6299438,220 554.3302002,220 561.0786133,220 566.5925293,220 575.2927856,220 578.8548584,220 582.0412598,220 587.5551147,220 589.975769,220 594.3035278,220 604.4793701,220 607.2305908,220 609.7521973,220 612.0797119,220 617.2178955,220 619.9280396,220 622.4151611,220 629.4802246,220 632.4769897,180 636.2286987,180 641.3195801,180 644.5485229,180 647.1160889,180 651.6773682,180 656.9381714,180 665.3190918,100 678.4047852,60.00001526 700.5319214,60.00001526 740,60.00001526\" style=\"fill:none;stroke-width:1;stroke:rgb(242,12,209);stroke-opacity:1;\"/>\n",
       "</g></g><g inkscape:groupmode=\"layer\" inkscape:label=\"\" style=\"display:inline\"><g><title/><polyline points=\" 460,340 526.5800171,340 538.5186768,331.6236572 538.902832,323.3216248 538.9974976,307.5715637 548.4555054,302.53302 556.2519531,268.1759644 562.7518921,268.1759644 571.0738525,260.8780518 575.5892334,260.789856 581.6929321,260.789856 586.6112061,260.789856 591.0183105,260.7837524 595.0244751,260.7837524 598.3804932,260.7837524 601.8775635,260.7837524 609.8205566,260.7837524 612.2302856,260.7837524 614.2208252,260.7837524 617.7589111,260.7837524 623.1240234,260.7837524 625.4609375,260.7837524 628.4785767,260.7837524 635.4853516,260.7837524 638.2600098,225.4402161 641.1235352,225.4402161 645.6914062,225.4402161 648.8372803,225.4402161 651.4780273,225.4402161 655.4366455,225.4402161 660.965332,225.4402161 668.4002075,207.5505066 681.3023071,60.40187073 740,60.40187073\" style=\"fill:none;stroke-width:1;stroke:rgb(242,12,209);stroke-opacity:1;stroke-dasharray: 9, 5;\"/>\n",
       "</g></g><g inkscape:groupmode=\"layer\" inkscape:label=\"\" style=\"display:inline\"><g><title/><polyline points=\" 460,340 460.6555481,340 471.1690063,232.6287079 474.3143921,224.3266754 475.1065674,109.581665 489.5675659,104.5431366 502.8374634,103.1843643 528.9714966,103.1843643 533.6002197,102.4861298 552.9661255,102.3979645 556.008667,102.3979645 558.4128418,102.3979645 568.607666,102.3918152 576.3809814,102.3918152 580.1940918,102.3918152 584.2520752,102.3918152 596.0163574,102.3918152 599.7678833,102.3918152 601.59021,102.3918152 604.9223022,102.3918152 608.7636108,102.3918152 612.2966309,102.3918152 614.1082764,102.3918152 621.3989258,102.3918152 624.7686768,93.44694519 629.9567261,93.44694519 635.7590332,93.44694519 638.9648438,93.44694519 641.6459961,93.44694519 647.1242676,93.44694519 652.1435547,93.44694519 661.5755005,75.55725861 675.1212158,60.40187073 740,60.40187073\" style=\"fill:none;stroke-width:1;stroke:rgb(242,12,209);stroke-opacity:1;stroke-dasharray: 9, 5;\"/>\n",
       "</g></g><g inkscape:groupmode=\"layer\" inkscape:label=\"\" style=\"display:inline\"><g><title/><polyline points=\" 460,340 497.7918396,340 508.3053284,311.4013062 511.4507141,283.0564575 512.2429199,229.2822876 526.7038574,212.0797577 539.9737549,207.4406128 550.3095093,207.4406128 557.6514893,205.0566864 565.7304688,204.7556915 572.1448975,204.7556915 576.6262207,204.7556915 581.4492798,204.7346802 586.1396484,204.7346802 589.642395,204.7346802 594.2635498,204.7346802 603.6541748,204.7346802 606.8427734,204.7346802 608.7016602,204.7346802 611.9799805,204.7346802 616.9781494,204.7346802 619.8468018,204.7346802 622.3851318,204.7346802 629.4472046,204.7346802 632.449585,174.1950226 636.2145996,174.1950226 641.3095703,174.1950226 644.5209351,174.1950226 647.1015625,174.1950226 651.6585693,174.1950226 656.9202881,174.1950226 665.3226318,113.1156921 678.4071045,61.37201691 740,61.37201691\" style=\"fill:none;stroke-width:1;stroke:rgb(242,12,209);stroke-opacity:1;stroke-dasharray: 9, 5;\"/>\n",
       "</g></g><g inkscape:groupmode=\"layer\" inkscape:label=\"\" style=\"display:inline\"><g><title/><polyline points=\" 460.0001221,339.9733276 600.7276611,337.2000122 621.6902466,334.4000244 633.9525757,331.6000061 642.652832,328.8000183 649.4012451,326.0000305 654.9151001,323.2000122 659.5770264,320.3999939 663.6153564,317.6000061 667.1774292,314.8000183 670.3637695,312 673.2462158,309.2000122 675.8776855,306.4000244 678.2984619,303.6000366 680.5396118,300.8000183 682.6261597,298 684.5780029,295.2000122 686.411377,292.3999939 688.1400146,289.6000061 689.7751465,286.7999878 691.326416,284 692.8019409,281.2000122 694.2088013,278.3999939 695.5531616,275.6000061 696.840271,272.7999878 698.0748291,270 699.2609863,267.1999817 700.4023438,264.3999939 701.5021973,261.6000061 702.5634766,258.8000183 703.5887451,256.0000305 704.5804443,253.2000122 705.5405273,250.4000244 706.4711914,247.6000366 707.3740234,244.8000183 708.2506104,242.0000305 709.1026611,239.2000122 709.9311523,236.4000244 710.7376709,233.6000366 711.5233154,230.8000488 712.2890015,228.0000458 713.0357666,225.2000275 713.7644653,222.4000397 714.4760742,219.6000519 715.1713867,216.8000641 715.8510132,214.000061 716.5157471,211.2000427 717.1661377,208.4000549 717.8028564,205.6000671 718.4263916,202.8000793 719.0374756,200.0000763 719.6362915,197.200058 720.2235107,194.4000702 720.7996216,191.6000671 721.3649292,188.8000793 721.9197998,186.0000763 722.4647217,183.2000732 723.000061,180.4000854 723.526001,177.6000824 724.0429688,174.8000793 724.5512695,172.0000916 725.0511475,169.2000885 725.5429688,166.4001007 726.0268555,163.6000977 726.5030518,160.8000946 726.9719238,158.0001068 727.4337158,155.2001038 727.8884888,152.400116 728.3365479,149.6001129 728.7780151,146.8001099 729.2131958,144.0001068 729.6422119,141.200119 730.0651855,138.4001312 730.4822998,135.6001129 730.8937988,132.8001251 731.2997437,130.0001373 731.7003174,127.2001266 732.0957031,124.4001389 732.4858398,121.6001282 732.8711548,118.8001404 733.2515259,116.0001526 733.6271973,113.2001419 733.998291,110.4001541 734.3648682,107.6001434 734.7271118,104.8001556 735.085022,102.0001678 735.4387207,99.20014954 735.7883301,96.40016174 736.1339722,93.60015106 736.475708,90.80016327 736.8135986,88.00017548 737.1477661,85.20016479 737.4782715,82.400177 737.8052979,79.60016632 738.1287231,76.80017853 738.4487305,74.00019073 738.7653809,71.20018005 739.0788574,68.40019226 739.3889771,65.60018158 739.6960449,62.80019379 740,60.00020599 740,60.00001526\" style=\"fill:none;stroke-width:1;stroke:rgb(0,0,0);stroke-opacity:1;stroke-dasharray: 9, 5;\"/>\n",
       "</g></g></g></g><g inkscape:groupmode=\"layer\" inkscape:label=\"X axis\" style=\"display:inline\"><g><title>X axis</title><line style=\"fill:none;stroke-width:1;stroke:rgb(0,0,0);stroke-opacity:1;marker-end:url(#Arrow1Mend);\" x1=\"460.5\" x2=\"740.5\" y1=\"340.5\" y2=\"340.5\"/>\n",
       "<line style=\"fill:none;stroke-width:1;stroke:rgb(0,0,0);stroke-opacity:1;\" x1=\"481.3666382\" x2=\"481.3666382\" y1=\"338.5\" y2=\"340.5\"/>\n",
       "<line style=\"fill:none;stroke-width:1;stroke:rgb(0,0,0);stroke-opacity:1;\" x1=\"493.093689\" x2=\"493.093689\" y1=\"338.5\" y2=\"340.5\"/>\n",
       "<line style=\"fill:none;stroke-width:1;stroke:rgb(0,0,0);stroke-opacity:1;\" x1=\"501.5227051\" x2=\"501.5227051\" y1=\"338.5\" y2=\"340.5\"/>\n",
       "<line style=\"fill:none;stroke-width:1;stroke:rgb(0,0,0);stroke-opacity:1;\" x1=\"508.1072388\" x2=\"508.1072388\" y1=\"338.5\" y2=\"340.5\"/>\n",
       "<line style=\"fill:none;stroke-width:1;stroke:rgb(0,0,0);stroke-opacity:1;\" x1=\"513.5113525\" x2=\"513.5113525\" y1=\"338.5\" y2=\"340.5\"/>\n",
       "<line style=\"fill:none;stroke-width:1;stroke:rgb(0,0,0);stroke-opacity:1;\" x1=\"518.0946045\" x2=\"518.0946045\" y1=\"338.5\" y2=\"340.5\"/>\n",
       "<line style=\"fill:none;stroke-width:1;stroke:rgb(0,0,0);stroke-opacity:1;\" x1=\"522.0738525\" x2=\"522.0738525\" y1=\"338.5\" y2=\"340.5\"/>\n",
       "<line style=\"fill:none;stroke-width:1;stroke:rgb(0,0,0);stroke-opacity:1;\" x1=\"525.5898438\" x2=\"525.5898438\" y1=\"338.5\" y2=\"340.5\"/>\n",
       "<line style=\"fill:none;stroke-width:1;stroke:rgb(0,0,0);stroke-opacity:1;\" x1=\"528.7392578\" x2=\"528.7392578\" y1=\"338.5\" y2=\"340.5\"/>\n",
       "<line style=\"fill:none;stroke-width:1;stroke:rgb(0,0,0);stroke-opacity:1;\" x1=\"551.0028076\" x2=\"551.0028076\" y1=\"338.5\" y2=\"340.5\"/>\n",
       "<line style=\"fill:none;stroke-width:1;stroke:rgb(0,0,0);stroke-opacity:1;\" x1=\"562.7298584\" x2=\"562.7298584\" y1=\"338.5\" y2=\"340.5\"/>\n",
       "<line style=\"fill:none;stroke-width:1;stroke:rgb(0,0,0);stroke-opacity:1;\" x1=\"571.1588745\" x2=\"571.1588745\" y1=\"338.5\" y2=\"340.5\"/>\n",
       "<line style=\"fill:none;stroke-width:1;stroke:rgb(0,0,0);stroke-opacity:1;\" x1=\"577.7434082\" x2=\"577.7434082\" y1=\"338.5\" y2=\"340.5\"/>\n",
       "<line style=\"fill:none;stroke-width:1;stroke:rgb(0,0,0);stroke-opacity:1;\" x1=\"583.147522\" x2=\"583.147522\" y1=\"338.5\" y2=\"340.5\"/>\n",
       "<line style=\"fill:none;stroke-width:1;stroke:rgb(0,0,0);stroke-opacity:1;\" x1=\"587.7307739\" x2=\"587.7307739\" y1=\"338.5\" y2=\"340.5\"/>\n",
       "<line style=\"fill:none;stroke-width:1;stroke:rgb(0,0,0);stroke-opacity:1;\" x1=\"591.7099609\" x2=\"591.7099609\" y1=\"338.5\" y2=\"340.5\"/>\n",
       "<line style=\"fill:none;stroke-width:1;stroke:rgb(0,0,0);stroke-opacity:1;\" x1=\"595.2259521\" x2=\"595.2259521\" y1=\"338.5\" y2=\"340.5\"/>\n",
       "<line style=\"fill:none;stroke-width:1;stroke:rgb(0,0,0);stroke-opacity:1;\" x1=\"598.3754883\" x2=\"598.3754883\" y1=\"338.5\" y2=\"340.5\"/>\n",
       "<line style=\"fill:none;stroke-width:1;stroke:rgb(0,0,0);stroke-opacity:1;\" x1=\"620.6390381\" x2=\"620.6390381\" y1=\"338.5\" y2=\"340.5\"/>\n",
       "<line style=\"fill:none;stroke-width:1;stroke:rgb(0,0,0);stroke-opacity:1;\" x1=\"632.3660278\" x2=\"632.3660278\" y1=\"338.5\" y2=\"340.5\"/>\n",
       "<line style=\"fill:none;stroke-width:1;stroke:rgb(0,0,0);stroke-opacity:1;\" x1=\"640.7950439\" x2=\"640.7950439\" y1=\"338.5\" y2=\"340.5\"/>\n",
       "<line style=\"fill:none;stroke-width:1;stroke:rgb(0,0,0);stroke-opacity:1;\" x1=\"647.3795776\" x2=\"647.3795776\" y1=\"338.5\" y2=\"340.5\"/>\n",
       "<line style=\"fill:none;stroke-width:1;stroke:rgb(0,0,0);stroke-opacity:1;\" x1=\"652.7836914\" x2=\"652.7836914\" y1=\"338.5\" y2=\"340.5\"/>\n",
       "<line style=\"fill:none;stroke-width:1;stroke:rgb(0,0,0);stroke-opacity:1;\" x1=\"657.3669434\" x2=\"657.3669434\" y1=\"338.5\" y2=\"340.5\"/>\n",
       "<line style=\"fill:none;stroke-width:1;stroke:rgb(0,0,0);stroke-opacity:1;\" x1=\"661.3461304\" x2=\"661.3461304\" y1=\"338.5\" y2=\"340.5\"/>\n",
       "<line style=\"fill:none;stroke-width:1;stroke:rgb(0,0,0);stroke-opacity:1;\" x1=\"664.8621826\" x2=\"664.8621826\" y1=\"338.5\" y2=\"340.5\"/>\n",
       "<line style=\"fill:none;stroke-width:1;stroke:rgb(0,0,0);stroke-opacity:1;\" x1=\"668.0115967\" x2=\"668.0115967\" y1=\"338.5\" y2=\"340.5\"/>\n",
       "<line style=\"fill:none;stroke-width:1;stroke:rgb(0,0,0);stroke-opacity:1;\" x1=\"690.2751465\" x2=\"690.2751465\" y1=\"338.5\" y2=\"340.5\"/>\n",
       "<line style=\"fill:none;stroke-width:1;stroke:rgb(0,0,0);stroke-opacity:1;\" x1=\"702.0021973\" x2=\"702.0021973\" y1=\"338.5\" y2=\"340.5\"/>\n",
       "<line style=\"fill:none;stroke-width:1;stroke:rgb(0,0,0);stroke-opacity:1;\" x1=\"710.4312744\" x2=\"710.4312744\" y1=\"338.5\" y2=\"340.5\"/>\n",
       "<line style=\"fill:none;stroke-width:1;stroke:rgb(0,0,0);stroke-opacity:1;\" x1=\"717.0157471\" x2=\"717.0157471\" y1=\"338.5\" y2=\"340.5\"/>\n",
       "<line style=\"fill:none;stroke-width:1;stroke:rgb(0,0,0);stroke-opacity:1;\" x1=\"722.4197998\" x2=\"722.4197998\" y1=\"338.5\" y2=\"340.5\"/>\n",
       "<line style=\"fill:none;stroke-width:1;stroke:rgb(0,0,0);stroke-opacity:1;\" x1=\"727.0031738\" x2=\"727.0031738\" y1=\"338.5\" y2=\"340.5\"/>\n",
       "<line style=\"fill:none;stroke-width:1;stroke:rgb(0,0,0);stroke-opacity:1;\" x1=\"730.9822998\" x2=\"730.9822998\" y1=\"338.5\" y2=\"340.5\"/>\n",
       "<line style=\"fill:none;stroke-width:1;stroke:rgb(0,0,0);stroke-opacity:1;\" x1=\"734.4983521\" x2=\"734.4983521\" y1=\"338.5\" y2=\"340.5\"/>\n",
       "<line style=\"fill:none;stroke-width:1;stroke:rgb(0,0,0);stroke-opacity:1;\" x1=\"737.6478271\" x2=\"737.6478271\" y1=\"338.5\" y2=\"340.5\"/>\n",
       "<line style=\"fill:none;stroke-width:1;stroke:rgb(0,0,0);stroke-opacity:1;\" x1=\"461.9553223\" x2=\"461.9553223\" y1=\"336.5\" y2=\"340.5\"/>\n",
       "<text dy=\"11\" style=\"fill:rgb(0,0,0)fill-opacity:1;stroke:none;font-family:'Times New Roman';font-size:11px;text-anchor:middle;\" x=\"461.9553223\" y=\"348.5\">0.00</text>\n",
       "<line style=\"fill:none;stroke-width:1;stroke:rgb(0,0,0);stroke-opacity:1;\" x1=\"531.5914917\" x2=\"531.5914917\" y1=\"336.5\" y2=\"340.5\"/>\n",
       "<text dy=\"11\" style=\"fill:rgb(0,0,0)fill-opacity:1;stroke:none;font-family:'Times New Roman';font-size:11px;text-anchor:middle;\" x=\"531.5914917\" y=\"348.5\">0.00</text>\n",
       "<line style=\"fill:none;stroke-width:1;stroke:rgb(0,0,0);stroke-opacity:1;\" x1=\"601.2276611\" x2=\"601.2276611\" y1=\"336.5\" y2=\"340.5\"/>\n",
       "<text dy=\"11\" style=\"fill:rgb(0,0,0)fill-opacity:1;stroke:none;font-family:'Times New Roman';font-size:11px;text-anchor:middle;\" x=\"601.2276611\" y=\"348.5\">0.01</text>\n",
       "<line style=\"fill:none;stroke-width:1;stroke:rgb(0,0,0);stroke-opacity:1;\" x1=\"670.8637695\" x2=\"670.8637695\" y1=\"336.5\" y2=\"340.5\"/>\n",
       "<text dy=\"11\" style=\"fill:rgb(0,0,0)fill-opacity:1;stroke:none;font-family:'Times New Roman';font-size:11px;text-anchor:middle;\" x=\"670.8637695\" y=\"348.5\">0.10</text>\n",
       "<line style=\"fill:none;stroke-width:1;stroke:rgb(0,0,0);stroke-opacity:1;\" x1=\"740.5\" x2=\"740.5\" y1=\"336.5\" y2=\"340.5\"/>\n",
       "<text dy=\"11\" style=\"fill:rgb(0,0,0)fill-opacity:1;stroke:none;font-family:'Times New Roman';font-size:11px;text-anchor:middle;\" x=\"740.5\" y=\"348.5\">1.00</text>\n",
       "<text dy=\"11\" style=\"fill:rgb(0,0,0)fill-opacity:1;stroke:none;font-family:'Times New Roman';font-size:11px;text-anchor:middle;\" x=\"600.5\" y=\"370.5\">False positive rate</text>\n",
       "</g></g><g inkscape:groupmode=\"layer\" inkscape:label=\"Y axis\" style=\"display:inline\"><g><title>Y axis</title><line style=\"fill:none;stroke-width:1;stroke:rgb(0,0,0);stroke-opacity:1;marker-end:url(#Arrow1Mend);\" x1=\"460.5\" x2=\"460.5\" y1=\"340.5\" y2=\"60.50000381\"/>\n",
       "<line style=\"fill:none;stroke-width:1;stroke:rgb(0,0,0);stroke-opacity:1;\" x1=\"460.5\" x2=\"462.5\" y1=\"305.5\" y2=\"305.5\"/>\n",
       "<line style=\"fill:none;stroke-width:1;stroke:rgb(0,0,0);stroke-opacity:1;\" x1=\"460.5\" x2=\"462.5\" y1=\"235.4999847\" y2=\"235.4999847\"/>\n",
       "<line style=\"fill:none;stroke-width:1;stroke:rgb(0,0,0);stroke-opacity:1;\" x1=\"460.5\" x2=\"462.5\" y1=\"165.5000153\" y2=\"165.5000153\"/>\n",
       "<line style=\"fill:none;stroke-width:1;stroke:rgb(0,0,0);stroke-opacity:1;\" x1=\"460.5\" x2=\"462.5\" y1=\"95.49998474\" y2=\"95.49998474\"/>\n",
       "<line style=\"fill:none;stroke-width:1;stroke:rgb(0,0,0);stroke-opacity:1;\" x1=\"460.5\" x2=\"464.5\" y1=\"340.5\" y2=\"340.5\"/>\n",
       "<text dy=\"5.5\" style=\"fill:rgb(0,0,0)fill-opacity:1;stroke:none;font-family:'Times New Roman';font-size:11px;text-anchor:end;\" x=\"452.5\" y=\"340.5\">0.00</text>\n",
       "<line style=\"fill:none;stroke-width:1;stroke:rgb(0,0,0);stroke-opacity:1;\" x1=\"460.5\" x2=\"464.5\" y1=\"270.5\" y2=\"270.5\"/>\n",
       "<text dy=\"5.5\" style=\"fill:rgb(0,0,0)fill-opacity:1;stroke:none;font-family:'Times New Roman';font-size:11px;text-anchor:end;\" x=\"452.5\" y=\"270.5\">0.25</text>\n",
       "<line style=\"fill:none;stroke-width:1;stroke:rgb(0,0,0);stroke-opacity:1;\" x1=\"460.5\" x2=\"464.5\" y1=\"200.5\" y2=\"200.5\"/>\n",
       "<text dy=\"5.5\" style=\"fill:rgb(0,0,0)fill-opacity:1;stroke:none;font-family:'Times New Roman';font-size:11px;text-anchor:end;\" x=\"452.5\" y=\"200.5\">0.50</text>\n",
       "<line style=\"fill:none;stroke-width:1;stroke:rgb(0,0,0);stroke-opacity:1;\" x1=\"460.5\" x2=\"464.5\" y1=\"130.5000153\" y2=\"130.5000153\"/>\n",
       "<text dy=\"5.5\" style=\"fill:rgb(0,0,0)fill-opacity:1;stroke:none;font-family:'Times New Roman';font-size:11px;text-anchor:end;\" x=\"452.5\" y=\"130.5000153\">0.75</text>\n",
       "<line style=\"fill:none;stroke-width:1;stroke:rgb(0,0,0);stroke-opacity:1;\" x1=\"460.5\" x2=\"464.5\" y1=\"60.49999237\" y2=\"60.49999237\"/>\n",
       "<text dy=\"5.5\" style=\"fill:rgb(0,0,0)fill-opacity:1;stroke:none;font-family:'Times New Roman';font-size:11px;text-anchor:end;\" x=\"452.5\" y=\"60.49999237\">1.00</text>\n",
       "<text dy=\"5.5\" style=\"fill:rgb(0,0,0)fill-opacity:1;stroke:none;font-family:'Times New Roman';font-size:11px;text-anchor:middle;\" transform=\"rotate(-90 415 200)\" x=\"415.5\" y=\"200.5\">True positive rate</text>\n",
       "</g></g><text dy=\"8.25\" style=\"fill:rgb(0,0,0)fill-opacity:1;stroke:none;font-family:'Times New Roman';font-size:16.5px;text-anchor:middle;\" x=\"600.5\" y=\"30.50000191\"/>\n",
       "<g inkscape:groupmode=\"layer\" inkscape:label=\"Legend\" style=\"display:inline\"><g><title>Legend</title><text dy=\"5.5\" style=\"fill:rgb(0,0,0)fill-opacity:1;stroke:none;font-family:'Times New Roman';font-size:11px;text-anchor:start;\" x=\"664.5\" y=\"60.50000381\">Class #0 (AUC: 1)</text>\n",
       "<line style=\"fill:none;stroke-width:1;stroke:rgb(242,12,12);stroke-opacity:1;\" x1=\"640.5\" x2=\"656.5\" y1=\"60.50000381\" y2=\"60.50000381\"/>\n",
       "<text dy=\"5.5\" style=\"fill:rgb(0,0,0)fill-opacity:1;stroke:none;font-family:'Times New Roman';font-size:11px;text-anchor:start;\" x=\"664.5\" y=\"80.5\">Class #1 (AUC: 1)</text>\n",
       "<line style=\"fill:none;stroke-width:1;stroke:rgb(242,209,12);stroke-opacity:1;\" x1=\"640.5\" x2=\"656.5\" y1=\"80.5\" y2=\"80.5\"/>\n",
       "<text dy=\"5.5\" style=\"fill:rgb(0,0,0)fill-opacity:1;stroke:none;font-family:'Times New Roman';font-size:11px;text-anchor:start;\" x=\"664.5\" y=\"100.5\">Class #2 (AUC: 0.998)</text>\n",
       "<line style=\"fill:none;stroke-width:1;stroke:rgb(78,242,12);stroke-opacity:1;\" x1=\"640.5\" x2=\"656.5\" y1=\"100.5\" y2=\"100.5\"/>\n",
       "<text dy=\"5.5\" style=\"fill:rgb(0,0,0)fill-opacity:1;stroke:none;font-family:'Times New Roman';font-size:11px;text-anchor:start;\" x=\"664.5\" y=\"120.5000076\">Class #3 (AUC: 1)</text>\n",
       "<line style=\"fill:none;stroke-width:1;stroke:rgb(12,242,143);stroke-opacity:1;\" x1=\"640.5\" x2=\"656.5\" y1=\"120.5000076\" y2=\"120.5000076\"/>\n",
       "<text dy=\"5.5\" style=\"fill:rgb(0,0,0)fill-opacity:1;stroke:none;font-family:'Times New Roman';font-size:11px;text-anchor:start;\" x=\"664.5\" y=\"140.5000153\">Class #4 (AUC: 0.975)</text>\n",
       "<line style=\"fill:none;stroke-width:1;stroke:rgb(12,143,242);stroke-opacity:1;\" x1=\"640.5\" x2=\"656.5\" y1=\"140.5000153\" y2=\"140.5000153\"/>\n",
       "<text dy=\"5.5\" style=\"fill:rgb(0,0,0)fill-opacity:1;stroke:none;font-family:'Times New Roman';font-size:11px;text-anchor:start;\" x=\"664.5\" y=\"160.5\">Class #5 (AUC: 0.999)</text>\n",
       "<line style=\"fill:none;stroke-width:1;stroke:rgb(78,12,242);stroke-opacity:1;\" x1=\"640.5\" x2=\"656.5\" y1=\"160.5\" y2=\"160.5\"/>\n",
       "<text dy=\"5.5\" style=\"fill:rgb(0,0,0)fill-opacity:1;stroke:none;font-family:'Times New Roman';font-size:11px;text-anchor:start;\" x=\"664.5\" y=\"180.5\">Class #6 (AUC: 0.959)</text>\n",
       "<line style=\"fill:none;stroke-width:1;stroke:rgb(242,12,209);stroke-opacity:1;\" x1=\"640.5\" x2=\"656.5\" y1=\"180.5\" y2=\"180.5\"/>\n",
       "</g></g><g inkscape:groupmode=\"layer\" inkscape:label=\"grid\" style=\"display:inline\"><g><title>grid</title><line style=\"fill:none;stroke-width:1;stroke:rgb(200,200,200);stroke-opacity:1;stroke-dasharray: 1,3;\" x1=\"883.833313\" x2=\"883.833313\" y1=\"340.5\" y2=\"60.50001526\"/>\n",
       "<line style=\"fill:none;stroke-width:1;stroke:rgb(200,200,200);stroke-opacity:1;stroke-dasharray: 1,3;\" x1=\"942.166626\" x2=\"942.166626\" y1=\"340.5\" y2=\"60.50001526\"/>\n",
       "<line style=\"fill:none;stroke-width:1;stroke:rgb(200,200,200);stroke-opacity:1;stroke-dasharray: 1,3;\" x1=\"1000.5\" x2=\"1000.5\" y1=\"340.5\" y2=\"60.50001526\"/>\n",
       "<line style=\"fill:none;stroke-width:1;stroke:rgb(200,200,200);stroke-opacity:1;stroke-dasharray: 1,3;\" x1=\"1058.833374\" x2=\"1058.833374\" y1=\"340.5\" y2=\"60.50001526\"/>\n",
       "<line style=\"fill:none;stroke-width:1;stroke:rgb(200,200,200);stroke-opacity:1;stroke-dasharray: 1,3;\" x1=\"1117.166626\" x2=\"1117.166626\" y1=\"340.5\" y2=\"60.50001526\"/>\n",
       "<line style=\"fill:none;stroke-width:1;stroke:rgb(200,200,200);stroke-opacity:1;stroke-dasharray: 1,3;\" x1=\"860.5\" x2=\"1140.5\" y1=\"317.166687\" y2=\"317.166687\"/>\n",
       "<line style=\"fill:none;stroke-width:1;stroke:rgb(200,200,200);stroke-opacity:1;stroke-dasharray: 1,3;\" x1=\"860.5\" x2=\"1140.5\" y1=\"258.8333435\" y2=\"258.8333435\"/>\n",
       "<line style=\"fill:none;stroke-width:1;stroke:rgb(200,200,200);stroke-opacity:1;stroke-dasharray: 1,3;\" x1=\"860.5\" x2=\"1140.5\" y1=\"200.5\" y2=\"200.5\"/>\n",
       "<line style=\"fill:none;stroke-width:1;stroke:rgb(200,200,200);stroke-opacity:1;stroke-dasharray: 1,3;\" x1=\"860.5\" x2=\"1140.5\" y1=\"142.1666718\" y2=\"142.1666718\"/>\n",
       "<line style=\"fill:none;stroke-width:1;stroke:rgb(200,200,200);stroke-opacity:1;stroke-dasharray: 1,3;\" x1=\"860.5\" x2=\"1140.5\" y1=\"83.83335114\" y2=\"83.83335114\"/>\n",
       "<g inkscape:groupmode=\"layer\" inkscape:label=\"origin\" style=\"display:inline\"><g><title>origin</title></g></g></g></g><g inkscape:groupmode=\"layer\" inkscape:label=\"curves\" style=\"display:inline\"><g><title>curves</title><g inkscape:groupmode=\"layer\" inkscape:label=\"Class #0 (AUC: 1)\" style=\"display:inline\"><g><title>Class #0 (AUC: 1)</title><polyline points=\" 1116.666626,280.5764465 1115.888916,208.8972626 1115.111084,164.1604156 1114.333374,141.3533936 1113.555542,124.9373703 1112.777832,115.4135437 1112,110.7769699 1111.222168,106.3910217 1110.444458,103.6340942 1109.666748,101.5037766 1108.888916,99.74939728 1108.111084,97.99501801 1107.333252,96.61655426 1106.555542,95.4887619 1105.77771,94.61157227 1105,94.23561096 1104.222168,93.23310852 1103.444458,92.73183441 1102.666626,92.10527039 1101.888916,91.72935486 1101.111084,91.22810364 1100.333252,90.97747803 1099.555542,90.22557831 1098.777832,90.1002655 1098,89.72432709 1097.222168,89.09778595 1096.444458,88.97242737 1095.666626,88.72182465 1094.888916,88.47119904 1094.111084,88.22057343 1093.333374,87.96994781 1092.555542,87.84463501 1091.77771,87.5940094 1090.222168,87.46871948 1089.444458,87.5940094 1087.111084,87.09275818 1085.555542,86.71684265 1084.777832,86.59148407 1083.22229,86.46617126 1082.444458,86.21556854 1080.888916,86.09025574 1080.111084,85.83960724 1073.888916,85.71431732 1073.111084,85.71431732 1070.77771,85.58900452 1068.444458,85.46369171 1066.111084,85.33837891 1063.777832,85.2130661 1061.444458,85.08773041 1060.666626,84.9624176 1052.888916,84.58647919 1052.111084,84.46118927 1048.222168,84.58647919 1043.555542,84.46118927 1042,84.58647919 1032.666626,84.46118927 1030.333374,84.46118927 1028.777832,84.58647919 1023.333374,84.46118927 1020.222229,84.33587646 1018.666626,84.46118927 1017.111084,84.58647919 1010.888916,84.71179199 1009.333313,84.8371048 1003.111145,84.9624176 1002.333313,85.2130661 1001.555542,85.33837891 998.444458,85.46369171 995.333313,85.58900452 991.444458,85.71431732 990.666626,85.83960724 983.666687,85.96494293 979.777771,86.09025574 979,86.21556854 977.444458,86.34088135 976.666687,86.46617126 975.888916,86.59148407 975.111084,86.71684265 973.555542,86.84215546 972.777771,87.09275818 971.222229,87.21807098 968.888916,87.34338379 967.333313,87.5940094 965.777771,87.7193222 965,87.84463501 963.444458,87.96994781 961.888916,88.09526062 958,88.22057343 957.222229,88.34588623 956.444458,88.47119904 955.666626,88.59651184 950.222229,88.72182465 949.444458,89.09778595 948.666687,89.22309875 946.333374,89.34841156 943.222229,89.47370148 940.888916,89.59901428 940.111084,89.72432709 938.555542,89.84966278 937.777771,89.97497559 937,90.22557831 936.222229,90.47620392 935.444458,90.60153961 934.666626,90.85216522 933.111084,90.97747803 932.333313,91.10279083 931.555542,91.22810364 929.222229,91.35339355 926.888916,91.47872925 926.111084,91.60404205 925.333313,91.72935486 924.555542,91.85466766 923.777771,91.97995758 921.444458,92.23060608 920.666687,92.48123169 919.888855,92.85714722 919.111084,92.9825058 916,93.10779572 915.222229,93.23310852 914.444458,93.48373413 910.555542,93.60904694 909.777771,93.73435974 909,93.85967255 908.222229,93.98498535 907.444458,94.23561096 905.888916,94.48621368 898.888916,94.36092377 897.333313,94.61157227 896.555542,94.73688507 892.666687,94.98748779 891.111084,95.1128006 890.333313,95.2381134 888.777771,95.61405182 888,95.86467743 887.222229,95.98999023 886.444458,96.24061584 885.666687,97.11782837 884.888916,98.37093353 884.111084,100.5012741 883.333313,103.8847198 883.333313,119.423584\" style=\"fill:none;stroke-width:1;stroke:rgb(242,12,12);stroke-opacity:1;\"/>\n",
       "</g></g><g inkscape:groupmode=\"layer\" inkscape:label=\"Class #1 (AUC: 1)\" style=\"display:inline\"><g><title>Class #1 (AUC: 1)</title><polyline points=\" 1116.666626,106.0150604 1115.888916,95.1128006 1115.111084,91.60404205 1114.333374,89.09778595 1113.555542,87.7193222 1112.777832,86.21556854 1112,85.71431732 1111.222168,85.46369171 1109.666748,85.08773041 1108.888916,84.9624176 1108.111084,84.8371048 1105,84.58647919 1103.444458,84.33587646 1102.666626,84.21054077 1101.888916,84.08522797 1099.555542,83.95991516 1095.666626,83.70931244 1091,83.58399963 1088.666748,83.70931244 1040.444458,83.58399963 1034.222168,83.70931244 967.333313,83.58399963 951,83.70931244 927.666687,83.83462524 891.888916,83.95991516 891.111084,84.08522797 888,84.21054077 887.222229,84.46118927 886.444458,84.58647919 885.666687,84.8371048 884.888916,85.58900452 884.111084,88.47119904 883.333313,101.2531509 883.333313,293.9849854\" style=\"fill:none;stroke-width:1;stroke:rgb(242,209,12);stroke-opacity:1;\"/>\n",
       "</g></g><g inkscape:groupmode=\"layer\" inkscape:label=\"Class #2 (AUC: 0.998)\" style=\"display:inline\"><g><title>Class #2 (AUC: 0.998)</title><polyline points=\" 1066.111084,89.34841156 1065.333252,89.22309875 1060.666626,89.09778595 1059.888916,88.97242737 1057.555542,88.84713745 1055.222168,88.59651184 1048.222168,88.84713745 1047.444458,88.72182465 1045.111084,88.59651184 1040.444458,88.47119904 1038.888916,88.22057343 1036.555542,87.96994781 1035.77771,87.84463501 1034.222168,87.5940094 1031.888916,87.34338379 1027.222168,87.21807098 1025.666626,87.09275818 1022.555542,86.84215546 1021.777771,86.71684265 1021,86.59148407 1019.444458,86.71684265 1017.111084,86.21556854 1016.333374,86.09025574 1015.555542,85.96494293 1013.222229,85.83960724 1012.444458,85.71431732 1011.666687,85.83960724 1008.555542,85.71431732 1007.777771,85.58900452 1007,85.71431732 1000.777771,85.58900452 998.444458,85.33837891 996.888916,85.2130661 995.333313,85.08773041 993.777771,84.9624176 992.222229,84.9624176 989.888916,84.8371048 988.333313,84.9624176 972.777771,85.08773041 970.444458,84.9624176 964.222229,85.08773041 962.666687,85.08773041 954.111084,84.9624176 949.444458,85.08773041 947.888916,85.2130661 940.111084,85.33837891 936.222229,85.46369171 935.444458,85.58900452 933.888916,85.71431732 931.555542,85.83960724 930.777771,85.96494293 926.888916,85.83960724 925.333313,85.83960724 924.555542,85.71431732 923.777771,85.83960724 920.666687,85.96494293 919.888855,86.09025574 919.111084,86.21556854 918.333374,86.34088135 916.777771,86.46617126 915.222229,86.59148407 912.888916,86.71684265 912.111084,86.84215546 911.333313,86.96744537 910.555542,87.09275818 909.777771,87.21807098 909,87.34338379 907.444458,87.46871948 905.888916,87.5940094 905.111084,88.09526062 904.333313,88.84713745 903.555542,88.97242737 902.777771,89.22309875 902,89.34841156 901.222229,89.47370148 900.444458,89.97497559 899.666687,90.1002655 898.111084,90.47620392 897.333313,90.85216522 896.555542,90.97747803 895.777771,91.22810364 895,91.85466766 894.222229,92.73183441 893.444458,92.9825058 892.666687,93.23310852 891.888916,93.85967255 891.111084,94.73688507 890.333313,95.61405182 889.555542,96.36592865 888.777771,97.11782837 888,98.99752045 887.222229,100.8772354 886.444458,102.6316147 885.666687,105.8897476 884.888916,111.9047852 884.111084,125.5639343 883.333313,160.7769623 883.333313,310.6516418\" style=\"fill:none;stroke-width:1;stroke:rgb(78,242,12);stroke-opacity:1;\"/>\n",
       "</g></g><g inkscape:groupmode=\"layer\" inkscape:label=\"Class #3 (AUC: 1)\" style=\"display:inline\"><g><title>Class #3 (AUC: 1)</title><polyline points=\" 1116.666626,87.46871948 1033.444458,84.8371048 994.555542,84.71179199 972.777771,84.58647919 970.444458,84.46118927 966.555542,84.33587646 960.333313,84.21054077 937,84.08522797 932.333313,83.95991516 926.888916,83.83462524 914.444458,83.70931244 909,83.58399963 906.666626,83.58399963 904.333313,83.45866394 903.555542,83.58399963 900.444458,83.83462524 899.666687,84.08522797 898.111084,84.21054077 895.777771,84.33587646 893.444458,84.46118927 892.666687,84.71179199 891.888916,84.9624176 891.111084,85.33837891 890.333313,85.46369171 889.555542,86.46617126 888.777771,86.96744537 888,88.34588623 887.222229,89.47370148 886.444458,91.72935486 885.666687,94.11029816 884.888916,97.99501801 884.111084,102.8822403 883.333313,128.5714569 883.333313,312.5313416\" style=\"fill:none;stroke-width:1;stroke:rgb(12,242,143);stroke-opacity:1;\"/>\n",
       "</g></g><g inkscape:groupmode=\"layer\" inkscape:label=\"Class #4 (AUC: 0.975)\" style=\"display:inline\"><g><title>Class #4 (AUC: 0.975)</title><polyline points=\" 940.111084,83.95991516 937,84.08522797 930.777771,84.21054077 929.222229,84.08522797 916,84.21054077 914.444458,84.33587646 912.111084,84.46118927 909.777771,84.46118927 907.444458,84.58647919 906.666626,84.71179199 905.888916,84.8371048 903.555542,84.9624176 902.777771,85.08773041 902,85.33837891 901.222229,85.46369171 898.888916,85.83960724 896.555542,86.09025574 895.777771,86.46617126 895,86.59148407 894.222229,86.71684265 893.444458,86.84215546 891.888916,87.21807098 891.111084,87.5940094 890.333313,87.7193222 889.555542,87.96994781 888.777771,88.59651184 888,89.22309875 887.222229,89.59901428 886.444458,89.97497559 885.666687,90.97747803 884.888916,93.10779572 884.111084,95.61405182 883.333313,107.1428757 883.333313,316.0401001\" style=\"fill:none;stroke-width:1;stroke:rgb(12,143,242);stroke-opacity:1;\"/>\n",
       "</g></g><g inkscape:groupmode=\"layer\" inkscape:label=\"Class #5 (AUC: 0.999)\" style=\"display:inline\"><g><title>Class #5 (AUC: 0.999)</title><polyline points=\" 1028.777832,85.08773041 1016.333374,84.9624176 1014.777771,84.8371048 1003.888916,84.71179199 992.222229,84.58647919 990.666626,84.46118927 989.111084,84.33587646 978.222229,84.21054077 958,84.08522797 954.111084,83.95991516 942.444458,83.83462524 940.111084,83.70931244 934.666626,83.58399963 929.222229,83.58399963 922.222229,83.70931244 912.111084,83.83462524 910.555542,84.08522797 909.777771,84.21054077 906.666626,84.33587646 905.111084,84.46118927 904.333313,84.71179199 899.666687,85.08773041 898.888916,85.2130661 897.333313,85.33837891 895.777771,85.46369171 895,85.58900452 894.222229,85.71431732 893.444458,85.83960724 892.666687,86.09025574 891.888916,86.71684265 891.111084,87.09275818 890.333313,87.34338379 889.555542,88.09526062 888.777771,88.84713745 888,89.59901428 887.222229,90.22557831 886.444458,92.10527039 885.666687,94.73688507 884.888916,100.3759613 884.111084,114.536377 883.333313,157.1428833 883.333313,314.9122925\" style=\"fill:none;stroke-width:1;stroke:rgb(78,12,242);stroke-opacity:1;\"/>\n",
       "</g></g><g inkscape:groupmode=\"layer\" inkscape:label=\"Class #6 (AUC: 0.959)\" style=\"display:inline\"><g><title>Class #6 (AUC: 0.959)</title><polyline points=\" 948.666687,84.21054077 947.111084,84.33587646 944.777771,84.21054077 940.111084,84.08522797 937,83.95991516 918.333374,84.08522797 917.555542,84.21054077 916.777771,84.33587646 915.222229,84.46118927 908.222229,84.58647919 907.444458,84.8371048 903.555542,84.9624176 902,85.08773041 901.222229,85.33837891 899.666687,85.46369171 898.111084,85.71431732 896.555542,86.46617126 895.777771,86.71684265 895,86.96744537 894.222229,87.21807098 893.444458,87.84463501 892.666687,88.22057343 891.888916,88.59651184 891.111084,89.84966278 890.333313,90.35089111 889.555542,91.22810364 888.777771,92.60652161 888,93.60904694 887.222229,94.48621368 886.444458,96.24061584 885.666687,98.62158203 884.888916,103.1328659 884.111084,113.6591415 883.333313,146.3659363 883.333313,315.7894897\" style=\"fill:none;stroke-width:1;stroke:rgb(242,12,209);stroke-opacity:1;\"/>\n",
       "</g></g></g></g><g inkscape:groupmode=\"layer\" inkscape:label=\"X axis\" style=\"display:inline\"><g><title>X axis</title><line style=\"fill:none;stroke-width:1;stroke:rgb(0,0,0);stroke-opacity:1;marker-end:url(#Arrow1Mend);\" x1=\"860.5\" x2=\"1140.5\" y1=\"340.5\" y2=\"340.5\"/>\n",
       "<line style=\"fill:none;stroke-width:1;stroke:rgb(0,0,0);stroke-opacity:1;\" x1=\"913\" x2=\"913\" y1=\"338.5\" y2=\"340.5\"/>\n",
       "<line style=\"fill:none;stroke-width:1;stroke:rgb(0,0,0);stroke-opacity:1;\" x1=\"971.333313\" x2=\"971.333313\" y1=\"338.5\" y2=\"340.5\"/>\n",
       "<line style=\"fill:none;stroke-width:1;stroke:rgb(0,0,0);stroke-opacity:1;\" x1=\"1029.666626\" x2=\"1029.666626\" y1=\"338.5\" y2=\"340.5\"/>\n",
       "<line style=\"fill:none;stroke-width:1;stroke:rgb(0,0,0);stroke-opacity:1;\" x1=\"1088\" x2=\"1088\" y1=\"338.5\" y2=\"340.5\"/>\n",
       "<line style=\"fill:none;stroke-width:1;stroke:rgb(0,0,0);stroke-opacity:1;\" x1=\"883.833313\" x2=\"883.833313\" y1=\"336.5\" y2=\"340.5\"/>\n",
       "<text dy=\"11\" style=\"fill:rgb(0,0,0)fill-opacity:1;stroke:none;font-family:'Times New Roman';font-size:11px;text-anchor:middle;\" x=\"883.833313\" y=\"348.5\">0.00</text>\n",
       "<line style=\"fill:none;stroke-width:1;stroke:rgb(0,0,0);stroke-opacity:1;\" x1=\"942.166626\" x2=\"942.166626\" y1=\"336.5\" y2=\"340.5\"/>\n",
       "<text dy=\"11\" style=\"fill:rgb(0,0,0)fill-opacity:1;stroke:none;font-family:'Times New Roman';font-size:11px;text-anchor:middle;\" x=\"942.166626\" y=\"348.5\">0.25</text>\n",
       "<line style=\"fill:none;stroke-width:1;stroke:rgb(0,0,0);stroke-opacity:1;\" x1=\"1000.5\" x2=\"1000.5\" y1=\"336.5\" y2=\"340.5\"/>\n",
       "<text dy=\"11\" style=\"fill:rgb(0,0,0)fill-opacity:1;stroke:none;font-family:'Times New Roman';font-size:11px;text-anchor:middle;\" x=\"1000.5\" y=\"348.5\">0.50</text>\n",
       "<line style=\"fill:none;stroke-width:1;stroke:rgb(0,0,0);stroke-opacity:1;\" x1=\"1058.833252\" x2=\"1058.833252\" y1=\"336.5\" y2=\"340.5\"/>\n",
       "<text dy=\"11\" style=\"fill:rgb(0,0,0)fill-opacity:1;stroke:none;font-family:'Times New Roman';font-size:11px;text-anchor:middle;\" x=\"1058.833252\" y=\"348.5\">0.75</text>\n",
       "<line style=\"fill:none;stroke-width:1;stroke:rgb(0,0,0);stroke-opacity:1;\" x1=\"1117.166626\" x2=\"1117.166626\" y1=\"336.5\" y2=\"340.5\"/>\n",
       "<text dy=\"11\" style=\"fill:rgb(0,0,0)fill-opacity:1;stroke:none;font-family:'Times New Roman';font-size:11px;text-anchor:middle;\" x=\"1117.166626\" y=\"348.5\">1.00</text>\n",
       "<text dy=\"11\" style=\"fill:rgb(0,0,0)fill-opacity:1;stroke:none;font-family:'Times New Roman';font-size:11px;text-anchor:middle;\" x=\"1000.5\" y=\"370.5\">Thresold</text>\n",
       "</g></g><g inkscape:groupmode=\"layer\" inkscape:label=\"Y axis\" style=\"display:inline\"><g><title>Y axis</title><line style=\"fill:none;stroke-width:1;stroke:rgb(0,0,0);stroke-opacity:1;marker-end:url(#Arrow1Mend);\" x1=\"860.5\" x2=\"860.5\" y1=\"340.5\" y2=\"60.50000381\"/>\n",
       "<line style=\"fill:none;stroke-width:1;stroke:rgb(0,0,0);stroke-opacity:1;\" x1=\"860.5\" x2=\"862.5\" y1=\"288\" y2=\"288\"/>\n",
       "<line style=\"fill:none;stroke-width:1;stroke:rgb(0,0,0);stroke-opacity:1;\" x1=\"860.5\" x2=\"862.5\" y1=\"229.6666718\" y2=\"229.6666718\"/>\n",
       "<line style=\"fill:none;stroke-width:1;stroke:rgb(0,0,0);stroke-opacity:1;\" x1=\"860.5\" x2=\"862.5\" y1=\"171.3333282\" y2=\"171.3333282\"/>\n",
       "<line style=\"fill:none;stroke-width:1;stroke:rgb(0,0,0);stroke-opacity:1;\" x1=\"860.5\" x2=\"862.5\" y1=\"113\" y2=\"113\"/>\n",
       "<line style=\"fill:none;stroke-width:1;stroke:rgb(0,0,0);stroke-opacity:1;\" x1=\"860.5\" x2=\"864.5\" y1=\"317.1666565\" y2=\"317.1666565\"/>\n",
       "<text dy=\"5.5\" style=\"fill:rgb(0,0,0)fill-opacity:1;stroke:none;font-family:'Times New Roman';font-size:11px;text-anchor:end;\" x=\"852.5\" y=\"317.1666565\">0.00</text>\n",
       "<line style=\"fill:none;stroke-width:1;stroke:rgb(0,0,0);stroke-opacity:1;\" x1=\"860.5\" x2=\"864.5\" y1=\"258.8333435\" y2=\"258.8333435\"/>\n",
       "<text dy=\"5.5\" style=\"fill:rgb(0,0,0)fill-opacity:1;stroke:none;font-family:'Times New Roman';font-size:11px;text-anchor:end;\" x=\"852.5\" y=\"258.8333435\">0.25</text>\n",
       "<line style=\"fill:none;stroke-width:1;stroke:rgb(0,0,0);stroke-opacity:1;\" x1=\"860.5\" x2=\"864.5\" y1=\"200.5\" y2=\"200.5\"/>\n",
       "<text dy=\"5.5\" style=\"fill:rgb(0,0,0)fill-opacity:1;stroke:none;font-family:'Times New Roman';font-size:11px;text-anchor:end;\" x=\"852.5\" y=\"200.5\">0.50</text>\n",
       "<line style=\"fill:none;stroke-width:1;stroke:rgb(0,0,0);stroke-opacity:1;\" x1=\"860.5\" x2=\"864.5\" y1=\"142.1666718\" y2=\"142.1666718\"/>\n",
       "<text dy=\"5.5\" style=\"fill:rgb(0,0,0)fill-opacity:1;stroke:none;font-family:'Times New Roman';font-size:11px;text-anchor:end;\" x=\"852.5\" y=\"142.1666718\">0.75</text>\n",
       "<line style=\"fill:none;stroke-width:1;stroke:rgb(0,0,0);stroke-opacity:1;\" x1=\"860.5\" x2=\"864.5\" y1=\"83.83335114\" y2=\"83.83335114\"/>\n",
       "<text dy=\"5.5\" style=\"fill:rgb(0,0,0)fill-opacity:1;stroke:none;font-family:'Times New Roman';font-size:11px;text-anchor:end;\" x=\"852.5\" y=\"83.83335114\">1.00</text>\n",
       "<text dy=\"5.5\" style=\"fill:rgb(0,0,0)fill-opacity:1;stroke:none;font-family:'Times New Roman';font-size:11px;text-anchor:middle;\" transform=\"rotate(-90 815 200)\" x=\"815.5\" y=\"200.5\">Accuracy</text>\n",
       "</g></g><text dy=\"8.25\" style=\"fill:rgb(0,0,0)fill-opacity:1;stroke:none;font-family:'Times New Roman';font-size:16.5px;text-anchor:middle;\" x=\"1000.5\" y=\"30.50000191\"/>\n",
       "<g inkscape:groupmode=\"layer\" inkscape:label=\"Legend\" style=\"display:inline\"><g><title>Legend</title><text dy=\"5.5\" style=\"fill:rgb(0,0,0)fill-opacity:1;stroke:none;font-family:'Times New Roman';font-size:11px;text-anchor:start;\" x=\"1064.5\" y=\"60.50000381\">Class #0 (AUC: 1)</text>\n",
       "<line style=\"fill:none;stroke-width:1;stroke:rgb(242,12,12);stroke-opacity:1;\" x1=\"1040.5\" x2=\"1056.5\" y1=\"60.50000381\" y2=\"60.50000381\"/>\n",
       "<text dy=\"5.5\" style=\"fill:rgb(0,0,0)fill-opacity:1;stroke:none;font-family:'Times New Roman';font-size:11px;text-anchor:start;\" x=\"1064.5\" y=\"80.5\">Class #1 (AUC: 1)</text>\n",
       "<line style=\"fill:none;stroke-width:1;stroke:rgb(242,209,12);stroke-opacity:1;\" x1=\"1040.5\" x2=\"1056.5\" y1=\"80.5\" y2=\"80.5\"/>\n",
       "<text dy=\"5.5\" style=\"fill:rgb(0,0,0)fill-opacity:1;stroke:none;font-family:'Times New Roman';font-size:11px;text-anchor:start;\" x=\"1064.5\" y=\"100.5\">Class #2 (AUC: 0.998)</text>\n",
       "<line style=\"fill:none;stroke-width:1;stroke:rgb(78,242,12);stroke-opacity:1;\" x1=\"1040.5\" x2=\"1056.5\" y1=\"100.5\" y2=\"100.5\"/>\n",
       "<text dy=\"5.5\" style=\"fill:rgb(0,0,0)fill-opacity:1;stroke:none;font-family:'Times New Roman';font-size:11px;text-anchor:start;\" x=\"1064.5\" y=\"120.5000076\">Class #3 (AUC: 1)</text>\n",
       "<line style=\"fill:none;stroke-width:1;stroke:rgb(12,242,143);stroke-opacity:1;\" x1=\"1040.5\" x2=\"1056.5\" y1=\"120.5000076\" y2=\"120.5000076\"/>\n",
       "<text dy=\"5.5\" style=\"fill:rgb(0,0,0)fill-opacity:1;stroke:none;font-family:'Times New Roman';font-size:11px;text-anchor:start;\" x=\"1064.5\" y=\"140.5000153\">Class #4 (AUC: 0.975)</text>\n",
       "<line style=\"fill:none;stroke-width:1;stroke:rgb(12,143,242);stroke-opacity:1;\" x1=\"1040.5\" x2=\"1056.5\" y1=\"140.5000153\" y2=\"140.5000153\"/>\n",
       "<text dy=\"5.5\" style=\"fill:rgb(0,0,0)fill-opacity:1;stroke:none;font-family:'Times New Roman';font-size:11px;text-anchor:start;\" x=\"1064.5\" y=\"160.5\">Class #5 (AUC: 0.999)</text>\n",
       "<line style=\"fill:none;stroke-width:1;stroke:rgb(78,12,242);stroke-opacity:1;\" x1=\"1040.5\" x2=\"1056.5\" y1=\"160.5\" y2=\"160.5\"/>\n",
       "<text dy=\"5.5\" style=\"fill:rgb(0,0,0)fill-opacity:1;stroke:none;font-family:'Times New Roman';font-size:11px;text-anchor:start;\" x=\"1064.5\" y=\"180.5\">Class #6 (AUC: 0.959)</text>\n",
       "<line style=\"fill:none;stroke-width:1;stroke:rgb(242,12,209);stroke-opacity:1;\" x1=\"1040.5\" x2=\"1056.5\" y1=\"180.5\" y2=\"180.5\"/>\n",
       "</g></g></svg>"
      ],
      "text/plain": [
       "<IPython.core.display.SVG object>"
      ]
     },
     "execution_count": 50,
     "metadata": {},
     "output_type": "execute_result"
    }
   ],
   "source": [
    "from IPython.display import SVG\n",
    "SVG(filename='results/cv_roc.svg')"
   ]
  },
  {
   "cell_type": "markdown",
   "metadata": {},
   "source": [
    "### Evaluation"
   ]
  },
  {
   "cell_type": "code",
   "execution_count": 39,
   "metadata": {
    "scrolled": true
   },
   "outputs": [
    {
     "data": {
      "text/html": [
       "<div>\n",
       "<style>\n",
       "    .dataframe thead tr:only-child th {\n",
       "        text-align: right;\n",
       "    }\n",
       "\n",
       "    .dataframe thead th {\n",
       "        text-align: left;\n",
       "    }\n",
       "\n",
       "    .dataframe tbody tr th {\n",
       "        vertical-align: top;\n",
       "    }\n",
       "</style>\n",
       "<table border=\"1\" class=\"dataframe\">\n",
       "  <thead>\n",
       "    <tr style=\"text-align: right;\">\n",
       "      <th></th>\n",
       "      <th>sequence</th>\n",
       "      <th>truth</th>\n",
       "      <th>prediction</th>\n",
       "      <th>fold</th>\n",
       "      <th>p0</th>\n",
       "      <th>p1</th>\n",
       "      <th>p2</th>\n",
       "      <th>p3</th>\n",
       "      <th>p4</th>\n",
       "      <th>p5</th>\n",
       "      <th>p6</th>\n",
       "    </tr>\n",
       "  </thead>\n",
       "  <tbody>\n",
       "    <tr>\n",
       "      <th>0</th>\n",
       "      <td>1204</td>\n",
       "      <td>0</td>\n",
       "      <td>0</td>\n",
       "      <td>0</td>\n",
       "      <td>1.000000</td>\n",
       "      <td>0.0</td>\n",
       "      <td>0.000000</td>\n",
       "      <td>0.000000</td>\n",
       "      <td>0.0</td>\n",
       "      <td>0.000000</td>\n",
       "      <td>0.000000</td>\n",
       "    </tr>\n",
       "    <tr>\n",
       "      <th>1</th>\n",
       "      <td>1213</td>\n",
       "      <td>0</td>\n",
       "      <td>0</td>\n",
       "      <td>0</td>\n",
       "      <td>0.996667</td>\n",
       "      <td>0.0</td>\n",
       "      <td>0.003333</td>\n",
       "      <td>0.000000</td>\n",
       "      <td>0.0</td>\n",
       "      <td>0.000000</td>\n",
       "      <td>0.000000</td>\n",
       "    </tr>\n",
       "    <tr>\n",
       "      <th>2</th>\n",
       "      <td>1575</td>\n",
       "      <td>0</td>\n",
       "      <td>0</td>\n",
       "      <td>0</td>\n",
       "      <td>0.986667</td>\n",
       "      <td>0.0</td>\n",
       "      <td>0.003333</td>\n",
       "      <td>0.000000</td>\n",
       "      <td>0.0</td>\n",
       "      <td>0.000000</td>\n",
       "      <td>0.010000</td>\n",
       "    </tr>\n",
       "    <tr>\n",
       "      <th>3</th>\n",
       "      <td>352</td>\n",
       "      <td>0</td>\n",
       "      <td>0</td>\n",
       "      <td>0</td>\n",
       "      <td>0.993333</td>\n",
       "      <td>0.0</td>\n",
       "      <td>0.000000</td>\n",
       "      <td>0.003333</td>\n",
       "      <td>0.0</td>\n",
       "      <td>0.000000</td>\n",
       "      <td>0.003333</td>\n",
       "    </tr>\n",
       "    <tr>\n",
       "      <th>4</th>\n",
       "      <td>66</td>\n",
       "      <td>0</td>\n",
       "      <td>0</td>\n",
       "      <td>0</td>\n",
       "      <td>0.996667</td>\n",
       "      <td>0.0</td>\n",
       "      <td>0.000000</td>\n",
       "      <td>0.000000</td>\n",
       "      <td>0.0</td>\n",
       "      <td>0.003333</td>\n",
       "      <td>0.000000</td>\n",
       "    </tr>\n",
       "  </tbody>\n",
       "</table>\n",
       "</div>"
      ],
      "text/plain": [
       "   sequence  truth  prediction  fold        p0   p1        p2        p3   p4  \\\n",
       "0      1204      0           0     0  1.000000  0.0  0.000000  0.000000  0.0   \n",
       "1      1213      0           0     0  0.996667  0.0  0.003333  0.000000  0.0   \n",
       "2      1575      0           0     0  0.986667  0.0  0.003333  0.000000  0.0   \n",
       "3       352      0           0     0  0.993333  0.0  0.000000  0.003333  0.0   \n",
       "4        66      0           0     0  0.996667  0.0  0.000000  0.000000  0.0   \n",
       "\n",
       "         p5        p6  \n",
       "0  0.000000  0.000000  \n",
       "1  0.000000  0.000000  \n",
       "2  0.000000  0.010000  \n",
       "3  0.000000  0.003333  \n",
       "4  0.003333  0.000000  "
      ]
     },
     "execution_count": 39,
     "metadata": {},
     "output_type": "execute_result"
    }
   ],
   "source": [
    "import pandas as pd\n",
    "df = pd.read_csv('results/cv.csv', sep='\\t')\n",
    "df.head()"
   ]
  },
  {
   "cell_type": "code",
   "execution_count": 48,
   "metadata": {},
   "outputs": [],
   "source": [
    "from sklearn.metrics import classification_report,confusion_matrix\n",
    "y_true=df['truth'].tolist()\n",
    "y_pred=df['prediction'].tolist()\n",
    "target_names = ['success', 'noscrew', 'no hole found', 'crossthread',\n",
    "        'stripped no engage',\n",
    "        'stripped',\n",
    "        'partial']"
   ]
  },
  {
   "cell_type": "markdown",
   "metadata": {},
   "source": [
    "#### Confusion Matrix"
   ]
  },
  {
   "cell_type": "code",
   "execution_count": 47,
   "metadata": {},
   "outputs": [
    {
     "data": {
      "text/plain": [
       "array([[1573,    1,    0,    0,    0,    0,    0],\n",
       "       [   0,  181,    0,    0,    0,    0,    0],\n",
       "       [   4,    1,   43,    0,    0,    0,    0],\n",
       "       [   7,    1,    2,   23,    0,    0,    0],\n",
       "       [   0,    0,    5,    0,    0,    0,    0],\n",
       "       [   8,    0,    1,    0,    0,    5,    0],\n",
       "       [   6,    0,    1,    0,    0,    0,    0]])"
      ]
     },
     "execution_count": 47,
     "metadata": {},
     "output_type": "execute_result"
    }
   ],
   "source": [
    "confusion_matrix(y_true,y_pred)"
   ]
  },
  {
   "cell_type": "markdown",
   "metadata": {},
   "source": [
    "#### Classification report"
   ]
  },
  {
   "cell_type": "code",
   "execution_count": 49,
   "metadata": {},
   "outputs": [
    {
     "name": "stdout",
     "output_type": "stream",
     "text": [
      "                    precision    recall  f1-score   support\n",
      "\n",
      "           success       0.98      1.00      0.99      1574\n",
      "           noscrew       0.98      1.00      0.99       181\n",
      "     no hole found       0.83      0.90      0.86        48\n",
      "       crossthread       1.00      0.70      0.82        33\n",
      "stripped no engage       0.00      0.00      0.00         5\n",
      "          stripped       1.00      0.36      0.53        14\n",
      "           partial       0.00      0.00      0.00         7\n",
      "\n",
      "       avg / total       0.97      0.98      0.98      1862\n",
      "\n"
     ]
    },
    {
     "name": "stderr",
     "output_type": "stream",
     "text": [
      "/data/apps/anaconda3/lib/python3.6/site-packages/sklearn/metrics/classification.py:1135: UndefinedMetricWarning: Precision and F-score are ill-defined and being set to 0.0 in labels with no predicted samples.\n",
      "  'precision', 'predicted', average, warn_for)\n"
     ]
    }
   ],
   "source": [
    "print(classification_report(y_true, y_pred, target_names=target_names))"
   ]
  }
 ],
 "metadata": {
  "kernelspec": {
   "display_name": "Python [conda root]",
   "language": "python",
   "name": "conda-root-py"
  },
  "language_info": {
   "codemirror_mode": {
    "name": "ipython",
    "version": 3
   },
   "file_extension": ".py",
   "mimetype": "text/x-python",
   "name": "python",
   "nbconvert_exporter": "python",
   "pygments_lexer": "ipython3",
   "version": "3.6.2"
  }
 },
 "nbformat": 4,
 "nbformat_minor": 2
}
