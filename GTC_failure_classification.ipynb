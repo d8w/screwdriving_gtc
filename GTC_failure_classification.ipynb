{
 "cells": [
  {
   "cell_type": "markdown",
   "metadata": {},
   "source": [
    "# GTC failure classification models and results\n",
    "\n",
    "In this notebook, we use GTC to classify failure modes.\n",
    "\n",
    "* Failure classification\n",
    "    * 7 modes\n",
    "        * success\n",
    "        * noscrew\n",
    "        * no hole found\n",
    "        * crossthread\n",
    "        * stripped no engage\n",
    "        * stripped\n",
    "        * partial\n",
    "\n",
    "# Results at a glance\n",
    " GTC yields an overall **98.01%** accuracy. \n",
    " It outperforms Random Forest and LSTM."
   ]
  },
  {
   "cell_type": "markdown",
   "metadata": {},
   "source": [
    "The dataset contains a number of fields including\n",
    "* class.success - 1 sucess, 0 failure\n",
    "* label.event - beginning and end of a stage\n",
    "* label.status - 1 when a stage starts, 0 when ends\n",
    "* scalar "
   ]
  },
  {
   "cell_type": "markdown",
   "metadata": {},
   "source": [
    "# Prerequisites\n",
    "\n",
    "Download and install\n",
    "\n",
    "* [GTC](http://mathieu.guillame-bert.com/software_repo/gtc_2017_09_10.zip) \n",
    "* [Honey](http://framework.mathieu.guillame-bert.com/download_honey#honey)"
   ]
  },
  {
   "cell_type": "markdown",
   "metadata": {},
   "source": [
    "# Extract labels"
   ]
  },
  {
   "cell_type": "markdown",
   "metadata": {},
   "source": [
    "Prerequisites\n",
    "\n",
    "* data files in \n",
    "\n",
    "```bash\n",
    "../raw/label\n",
    "```\n",
    "\n",
    "* create directories \n",
    "\n",
    "```bash\n",
    "mkdir -p extracted/label\n",
    "```"
   ]
  },
  {
   "cell_type": "code",
   "execution_count": 3,
   "metadata": {},
   "outputs": [
    {
     "name": "stdout",
     "output_type": "stream",
     "text": [
      "done\n"
     ]
    }
   ],
   "source": [
    "import os\n",
    "import json\n",
    "\n",
    "dirPath = \"../raw/label/\"\n",
    "label_files = os.listdir(dirPath)\n",
    "outputFile_csv = \"extracted/labels.csv\"\n",
    "outputFile_pred = \"extracted/labels.pred\"\n",
    "outputDir_evt = \"extracted/label/\"\n",
    "\n",
    "def evt(f,t,s,v=1):\n",
    "    f.write(str(t)+\"\\t\"+str(s)+\"\\t\"+str(v)+\"\\n\")\n",
    "\n",
    "#print(label_files)\n",
    "\n",
    "f_csv = open(outputFile_csv,\"w\")\n",
    "f_csv.write(\"ssts\\tresult\\tsuccess\\n\")\n",
    "\n",
    "f_pred = open(outputFile_pred,\"w\")\n",
    "\n",
    "for f in label_files:\n",
    "    ssts = os.path.splitext(f)[0]\n",
    "\n",
    "    f_pred.write(\"Run(\"+ssts+\")\\n\")\n",
    "    \n",
    "    data = json.loads( open(dirPath+f).read() )\n",
    "\n",
    "    if (data[\"Result\"]==\"success\"):\n",
    "        r = \"1\"\n",
    "    else:\n",
    "        r = \"0\"\n",
    "\n",
    "    c = -1\n",
    "    if (data[\"Result\"]==\"success\"):\n",
    "        c = 0\n",
    "    elif (data[\"Result\"]==\"noscrew\"):\n",
    "        c = 1\n",
    "    elif (data[\"Result\"]==\"no_hole_found\"):\n",
    "        c = 2\n",
    "    elif (data[\"Result\"]==\"crossthread\"):\n",
    "        c = 3\n",
    "    elif (data[\"Result\"]==\"stripped_no_engage\"):\n",
    "        c = 4\n",
    "    elif (data[\"Result\"]==\"stripped\"):\n",
    "        c = 5\n",
    "    elif (data[\"Result\"]==\"partial\"):\n",
    "        c = 6\n",
    "\n",
    "    if c==-1:\n",
    "        print(data[\"Result\"])\n",
    "        raise \"crap with \" + data[\"Result\"]\n",
    "\n",
    "    f_pred.write(\"Outcome_\"+data[\"Result\"]+\"(\"+ssts+\")\\n\")\n",
    "        \n",
    "    f_csv.write(ssts + \"\\t\" + data[\"Result\"] + \"\\t\" + r + \"\\n\" )\n",
    "\n",
    "    f_evt = open(outputDir_evt + ssts + \".evt\" ,\"w\")\n",
    "\n",
    "    evt(f_evt,0,\"class.success\",r)\n",
    "    evt(f_evt,0,\"class.type\",c)\n",
    "    \n",
    "    if data[\"Result\"]==\"success\":\n",
    "        evt(f_evt,0,\"label:event.success\",1)\n",
    "    else:\n",
    "        evt(f_evt,0,\"label:event.fail\",1)\n",
    "\n",
    "    maxTime = 0\n",
    "    \n",
    "    for e in data[\"timeseries\"]:\n",
    "        label = e[\"label\"]\n",
    "        interval = e[\"time\"]\n",
    "        evt(f_evt,interval[0],\"label:event.begin_\"+label)\n",
    "        evt(f_evt,interval[1],\"label:event.end_\"+label)\n",
    "\n",
    "        evt(f_evt,interval[0],\"label:status.\"+label,1)\n",
    "        evt(f_evt,interval[1],\"label:status.\"+label,0)\n",
    "\n",
    "        maxTime = interval[1]\n",
    "\n",
    "    evt(f_evt,maxTime,\"label:event.end_of_annotation\")\n",
    "    \n",
    "    f_evt.close()\n",
    "    #break\n",
    "\n",
    "f_csv.close()\n",
    "f_pred.close()\n",
    "print(\"done\")"
   ]
  },
  {
   "cell_type": "markdown",
   "metadata": {},
   "source": [
    "# Extract features\n",
    "\n",
    "TODO\n",
    "to reproduce\n",
    "\n",
    "Run the honey scripts. Haven't tried.\n",
    "```bash\n",
    "honey feature_ft_v2.hny\n",
    "honey feature_motor_v2.hny\n",
    "```\n",
    "\n",
    "The results are\n",
    "\n",
    "/data/foxconn/foxconn/screwdriving_data/old/processed/\n",
    "\n",
    "* ft_v2/*.bin - force and torque in x, y and z\n",
    "* motor_v2/*.bin - current and angle"
   ]
  },
  {
   "cell_type": "code",
   "execution_count": 19,
   "metadata": {},
   "outputs": [
    {
     "name": "stdout",
     "output_type": "stream",
     "text": [
      "@data input:\"/data/foxconn/foxconn/screwdriving_data/old/processed/motor;/data/foxconn/foxconn/screwdriving_data/old/processed/ft;/data/foxconn/foxconn/screwdriving_data/run19x/extracted/label\" output:\"snapshot/endofrecord\" extension:\"bin\"\n",
      "\n",
      "$all = echo #.*\n",
      "\n",
      "$limit = filter $all \"label:event\\.end_of_annotation\"\n",
      "$limit = delay $limit 0.001\n",
      "\n",
      "#$all = passIf $all \"arg1,0.5,<\" arg1:$limit\n",
      "$all = passIfState $all gate:$limit reverse:true\n",
      "\n",
      "$output = echo $all\n",
      "\n",
      "saveBufferedBin $output file:%output\n"
     ]
    }
   ],
   "source": [
    "%%bash\n",
    "\n",
    "cat extractSnapshop_lastRecord.hny"
   ]
  },
  {
   "cell_type": "code",
   "execution_count": 21,
   "metadata": {},
   "outputs": [
    {
     "name": "stderr",
     "output_type": "stream",
     "text": [
      "IOPub data rate exceeded.\n",
      "The notebook server will temporarily stop sending output\n",
      "to the client in order to avoid crashing it.\n",
      "To change this limit, set the config variable\n",
      "`--NotebookApp.iopub_data_rate_limit`.\n"
     ]
    }
   ],
   "source": [
    "%%bash\n",
    "\n",
    "# mkdir -p snapshot/endofrecord\n",
    "\n",
    "honey extractSnapshop_lastRecord.hny"
   ]
  },
  {
   "cell_type": "markdown",
   "metadata": {},
   "source": [
    "The command creates an SSTS file in binary format. Each file comprises 137 channels."
   ]
  },
  {
   "cell_type": "markdown",
   "metadata": {},
   "source": [
    "# Merge CSVs to a bin file"
   ]
  },
  {
   "cell_type": "code",
   "execution_count": 22,
   "metadata": {
    "scrolled": true
   },
   "outputs": [
    {
     "name": "stdout",
     "output_type": "stream",
     "text": [
      "offset 200\n",
      "\n",
      "sequence 0\n",
      "dataset snapshot/endofrecord/sd_0_0_1456794424.bin\n",
      "flush\n",
      "\n",
      "sequence 1\n",
      "dataset snapshot/endofrecord/sd_0_0_1456798449.bin\n",
      "flush\n",
      "\n"
     ]
    }
   ],
   "source": [
    "%%bash\n",
    "\n",
    "head merged_featurized.sevt"
   ]
  },
  {
   "cell_type": "code",
   "execution_count": 10,
   "metadata": {},
   "outputs": [
    {
     "name": "stdout",
     "output_type": "stream",
     "text": [
      "@data input:merged_featurized.sevt output:\"merged_featurized.bin\"\n",
      "\n",
      "$ALL = echo \"#.*\"\n",
      "$SEQUENCE = filter $ALL \"sequence\"\n",
      "\n",
      "$BEGIN = eq $SEQUENCE =1\n",
      "$BEGIN = rename $BEGIN begin\n",
      "$OUTPUT += echo $BEGIN\n",
      "\n",
      "$OUTPUT += echo $ALL\n",
      "saveBufferedBin $OUTPUT file:%output\n"
     ]
    }
   ],
   "source": [
    "%%bash\n",
    "\n",
    "cat merged_featurized.hny"
   ]
  },
  {
   "cell_type": "code",
   "execution_count": 23,
   "metadata": {
    "scrolled": true
   },
   "outputs": [
    {
     "name": "stdout",
     "output_type": "stream",
     "text": [
      "\tBuilding input dataset...done\n",
      "\tInput event instances: 40892181\n",
      "\tInput event symbols: 158\n",
      "\tApplying operation...\n",
      "\tOutput event instances: 0 (0%)\n",
      "\tOutput event symbols: 0 (0%)\n",
      "\tDuration: 8s\n",
      "* Remove the cache for 3 operations. 0 cache(s) remaining.\n",
      "\tStatic processing done\n",
      "done\n",
      "CPU times: user 1.98 ms, sys: 4.14 ms, total: 6.11 ms\n",
      "Wall time: 12.6 s\n"
     ]
    }
   ],
   "source": [
    "%%time\n",
    "%%bash\n",
    "\n",
    "honey merged_featurized.hny | tail"
   ]
  },
  {
   "cell_type": "markdown",
   "metadata": {},
   "source": [
    "# Failure classification\n",
    "\n",
    "Classify an observation of time sequences to one of 7 classes."
   ]
  },
  {
   "cell_type": "markdown",
   "metadata": {},
   "source": [
    "## Train a GTC-DF model\n",
    "\n",
    "* 10 fold cross validation"
   ]
  },
  {
   "cell_type": "markdown",
   "metadata": {},
   "source": [
    "### GTC configuration file"
   ]
  },
  {
   "cell_type": "code",
   "execution_count": 30,
   "metadata": {
    "scrolled": true
   },
   "outputs": [
    {
     "name": "stdout",
     "output_type": "stream",
     "text": [
      "<!--\r\n",
      "The file that contains the configuration parameters for the learning.\r\n",
      "-->\r\n",
      "\r\n",
      "<config>\r\n",
      "\r\n",
      "<option name=\"saveRules_new\" value=\"details/motives.xml\" />\r\n",
      "\r\n",
      "<!--\r\n",
      "<data path=\"featurized.sevt\" head=\"\" limit=\"-1\" />\r\n",
      "-->\r\n",
      "<data path=\"merged_featurized.bin\" head=\"\" limit=\"-1\" />\r\n",
      "\r\n",
      "<option name=\"threads\" value=\"8\" /> \r\n",
      "\r\n",
      "<option name=\"debugLevel\" value=\"1\" />  <!-- Level of verbose of the algorithm -->\r\n",
      "\r\n",
      "<option name=\"numCaseHead\" value=\"60\" />  <!-- maximum values to consider in the split -->\r\n",
      "<option name=\"maxPastHead\" value=\"-5\" />  <!-- Bounds of the histogram -->\r\n",
      "<option name=\"maxFutureHead\" value=\"5\" />  <!-- Bounds of the histogram -->\r\n",
      "\r\n",
      "<option name=\"negation\" value=\"1\" />\r\n",
      "<option name=\"maxConditions\" value=\"6\" /> <!-- max depth 6 -->\r\n",
      "\r\n",
      "<option name=\"maxLoop\" value=\"300\" /> <!-- # of boostrap 120 -->\r\n",
      "\r\n",
      "<option name=\"maxRoots\" value=\"5\" /> <!-- # of boostrap 40 -->\r\n",
      "\r\n",
      "<option name=\"realNegation\" value=\"1\" />\r\n",
      "\r\n",
      "<option name=\"minNumberOfUse\" value=\"5\" />\r\n",
      "\r\n",
      "\r\n",
      "<option name=\"symbolSampling\" value=\"1\" />\r\n",
      "\r\n",
      "<!-- <option name=\"topSymbols\" value=\"5\" /> -->\r\n",
      "\r\n",
      "<option name=\"sightDepth\" value=\"1\" />\r\n",
      "<option name=\"maxConditionsForsightDepth\" value=\"0\" />\r\n",
      "\r\n",
      "<!-- Input files -->\r\n",
      "\r\n",
      "<outputEvent>\r\n",
      "    <!--\r\n",
      "    <predicate name=\"class\\.success\" />\r\n",
      "    -->\r\n",
      "    <predicate name=\"class\\.type\" />\r\n",
      "</outputEvent>\r\n",
      "\r\n",
      "<inputEvent>\r\n",
      "\t<predicate name=\"event\\..*\" />\r\n",
      "</inputEvent>\r\n",
      "\r\n",
      "<!--\r\n",
      "<inputEventFree>\r\n",
      "\t<predicate name=\"sequence\" />\r\n",
      "</inputEventFree>\r\n",
      "\r\n",
      "<inputEventRoot>\r\n",
      "\t<predicate name=\"sequence\" />\r\n",
      "</inputEventRoot>\r\n",
      "-->\r\n",
      "\r\n",
      "<!-- \r\n",
      "<inputEventRoot>\r\n",
      "\t<predicate name=\"event\\.value.*\" />\r\n",
      "\t<predicate name=\"begin\" />\r\n",
      "</inputEventRoot>\r\n",
      " -->\r\n",
      "\r\n",
      "<inputScalar>\r\n",
      "    <predicate name=\"(scalar\\.|(?!(event\\.|label:|class))).*\" />\r\n",
      "</inputScalar>\r\n",
      "\r\n",
      "</config>\r\n"
     ]
    }
   ],
   "source": [
    "%%bash\n",
    "\n",
    "cat config_gtc.xml"
   ]
  },
  {
   "cell_type": "markdown",
   "metadata": {},
   "source": [
    "### Command to train GTC"
   ]
  },
  {
   "cell_type": "code",
   "execution_count": 27,
   "metadata": {},
   "outputs": [
    {
     "name": "stdout",
     "output_type": "stream",
     "text": [
      "GTC_HOME=/home/dwang/sandbox/gtc_2017_09_10/gtc/bin\n",
      "${GTC_HOME}/gtc crossValidationMotives --config config_gtc.xml \\\n",
      "    --outputPlot 0 \\\n",
      "    --output results/cv.csv --folds 10\n"
     ]
    }
   ],
   "source": [
    "%%bash\n",
    "\n",
    "cat learnClassifierGTC.sh"
   ]
  },
  {
   "cell_type": "markdown",
   "metadata": {},
   "source": [
    "### Train GTC "
   ]
  },
  {
   "cell_type": "code",
   "execution_count": 28,
   "metadata": {},
   "outputs": [
    {
     "name": "stdout",
     "output_type": "stream",
     "text": [
      "\n",
      "Save results\n",
      "\tROC\n",
      "\tpredictions\n",
      "\tdetails\n",
      "\tattr importance\n",
      "\tmotive importance\n",
      "\tevaluation\n",
      "\tstats\n",
      "\tinfo\n",
      "CPU times: user 19.4 ms, sys: 9.11 ms, total: 28.5 ms\n",
      "Wall time: 12min 47s\n"
     ]
    }
   ],
   "source": [
    "%%time\n",
    "%%bash\n",
    "\n",
    "bash learnClassifierGTC.sh | tail"
   ]
  },
  {
   "cell_type": "markdown",
   "metadata": {},
   "source": [
    "### Results"
   ]
  },
  {
   "cell_type": "code",
   "execution_count": 29,
   "metadata": {},
   "outputs": [
    {
     "name": "stdout",
     "output_type": "stream",
     "text": [
      "sequences\t1862\n",
      "duration_text\t12mn 43s\n",
      "duration\t763.259\n",
      "training_time_text\t12mn 23s\n",
      "training_time\t743.329\n",
      "testing_time_text\t9.5s\n",
      "testing_time\t9.52352\n",
      "folds\t10\n",
      "classes\t7\n",
      "R2\t-nan\n",
      "Correlation\t-nan\n",
      "RSME\t-nan\n",
      "MAE\tnan\n",
      "accuracy\t0.980129\n",
      "error\t0.0198711\n",
      "motives\t105226\n",
      "voteMerging\tTOP\n",
      "individualVoteMerging\tDIST\n",
      "config\tconfig_gtc.xml\n",
      "date\t22-01-2018_13-37-32\n",
      "sparceData\t0\n",
      "dataset\tmerged_featurized.bin\n"
     ]
    }
   ],
   "source": [
    "%%bash\n",
    "\n",
    "cat ./results/cv.info"
   ]
  },
  {
   "cell_type": "markdown",
   "metadata": {},
   "source": [
    "### Evaluation"
   ]
  },
  {
   "cell_type": "code",
   "execution_count": 39,
   "metadata": {
    "scrolled": true
   },
   "outputs": [
    {
     "data": {
      "text/html": [
       "<div>\n",
       "<style>\n",
       "    .dataframe thead tr:only-child th {\n",
       "        text-align: right;\n",
       "    }\n",
       "\n",
       "    .dataframe thead th {\n",
       "        text-align: left;\n",
       "    }\n",
       "\n",
       "    .dataframe tbody tr th {\n",
       "        vertical-align: top;\n",
       "    }\n",
       "</style>\n",
       "<table border=\"1\" class=\"dataframe\">\n",
       "  <thead>\n",
       "    <tr style=\"text-align: right;\">\n",
       "      <th></th>\n",
       "      <th>sequence</th>\n",
       "      <th>truth</th>\n",
       "      <th>prediction</th>\n",
       "      <th>fold</th>\n",
       "      <th>p0</th>\n",
       "      <th>p1</th>\n",
       "      <th>p2</th>\n",
       "      <th>p3</th>\n",
       "      <th>p4</th>\n",
       "      <th>p5</th>\n",
       "      <th>p6</th>\n",
       "    </tr>\n",
       "  </thead>\n",
       "  <tbody>\n",
       "    <tr>\n",
       "      <th>0</th>\n",
       "      <td>1204</td>\n",
       "      <td>0</td>\n",
       "      <td>0</td>\n",
       "      <td>0</td>\n",
       "      <td>1.000000</td>\n",
       "      <td>0.0</td>\n",
       "      <td>0.000000</td>\n",
       "      <td>0.000000</td>\n",
       "      <td>0.0</td>\n",
       "      <td>0.000000</td>\n",
       "      <td>0.000000</td>\n",
       "    </tr>\n",
       "    <tr>\n",
       "      <th>1</th>\n",
       "      <td>1213</td>\n",
       "      <td>0</td>\n",
       "      <td>0</td>\n",
       "      <td>0</td>\n",
       "      <td>0.996667</td>\n",
       "      <td>0.0</td>\n",
       "      <td>0.003333</td>\n",
       "      <td>0.000000</td>\n",
       "      <td>0.0</td>\n",
       "      <td>0.000000</td>\n",
       "      <td>0.000000</td>\n",
       "    </tr>\n",
       "    <tr>\n",
       "      <th>2</th>\n",
       "      <td>1575</td>\n",
       "      <td>0</td>\n",
       "      <td>0</td>\n",
       "      <td>0</td>\n",
       "      <td>0.986667</td>\n",
       "      <td>0.0</td>\n",
       "      <td>0.003333</td>\n",
       "      <td>0.000000</td>\n",
       "      <td>0.0</td>\n",
       "      <td>0.000000</td>\n",
       "      <td>0.010000</td>\n",
       "    </tr>\n",
       "    <tr>\n",
       "      <th>3</th>\n",
       "      <td>352</td>\n",
       "      <td>0</td>\n",
       "      <td>0</td>\n",
       "      <td>0</td>\n",
       "      <td>0.993333</td>\n",
       "      <td>0.0</td>\n",
       "      <td>0.000000</td>\n",
       "      <td>0.003333</td>\n",
       "      <td>0.0</td>\n",
       "      <td>0.000000</td>\n",
       "      <td>0.003333</td>\n",
       "    </tr>\n",
       "    <tr>\n",
       "      <th>4</th>\n",
       "      <td>66</td>\n",
       "      <td>0</td>\n",
       "      <td>0</td>\n",
       "      <td>0</td>\n",
       "      <td>0.996667</td>\n",
       "      <td>0.0</td>\n",
       "      <td>0.000000</td>\n",
       "      <td>0.000000</td>\n",
       "      <td>0.0</td>\n",
       "      <td>0.003333</td>\n",
       "      <td>0.000000</td>\n",
       "    </tr>\n",
       "  </tbody>\n",
       "</table>\n",
       "</div>"
      ],
      "text/plain": [
       "   sequence  truth  prediction  fold        p0   p1        p2        p3   p4  \\\n",
       "0      1204      0           0     0  1.000000  0.0  0.000000  0.000000  0.0   \n",
       "1      1213      0           0     0  0.996667  0.0  0.003333  0.000000  0.0   \n",
       "2      1575      0           0     0  0.986667  0.0  0.003333  0.000000  0.0   \n",
       "3       352      0           0     0  0.993333  0.0  0.000000  0.003333  0.0   \n",
       "4        66      0           0     0  0.996667  0.0  0.000000  0.000000  0.0   \n",
       "\n",
       "         p5        p6  \n",
       "0  0.000000  0.000000  \n",
       "1  0.000000  0.000000  \n",
       "2  0.000000  0.010000  \n",
       "3  0.000000  0.003333  \n",
       "4  0.003333  0.000000  "
      ]
     },
     "execution_count": 39,
     "metadata": {},
     "output_type": "execute_result"
    }
   ],
   "source": [
    "import pandas as pd\n",
    "df = pd.read_csv('results/cv.csv', sep='\\t')\n",
    "df.head()"
   ]
  },
  {
   "cell_type": "code",
   "execution_count": 48,
   "metadata": {},
   "outputs": [],
   "source": [
    "from sklearn.metrics import classification_report,confusion_matrix\n",
    "y_true=df['truth'].tolist()\n",
    "y_pred=df['prediction'].tolist()\n",
    "target_names = ['success', 'noscrew', 'no hole found', 'crossthread',\n",
    "        'stripped no engage',\n",
    "        'stripped',\n",
    "        'partial']"
   ]
  },
  {
   "cell_type": "markdown",
   "metadata": {},
   "source": [
    "#### Confusion Matrix"
   ]
  },
  {
   "cell_type": "code",
   "execution_count": 47,
   "metadata": {},
   "outputs": [
    {
     "data": {
      "text/plain": [
       "array([[1573,    1,    0,    0,    0,    0,    0],\n",
       "       [   0,  181,    0,    0,    0,    0,    0],\n",
       "       [   4,    1,   43,    0,    0,    0,    0],\n",
       "       [   7,    1,    2,   23,    0,    0,    0],\n",
       "       [   0,    0,    5,    0,    0,    0,    0],\n",
       "       [   8,    0,    1,    0,    0,    5,    0],\n",
       "       [   6,    0,    1,    0,    0,    0,    0]])"
      ]
     },
     "execution_count": 47,
     "metadata": {},
     "output_type": "execute_result"
    }
   ],
   "source": [
    "confusion_matrix(y_true,y_pred)"
   ]
  },
  {
   "cell_type": "markdown",
   "metadata": {},
   "source": [
    "#### Classification report"
   ]
  },
  {
   "cell_type": "code",
   "execution_count": 49,
   "metadata": {},
   "outputs": [
    {
     "name": "stdout",
     "output_type": "stream",
     "text": [
      "                    precision    recall  f1-score   support\n",
      "\n",
      "           success       0.98      1.00      0.99      1574\n",
      "           noscrew       0.98      1.00      0.99       181\n",
      "     no hole found       0.83      0.90      0.86        48\n",
      "       crossthread       1.00      0.70      0.82        33\n",
      "stripped no engage       0.00      0.00      0.00         5\n",
      "          stripped       1.00      0.36      0.53        14\n",
      "           partial       0.00      0.00      0.00         7\n",
      "\n",
      "       avg / total       0.97      0.98      0.98      1862\n",
      "\n"
     ]
    },
    {
     "name": "stderr",
     "output_type": "stream",
     "text": [
      "/data/apps/anaconda3/lib/python3.6/site-packages/sklearn/metrics/classification.py:1135: UndefinedMetricWarning: Precision and F-score are ill-defined and being set to 0.0 in labels with no predicted samples.\n",
      "  'precision', 'predicted', average, warn_for)\n"
     ]
    }
   ],
   "source": [
    "print(classification_report(y_true, y_pred, target_names=target_names))"
   ]
  }
 ],
 "metadata": {
  "kernelspec": {
   "display_name": "Python [conda root]",
   "language": "python",
   "name": "conda-root-py"
  },
  "language_info": {
   "codemirror_mode": {
    "name": "ipython",
    "version": 3
   },
   "file_extension": ".py",
   "mimetype": "text/x-python",
   "name": "python",
   "nbconvert_exporter": "python",
   "pygments_lexer": "ipython3",
   "version": "3.6.2"
  }
 },
 "nbformat": 4,
 "nbformat_minor": 2
}
